{
 "cells": [
  {
   "cell_type": "markdown",
   "id": "8e1bf0aa",
   "metadata": {
    "id": "8e1bf0aa"
   },
   "source": [
    "### Shapiro - Wilk Test\n",
    "The Shapiro–Wilk test is essentially a goodness-of-fit test. That is, it examines how close the sample data fit to a normal distribution."
   ]
  },
  {
   "cell_type": "markdown",
   "id": "2118d5e6",
   "metadata": {
    "id": "2118d5e6"
   },
   "source": [
    "Consider the following data does it follow a normal distribution? 75, 97, 70, 25, 80, 40, 82, 72, 82, 46, 72, 64, 24, 66, 78, 34, 37, 64, 75, 94, 76, 96, 88, 37, 29, 51, 67, 45, 69, 59, 81, 66, 30, 52, 66, 85, 80, 74, 69, 83, 66, 84, 76, 73, 77, 85, 72, 71, 71, 75, 59, 84, 65, 64, 86, 58, 85, 61, 79, 61, 68, 61, 60, 78, 76, 80, 57, 75\n",
    "\n",
    "The null and alternate hypothesis of Shapiro-Wilk test are as follows:\n",
    "\n",
    "H0: The data is normally distributed  \n",
    "AGAINST  \n",
    "Ha: The data is not normally distributed"
   ]
  },
  {
   "cell_type": "code",
   "execution_count": null,
   "id": "901911e1",
   "metadata": {
    "colab": {
     "base_uri": "https://localhost:8080/"
    },
    "executionInfo": {
     "elapsed": 1838,
     "status": "ok",
     "timestamp": 1700922981023,
     "user": {
      "displayName": "Jagruti Pawashe",
      "userId": "13553701529318428856"
     },
     "user_tz": -330
    },
    "id": "901911e1",
    "outputId": "017f073b-2d57-4b00-e7f8-4b4b245bf783"
   },
   "outputs": [
    {
     "name": "stdout",
     "output_type": "stream",
     "text": [
      "The test statistic is 0.9307893514633179 and its p-value is 0.0009826984023675323\n"
     ]
    }
   ],
   "source": [
    "import pandas as pd\n",
    "# create the data series\n",
    "data = pd.Series([75, 97, 70, 25, 80, 40, 82, 72, 82, 46, 72, 64, 24, 66, 78, 34, 37,\n",
    "                64, 75, 94, 76, 96, 88, 37, 29, 51, 67, 45, 69, 59, 81, 66, 30, 52,\n",
    "                66, 85, 80, 74, 69, 83, 66, 84, 76, 73, 77, 85, 72, 71, 71, 75, 59,\n",
    "                84, 65, 64, 86, 58, 85, 61, 79, 61, 68, 61, 60, 78, 76, 80, 57, 75])\n",
    "\n",
    "# import shapiro from the scipy library\n",
    "from scipy.stats import shapiro\n",
    "\n",
    "# conduct the normality test\n",
    "stat, p = shapiro(data)\n",
    "\n",
    "print(\"The test statistic is\", stat,\"and its p-value is\",p)"
   ]
  },
  {
   "cell_type": "code",
   "execution_count": null,
   "id": "4850650d",
   "metadata": {
    "id": "4850650d"
   },
   "outputs": [],
   "source": [
    "?shapiro"
   ]
  },
  {
   "cell_type": "markdown",
   "id": "032e76d0",
   "metadata": {
    "id": "032e76d0"
   },
   "source": [
    "Since the p-value (0.00) is less than 0.05 (level of significance), hence we reject H0. We may conclude that the data is not normally distributed."
   ]
  },
  {
   "cell_type": "code",
   "execution_count": null,
   "id": "d882ce46",
   "metadata": {
    "colab": {
     "base_uri": "https://localhost:8080/",
     "height": 631
    },
    "collapsed": true,
    "executionInfo": {
     "elapsed": 1483,
     "status": "ok",
     "timestamp": 1700923115783,
     "user": {
      "displayName": "Jagruti Pawashe",
      "userId": "13553701529318428856"
     },
     "user_tz": -330
    },
    "id": "d882ce46",
    "outputId": "ced0060a-c703-4749-d2b8-2b3c926428df"
   },
   "outputs": [
    {
     "name": "stderr",
     "output_type": "stream",
     "text": [
      "<ipython-input-3-2cbb5890855c>:3: UserWarning: \n",
      "\n",
      "`distplot` is a deprecated function and will be removed in seaborn v0.14.0.\n",
      "\n",
      "Please adapt your code to use either `displot` (a figure-level function with\n",
      "similar flexibility) or `histplot` (an axes-level function for histograms).\n",
      "\n",
      "For a guide to updating your code to use the new functions, please see\n",
      "https://gist.github.com/mwaskom/de44147ed2974457ad6372750bbe5751\n",
      "\n",
      "  sns.distplot(data);\n"
     ]
    },
    {
     "data": {
      "image/png": "[encoded data removed]",
      "text/plain": [
       "<Figure size 640x480 with 1 Axes>"
      ]
     },
     "metadata": {},
     "output_type": "display_data"
    }
   ],
   "source": [
    "import seaborn as sns\n",
    "\n",
    "sns.distplot(data);"
   ]
  },
  {
   "cell_type": "markdown",
   "id": "bbb7b104",
   "metadata": {
    "id": "bbb7b104"
   },
   "source": [
    "Shapiro-Wilk Test Tests whether a data sample has a Gaussian distribution.\n",
    "\n",
    "Assumptions\n",
    "\n",
    "Observations in each sample are independent and identically distributed (iid).\n",
    "\n",
    "Interpretation\n",
    "\n",
    "H0: the sample has a Gaussian distribution.  \n",
    "H1: the sample does not have a Gaussian distribution."
   ]
  },
  {
   "cell_type": "code",
   "execution_count": null,
   "id": "8c7a27b7",
   "metadata": {
    "colab": {
     "base_uri": "https://localhost:8080/"
    },
    "executionInfo": {
     "elapsed": 838,
     "status": "ok",
     "timestamp": 1700923335991,
     "user": {
      "displayName": "Jagruti Pawashe",
      "userId": "13553701529318428856"
     },
     "user_tz": -330
    },
    "id": "8c7a27b7",
    "outputId": "6582f92a-d7a8-4cd6-80b0-903cebb2729b"
   },
   "outputs": [
    {
     "name": "stdout",
     "output_type": "stream",
     "text": [
      "The test statistic is 0.9803876876831055 and its p-value is 0.7039452195167542\n"
     ]
    }
   ],
   "source": [
    "data = [16.0, 16.0, 30.0, 37.0, 25.0, 22.0, 19.0, 35.0, 27.0, 32.0,\n",
    "34.0, 28.0, 24.0, 35.0, 24.0, 21.0, 32.0, 29.0, 24.0, 35.0,\n",
    "28.0, 29.0, 18.0, 31.0, 28.0, 33.0, 32.0, 24.0, 25.0, 22.0,\n",
    "21.0, 27.0, 41.0, 23.0, 23.0, 16.0, 24.0, 38.0, 26.0, 28.0]\n",
    "\n",
    "stat, p = shapiro(data)\n",
    "\n",
    "print(\"The test statistic is\", stat,\"and its p-value is\",p)"
   ]
  },
  {
   "cell_type": "markdown",
   "id": "7d6f7352",
   "metadata": {
    "id": "7d6f7352"
   },
   "source": [
    "Since the p-value (0.70) is greater than 0.05 (level of significance), hence we fail to reject H0. We may conclude that the sample has a Gaussian Distribution.\n",
    "\n"
   ]
  },
  {
   "cell_type": "code",
   "execution_count": null,
   "id": "8f85c67c",
   "metadata": {
    "colab": {
     "base_uri": "https://localhost:8080/",
     "height": 649
    },
    "collapsed": true,
    "executionInfo": {
     "elapsed": 929,
     "status": "ok",
     "timestamp": 1700923396813,
     "user": {
      "displayName": "Jagruti Pawashe",
      "userId": "13553701529318428856"
     },
     "user_tz": -330
    },
    "id": "8f85c67c",
    "outputId": "1389cc01-ef0a-4268-a76c-b4604a88b082"
   },
   "outputs": [
    {
     "name": "stderr",
     "output_type": "stream",
     "text": [
      "<ipython-input-5-40c10e8c4001>:1: UserWarning: \n",
      "\n",
      "`distplot` is a deprecated function and will be removed in seaborn v0.14.0.\n",
      "\n",
      "Please adapt your code to use either `displot` (a figure-level function with\n",
      "similar flexibility) or `histplot` (an axes-level function for histograms).\n",
      "\n",
      "For a guide to updating your code to use the new functions, please see\n",
      "https://gist.github.com/mwaskom/de44147ed2974457ad6372750bbe5751\n",
      "\n",
      "  sns.distplot(data)\n"
     ]
    },
    {
     "data": {
      "text/plain": [
       "<Axes: ylabel='Density'>"
      ]
     },
     "execution_count": 5,
     "metadata": {},
     "output_type": "execute_result"
    },
    {
     "data": {
      "image/png": "[encoded data removed]",
      "text/plain": [
       "<Figure size 640x480 with 1 Axes>"
      ]
     },
     "metadata": {},
     "output_type": "display_data"
    }
   ],
   "source": [
    "sns.distplot(data)"
   ]
  },
  {
   "cell_type": "markdown",
   "id": "b42e6191",
   "metadata": {
    "id": "b42e6191"
   },
   "source": [
    "Pearson’s Correlation Coefficient Tests whether two samples have a linear relationship.\n",
    "\n",
    "Assumptions\n",
    "\n",
    "Observations in each sample are independent and identically distributed (iid). Observations in each sample are normally distributed. Observations in each sample have the same variance.\n",
    "\n",
    "Interpretation\n",
    "\n",
    "H0: the two samples are independent.   \n",
    "H1: there is a dependency between the samples.  "
   ]
  },
  {
   "cell_type": "code",
   "execution_count": null,
   "id": "dc9949ee",
   "metadata": {
    "colab": {
     "base_uri": "https://localhost:8080/",
     "height": 130
    },
    "executionInfo": {
     "elapsed": 2626,
     "status": "ok",
     "timestamp": 1700997871076,
     "user": {
      "displayName": "Jagruti Pawashe",
      "userId": "13553701529318428856"
     },
     "user_tz": -330
    },
    "id": "dc9949ee",
    "outputId": "df5ca725-f996-46a6-b9c4-432305d922b0"
   },
   "outputs": [
    {
     "name": "stdout",
     "output_type": "stream",
     "text": [
      "stat= 0.6879696368388863 p-value= 0.027872969514496172\n"
     ]
    },
    {
     "data": {
      "text/html": [
       "\n",
       "  <div id=\"df-ebfe9a5f-522a-490d-ac15-f810dcb5e624\" class=\"colab-df-container\">\n",
       "    <div>\n",
       "<style scoped>\n",
       "    .dataframe tbody tr th:only-of-type {\n",
       "        vertical-align: middle;\n",
       "    }\n",
       "\n",
       "    .dataframe tbody tr th {\n",
       "        vertical-align: top;\n",
       "    }\n",
       "\n",
       "    .dataframe thead th {\n",
       "        text-align: right;\n",
       "    }\n",
       "</style>\n",
       "<table border=\"1\" class=\"dataframe\">\n",
       "  <thead>\n",
       "    <tr style=\"text-align: right;\">\n",
       "      <th></th>\n",
       "      <th>D1</th>\n",
       "      <th>D2</th>\n",
       "    </tr>\n",
       "  </thead>\n",
       "  <tbody>\n",
       "    <tr>\n",
       "      <th>D1</th>\n",
       "      <td>1.00000</td>\n",
       "      <td>0.68797</td>\n",
       "    </tr>\n",
       "    <tr>\n",
       "      <th>D2</th>\n",
       "      <td>0.68797</td>\n",
       "      <td>1.00000</td>\n",
       "    </tr>\n",
       "  </tbody>\n",
       "</table>\n",
       "</div>\n",
       "    <div class=\"colab-df-buttons\">\n",
       "\n",
       "  <div class=\"colab-df-container\">\n",
       "    <button class=\"colab-df-convert\" onclick=\"convertToInteractive('df-ebfe9a5f-522a-490d-ac15-f810dcb5e624')\"\n",
       "            title=\"Convert this dataframe to an interactive table.\"\n",
       "            style=\"display:none;\">\n",
       "\n",
       "  <svg xmlns=\"http://www.w3.org/2000/svg\" height=\"24px\" viewBox=\"0 -960 960 960\">\n",
       "    <path d=\"M120-120v-720h720v720H120Zm60-500h600v-160H180v160Zm220 220h160v-160H400v160Zm0 220h160v-160H400v160ZM180-400h160v-160H180v160Zm440 0h160v-160H620v160ZM180-180h160v-160H180v160Zm440 0h160v-160H620v160Z\"/>\n",
       "  </svg>\n",
       "    </button>\n",
       "\n",
       "  <style>\n",
       "    .colab-df-container {\n",
       "      display:flex;\n",
       "      gap: 12px;\n",
       "    }\n",
       "\n",
       "    .colab-df-convert {\n",
       "      background-color: #E8F0FE;\n",
       "      border: none;\n",
       "      border-radius: 50%;\n",
       "      cursor: pointer;\n",
       "      display: none;\n",
       "      fill: #1967D2;\n",
       "      height: 32px;\n",
       "      padding: 0 0 0 0;\n",
       "      width: 32px;\n",
       "    }\n",
       "\n",
       "    .colab-df-convert:hover {\n",
       "      background-color: #E2EBFA;\n",
       "      box-shadow: 0px 1px 2px rgba(60, 64, 67, 0.3), 0px 1px 3px 1px rgba(60, 64, 67, 0.15);\n",
       "      fill: #174EA6;\n",
       "    }\n",
       "\n",
       "    .colab-df-buttons div {\n",
       "      margin-bottom: 4px;\n",
       "    }\n",
       "\n",
       "    [theme=dark] .colab-df-convert {\n",
       "      background-color: #3B4455;\n",
       "      fill: #D2E3FC;\n",
       "    }\n",
       "\n",
       "    [theme=dark] .colab-df-convert:hover {\n",
       "      background-color: #434B5C;\n",
       "      box-shadow: 0px 1px 3px 1px rgba(0, 0, 0, 0.15);\n",
       "      filter: drop-shadow(0px 1px 2px rgba(0, 0, 0, 0.3));\n",
       "      fill: #FFFFFF;\n",
       "    }\n",
       "  </style>\n",
       "\n",
       "    <script>\n",
       "      const buttonEl =\n",
       "        document.querySelector('#df-ebfe9a5f-522a-490d-ac15-f810dcb5e624 button.colab-df-convert');\n",
       "      buttonEl.style.display =\n",
       "        google.colab.kernel.accessAllowed ? 'block' : 'none';\n",
       "\n",
       "      async function convertToInteractive(key) {\n",
       "        const element = document.querySelector('#df-ebfe9a5f-522a-490d-ac15-f810dcb5e624');\n",
       "        const dataTable =\n",
       "          await google.colab.kernel.invokeFunction('convertToInteractive',\n",
       "                                                    [key], {});\n",
       "        if (!dataTable) return;\n",
       "\n",
       "        const docLinkHtml = 'Like what you see? Visit the ' +\n",
       "          '<a target=\"_blank\" href=https://colab.research.google.com/notebooks/data_table.ipynb>data table notebook</a>'\n",
       "          + ' to learn more about interactive tables.';\n",
       "        element.innerHTML = '';\n",
       "        dataTable['output_type'] = 'display_data';\n",
       "        await google.colab.output.renderOutput(dataTable, element);\n",
       "        const docLink = document.createElement('div');\n",
       "        docLink.innerHTML = docLinkHtml;\n",
       "        element.appendChild(docLink);\n",
       "      }\n",
       "    </script>\n",
       "  </div>\n",
       "\n",
       "\n",
       "<div id=\"df-6ce28114-36aa-4ae5-97eb-6820b6dd944d\">\n",
       "  <button class=\"colab-df-quickchart\" onclick=\"quickchart('df-6ce28114-36aa-4ae5-97eb-6820b6dd944d')\"\n",
       "            title=\"Suggest charts\"\n",
       "            style=\"display:none;\">\n",
       "\n",
       "<svg xmlns=\"http://www.w3.org/2000/svg\" height=\"24px\"viewBox=\"0 0 24 24\"\n",
       "     width=\"24px\">\n",
       "    <g>\n",
       "        <path d=\"M19 3H5c-1.1 0-2 .9-2 2v14c0 1.1.9 2 2 2h14c1.1 0 2-.9 2-2V5c0-1.1-.9-2-2-2zM9 17H7v-7h2v7zm4 0h-2V7h2v10zm4 0h-2v-4h2v4z\"/>\n",
       "    </g>\n",
       "</svg>\n",
       "  </button>\n",
       "\n",
       "<style>\n",
       "  .colab-df-quickchart {\n",
       "      --bg-color: #E8F0FE;\n",
       "      --fill-color: #1967D2;\n",
       "      --hover-bg-color: #E2EBFA;\n",
       "      --hover-fill-color: #174EA6;\n",
       "      --disabled-fill-color: #AAA;\n",
       "      --disabled-bg-color: #DDD;\n",
       "  }\n",
       "\n",
       "  [theme=dark] .colab-df-quickchart {\n",
       "      --bg-color: #3B4455;\n",
       "      --fill-color: #D2E3FC;\n",
       "      --hover-bg-color: #434B5C;\n",
       "      --hover-fill-color: #FFFFFF;\n",
       "      --disabled-bg-color: #3B4455;\n",
       "      --disabled-fill-color: #666;\n",
       "  }\n",
       "\n",
       "  .colab-df-quickchart {\n",
       "    background-color: var(--bg-color);\n",
       "    border: none;\n",
       "    border-radius: 50%;\n",
       "    cursor: pointer;\n",
       "    display: none;\n",
       "    fill: var(--fill-color);\n",
       "    height: 32px;\n",
       "    padding: 0;\n",
       "    width: 32px;\n",
       "  }\n",
       "\n",
       "  .colab-df-quickchart:hover {\n",
       "    background-color: var(--hover-bg-color);\n",
       "    box-shadow: 0 1px 2px rgba(60, 64, 67, 0.3), 0 1px 3px 1px rgba(60, 64, 67, 0.15);\n",
       "    fill: var(--button-hover-fill-color);\n",
       "  }\n",
       "\n",
       "  .colab-df-quickchart-complete:disabled,\n",
       "  .colab-df-quickchart-complete:disabled:hover {\n",
       "    background-color: var(--disabled-bg-color);\n",
       "    fill: var(--disabled-fill-color);\n",
       "    box-shadow: none;\n",
       "  }\n",
       "\n",
       "  .colab-df-spinner {\n",
       "    border: 2px solid var(--fill-color);\n",
       "    border-color: transparent;\n",
       "    border-bottom-color: var(--fill-color);\n",
       "    animation:\n",
       "      spin 1s steps(1) infinite;\n",
       "  }\n",
       "\n",
       "  @keyframes spin {\n",
       "    0% {\n",
       "      border-color: transparent;\n",
       "      border-bottom-color: var(--fill-color);\n",
       "      border-left-color: var(--fill-color);\n",
       "    }\n",
       "    20% {\n",
       "      border-color: transparent;\n",
       "      border-left-color: var(--fill-color);\n",
       "      border-top-color: var(--fill-color);\n",
       "    }\n",
       "    30% {\n",
       "      border-color: transparent;\n",
       "      border-left-color: var(--fill-color);\n",
       "      border-top-color: var(--fill-color);\n",
       "      border-right-color: var(--fill-color);\n",
       "    }\n",
       "    40% {\n",
       "      border-color: transparent;\n",
       "      border-right-color: var(--fill-color);\n",
       "      border-top-color: var(--fill-color);\n",
       "    }\n",
       "    60% {\n",
       "      border-color: transparent;\n",
       "      border-right-color: var(--fill-color);\n",
       "    }\n",
       "    80% {\n",
       "      border-color: transparent;\n",
       "      border-right-color: var(--fill-color);\n",
       "      border-bottom-color: var(--fill-color);\n",
       "    }\n",
       "    90% {\n",
       "      border-color: transparent;\n",
       "      border-bottom-color: var(--fill-color);\n",
       "    }\n",
       "  }\n",
       "</style>\n",
       "\n",
       "  <script>\n",
       "    async function quickchart(key) {\n",
       "      const quickchartButtonEl =\n",
       "        document.querySelector('#' + key + ' button');\n",
       "      quickchartButtonEl.disabled = true;  // To prevent multiple clicks.\n",
       "      quickchartButtonEl.classList.add('colab-df-spinner');\n",
       "      try {\n",
       "        const charts = await google.colab.kernel.invokeFunction(\n",
       "            'suggestCharts', [key], {});\n",
       "      } catch (error) {\n",
       "        console.error('Error during call to suggestCharts:', error);\n",
       "      }\n",
       "      quickchartButtonEl.classList.remove('colab-df-spinner');\n",
       "      quickchartButtonEl.classList.add('colab-df-quickchart-complete');\n",
       "    }\n",
       "    (() => {\n",
       "      let quickchartButtonEl =\n",
       "        document.querySelector('#df-6ce28114-36aa-4ae5-97eb-6820b6dd944d button');\n",
       "      quickchartButtonEl.style.display =\n",
       "        google.colab.kernel.accessAllowed ? 'block' : 'none';\n",
       "    })();\n",
       "  </script>\n",
       "</div>\n",
       "    </div>\n",
       "  </div>\n"
      ],
      "text/plain": [
       "         D1       D2\n",
       "D1  1.00000  0.68797\n",
       "D2  0.68797  1.00000"
      ]
     },
     "execution_count": 1,
     "metadata": {},
     "output_type": "execute_result"
    }
   ],
   "source": [
    "from scipy.stats import pearsonr\n",
    "data1 = [0.873, 2.817, 0.121, -0.945, -0.055, -1.436, 0.360, -1.478,\n",
    "         -1.637, -1.869]\n",
    "data2 = [0.353, 3.517, 0.125, -7.545, -0.555, -1.536, 3.350, -1.578,\n",
    "         -3.537, -1.579]\n",
    "stat, p = pearsonr(data1, data2)\n",
    "print(\"stat=\",stat, \"p-value=\", p)\n",
    "\n",
    "#Correlation matrix\n",
    "import pandas as pd\n",
    "df1=pd.Series(data1)\n",
    "df2=pd.Series(data2)\n",
    "new_df=pd.concat([df1,df2], axis=1)\n",
    "new_df.columns=[\"D1\",\"D2\"]\n",
    "new_df.corr(method=\"pearson\")"
   ]
  },
  {
   "cell_type": "code",
   "execution_count": null,
   "id": "4308520a",
   "metadata": {
    "id": "4308520a"
   },
   "outputs": [],
   "source": [
    "new_df.columns=[\"D1\",\"D2\"]"
   ]
  },
  {
   "cell_type": "markdown",
   "id": "afcfda3d",
   "metadata": {
    "id": "afcfda3d"
   },
   "source": [
    "### T-test\n",
    " A t-test is a type of inferential statistic which is used to determine if there is a significant difference between the means of two groups which may be related in certain features.T test is used as a hypothesis testing tool, which allows testing of an assumption applicable to a population."
   ]
  },
  {
   "cell_type": "markdown",
   "id": "83b72c17",
   "metadata": {
    "id": "83b72c17"
   },
   "source": [
    "One sample t-test : The One Sample t Test determines whether the sample mean is statistically different from a known or hypothesised population mean. The One Sample t Test is a parametric test.\n",
    "\n",
    "You have the below ages and you are checking whether avg age is 30 or not.\n",
    "\n",
    "H0--> m=30\n",
    "\n",
    "H1--> m!=30"
   ]
  },
  {
   "cell_type": "code",
   "execution_count": null,
   "id": "dce452b3",
   "metadata": {
    "colab": {
     "base_uri": "https://localhost:8080/"
    },
    "executionInfo": {
     "elapsed": 1748,
     "status": "ok",
     "timestamp": 1701003452634,
     "user": {
      "displayName": "Jagruti Pawashe",
      "userId": "13553701529318428856"
     },
     "user_tz": -330
    },
    "id": "dce452b3",
    "outputId": "48140912-802a-476f-89d5-ebbf20cabdfd"
   },
   "outputs": [
    {
     "name": "stdout",
     "output_type": "stream",
     "text": [
      "31.0\n",
      "p-values 0.28025779440856896\n"
     ]
    }
   ],
   "source": [
    "from scipy.stats import ttest_1samp\n",
    "import numpy as np\n",
    "ages=[32,34,29,29,22,39,38,37,38,36,30,26,22,22]\n",
    "\n",
    "ages_mean = np.mean(ages)\n",
    "print(ages_mean)\n",
    "\n",
    "tset, pval = ttest_1samp(ages,30)\n",
    "print(\"p-values\",pval/2)"
   ]
  },
  {
   "cell_type": "markdown",
   "id": "4b0f016c",
   "metadata": {
    "id": "4b0f016c"
   },
   "source": [
    "The p-value (0.28) is greater than (0.025), so we fail to reject the null hypothesis. So we can say that avg age of the students is equals to 30."
   ]
  },
  {
   "cell_type": "markdown",
   "id": "331dc4e7",
   "metadata": {
    "id": "331dc4e7"
   },
   "source": [
    "Systolic blood pressures of 14 patients are given below:\n",
    "\n",
    "183, 152, 178, 157, 194, 163, 144, 114, 178, 152, 118, 158, 172, 138\n",
    "\n",
    "Test, whether the population mean, is less than 165\n",
    "\n",
    "Hypothesis\n",
    "\n",
    "H0: The average systolic B.P. will be <= 165 i.e., μ <= 165\n",
    "\n",
    "H1: The average systolic B.P. greater than 165. i.e., μ > 165"
   ]
  },
  {
   "cell_type": "code",
   "execution_count": null,
   "id": "5699c4d1",
   "metadata": {
    "colab": {
     "base_uri": "https://localhost:8080/"
    },
    "executionInfo": {
     "elapsed": 451,
     "status": "ok",
     "timestamp": 1701003837049,
     "user": {
      "displayName": "Jagruti Pawashe",
      "userId": "13553701529318428856"
     },
     "user_tz": -330
    },
    "id": "5699c4d1",
    "outputId": "b22f98b9-e6ca-4f0d-b432-cf54d32ed5b4"
   },
   "outputs": [
    {
     "name": "stdout",
     "output_type": "stream",
     "text": [
      "157.73333333333332\n",
      "-1.241456478400175\n",
      "0.23483536904594376\n"
     ]
    }
   ],
   "source": [
    "sys_bp=[183, 152, 178, 157, 194, 163, 144, 114, 178, 152, 118, 158, 172, 138,165]\n",
    "print(np.mean(sys_bp))\n",
    "mu=165\n",
    "from scipy import stats\n",
    "t_value,p_value=stats.ttest_1samp(sys_bp,mu)\n",
    "print(t_value)\n",
    "print(p_value)"
   ]
  },
  {
   "cell_type": "code",
   "execution_count": null,
   "id": "eddf1f2f",
   "metadata": {
    "id": "eddf1f2f"
   },
   "outputs": [],
   "source": [
    "?ttest_1samp"
   ]
  },
  {
   "cell_type": "markdown",
   "id": "4eafa2c5",
   "metadata": {
    "id": "4eafa2c5"
   },
   "source": [
    "ClickDart is an e-commerce company. It claims that the product will be delivered within 30 days of placing the order. The data is given below that contains the delivery time of 40 products. The population mean is 30 and the population standard deviation of the delivery time is 12.5 days.\n",
    "\n",
    "data = [16.0, 16.0, 30.0, 37.0, 25.0, 22.0, 19.0, 35.0, 27.0, 32.0, 34.0, 28.0, 24.0, 35.0, 24.0, 21.0, 32.0, 29.0, 24.0, 35.0, 28.0, 29.0, 18.0, 31.0, 28.0, 33.0, 32.0, 24.0, 25.0, 22.0, 21.0, 27.0, 41.0, 23.0, 23.0, 16.0, 24.0, 38.0, 26.0, 28.0]\n",
    "\n",
    "Conduct a hypothesis test at significance level a = 0.05 to verify the claim made by the e-commerce company 'ClickDart'.\n",
    "\n",
    "Let us first define the hypothesis. If m is population mean, that is; mean delivery time then\n",
    "\n",
    "H0 : m <= 30  \n",
    "HA : m > 30"
   ]
  },
  {
   "cell_type": "code",
   "execution_count": null,
   "id": "5d7bfb7b",
   "metadata": {
    "colab": {
     "base_uri": "https://localhost:8080/"
    },
    "executionInfo": {
     "elapsed": 669,
     "status": "ok",
     "timestamp": 1701004343100,
     "user": {
      "displayName": "Jagruti Pawashe",
      "userId": "13553701529318428856"
     },
     "user_tz": -330
    },
    "id": "5d7bfb7b",
    "outputId": "35ce0f40-8371-4436-eb46-0dad36424a14"
   },
   "outputs": [
    {
     "name": "stdout",
     "output_type": "stream",
     "text": [
      "27.05\n",
      "0.004855140822005159\n"
     ]
    }
   ],
   "source": [
    "data = [16.0, 16.0, 30.0, 37.0, 25.0, 22.0, 19.0, 35.0, 27.0, 32.0,\n",
    "34.0, 28.0, 24.0, 35.0, 24.0, 21.0, 32.0, 29.0, 24.0, 35.0,\n",
    "28.0, 29.0, 18.0, 31.0, 28.0, 33.0, 32.0, 24.0, 25.0, 22.0,\n",
    "21.0, 27.0, 41.0, 23.0, 23.0, 16.0, 24.0, 38.0, 26.0, 28.0]\n",
    "# Population mean\n",
    "pop_mean = 30\n",
    "\n",
    "# Population Standard Deviation\n",
    "pop_std = 12.5\n",
    "\n",
    "# Sample mean\n",
    "sample_mean = np.mean(data)\n",
    "print(sample_mean)\n",
    "\n",
    "t_value,p_value=stats.ttest_1samp(data,30)\n",
    "print(p_value)"
   ]
  },
  {
   "cell_type": "code",
   "execution_count": null,
   "id": "d5868d62",
   "metadata": {
    "id": "d5868d62"
   },
   "outputs": [],
   "source": []
  },
  {
   "cell_type": "markdown",
   "id": "b3cddf7d",
   "metadata": {
    "id": "b3cddf7d"
   },
   "source": [
    "Glitch Productions (GP) is a newly formed movie production house based out of Atlanta. GP was interested in understanding the production cost required for producing a Hollywood movie. The industry believes that the production house will require 70 million dollars on average. It is assumed that the Hollywood movie production cost follows a normal distribution. The production costs of 40 Hollywood movies in millions of dollars are given below.\n",
    "\n",
    "data = [81, 89, 53, 56, 77, 58, 78, 45, 62, 55, 72, 8, 10, 16, 8, 33, 36, 32, 66, 62, 48, 84, 67, 91, 62, 46, 89, 99, 92, 77, 29, 66, 44, 26, 66, 67,25, 35, 57, 63]\n",
    "\n",
    "Conduct an appropriate hypothesis test at a = 0.05 to check whether the belief about average production cost is correct. Let us first define the hypothesis. If m is population mean, that is, the production cost\n",
    "\n",
    "H0 : m = 70   \n",
    "HA : m ≠ 70"
   ]
  },
  {
   "cell_type": "code",
   "execution_count": null,
   "id": "64fbd73f",
   "metadata": {
    "colab": {
     "base_uri": "https://localhost:8080/"
    },
    "executionInfo": {
     "elapsed": 403,
     "status": "ok",
     "timestamp": 1701004702122,
     "user": {
      "displayName": "Jagruti Pawashe",
      "userId": "13553701529318428856"
     },
     "user_tz": -330
    },
    "id": "64fbd73f",
    "outputId": "ebf44d1b-3c05-4c25-bb33-1e3ed62b874f"
   },
   "outputs": [
    {
     "name": "stdout",
     "output_type": "stream",
     "text": [
      "p-value 0.00036708492893624975\n"
     ]
    }
   ],
   "source": [
    "data = [81, 89, 53, 56, 77, 58, 78, 45, 62, 55, 72, 8, 10,\n",
    "        16, 8, 33, 36, 32, 66, 62, 48, 84, 67, 91, 62, 46,\n",
    "        89, 99, 92, 77, 29, 66, 44, 26, 66, 67,25, 35, 57, 63]\n",
    "\n",
    "stat,p_val=stats.ttest_1samp(data, 70)\n",
    "\n",
    "print('p-value',p_val/2)"
   ]
  },
  {
   "cell_type": "markdown",
   "id": "ee1a9846",
   "metadata": {
    "id": "ee1a9846"
   },
   "source": [
    "Two sampled t-test Tests whether the means of two independent samples are significantly different.\n",
    "\n",
    "Assumptions\n",
    "\n",
    "Observations in each sample are independent and identically distributed (iid). Observations in each sample are normally distributed. Observations in each sample have the same variance.\n",
    "\n",
    "Interpretation\n",
    "\n",
    "H0: the means of the samples are equal.\n",
    "\n",
    "H1: the means of the samples are unequal."
   ]
  },
  {
   "cell_type": "code",
   "execution_count": null,
   "id": "9c007480",
   "metadata": {
    "colab": {
     "base_uri": "https://localhost:8080/"
    },
    "executionInfo": {
     "elapsed": 16,
     "status": "ok",
     "timestamp": 1701005012815,
     "user": {
      "displayName": "Jagruti Pawashe",
      "userId": "13553701529318428856"
     },
     "user_tz": -330
    },
    "id": "9c007480",
    "outputId": "eafa93e7-0fc8-4e4c-d9d6-cf6e6bd7d4b6"
   },
   "outputs": [
    {
     "name": "stdout",
     "output_type": "stream",
     "text": [
      "0.7484698873615687\n"
     ]
    }
   ],
   "source": [
    "import numpy as np\n",
    "from scipy.stats import ttest_ind\n",
    "data1 = [0.873, 2.817, 0.121, -0.945, -0.055, -1.436, 0.360, -1.478,\n",
    "         -1.637, -1.869]\n",
    "data2 = [1.142, -0.432, -0.938, -0.729, -0.846, -0.157, 0.500,\n",
    "         1.183, -1.075, -0.169]\n",
    "#print(np.mean(data1))\n",
    "#print(np.mean(data2))\n",
    "stat, p = ttest_ind(data1, data2)\n",
    "print(p)"
   ]
  },
  {
   "cell_type": "code",
   "execution_count": null,
   "id": "6da23ff1",
   "metadata": {
    "id": "6da23ff1"
   },
   "outputs": [],
   "source": []
  },
  {
   "cell_type": "markdown",
   "id": "dff89bc0",
   "metadata": {
    "id": "dff89bc0"
   },
   "source": [
    "Compare the effectiveness of ammonium chloride and urea, on the grain yield of paddy, an experiment was conducted. The results are given below:\n",
    "\n",
    "Ammonium chloride (X1) 13.4 10.9 11.2 11.8 14 15.3 14.2 12.6 17 16.2 16.5 15.7\n",
    "\n",
    "Urea (X2) 12 11.7 10.7 11.2 14.8 14.4 13.9 13.7 16.9 16 15.6 16\n",
    "\n",
    "Hypothesis\n",
    "\n",
    "H0: The effect of ammonium chloride and urea on grain yield of paddy are equal i.e., μ1 = μ2\n",
    "\n",
    "H1: The effect of ammonium chloride and urea on grain yield of paddy is not equal i.e., μ1 ≠ μ2"
   ]
  },
  {
   "cell_type": "code",
   "execution_count": null,
   "id": "6ef818c1",
   "metadata": {
    "colab": {
     "base_uri": "https://localhost:8080/"
    },
    "executionInfo": {
     "elapsed": 427,
     "status": "ok",
     "timestamp": 1701005353964,
     "user": {
      "displayName": "Jagruti Pawashe",
      "userId": "13553701529318428856"
     },
     "user_tz": -330
    },
    "id": "6ef818c1",
    "outputId": "14a65d4a-0557-486e-db97-360120b5870e"
   },
   "outputs": [
    {
     "name": "stdout",
     "output_type": "stream",
     "text": [
      "0.8551954147800473\n"
     ]
    }
   ],
   "source": [
    "Ammonium_chloride=[13.4,10.9,11.2,11.8,14,15.3,14.2,12.6,17,16.2,16.5,15.7]\n",
    "Urea=[12,11.7,10.7,11.2,14.8,14.4,13.9,13.7,16.9,16,15.6,16]\n",
    "\n",
    "t_value,p_value=ttest_ind(Ammonium_chloride,Urea)\n",
    "print(p_value)"
   ]
  },
  {
   "cell_type": "code",
   "execution_count": null,
   "id": "1469ef27",
   "metadata": {
    "id": "1469ef27"
   },
   "outputs": [],
   "source": []
  },
  {
   "cell_type": "markdown",
   "id": "4571bd75",
   "metadata": {
    "id": "4571bd75"
   },
   "source": [
    "Paired Student’s t-test Tests whether the means of two paired samples are significantly different.\n",
    "\n",
    "Assumptions\n",
    "\n",
    "Observations in each sample are independent and identically distributed (iid). Observations in each sample are normally distributed. Observations in each sample have the same variance. Observations across each sample are paired.\n",
    "\n",
    "Interpretation\n",
    "\n",
    "H0: the means of the samples are equal.\n",
    "\n",
    "H1: the means of the samples are unequal."
   ]
  },
  {
   "cell_type": "code",
   "execution_count": null,
   "id": "e84cbc37",
   "metadata": {
    "colab": {
     "base_uri": "https://localhost:8080/"
    },
    "executionInfo": {
     "elapsed": 398,
     "status": "ok",
     "timestamp": 1701005628635,
     "user": {
      "displayName": "Jagruti Pawashe",
      "userId": "13553701529318428856"
     },
     "user_tz": -330
    },
    "id": "e84cbc37",
    "outputId": "cec9e8d7-81c7-46aa-d239-e9d548a1ebb3"
   },
   "outputs": [
    {
     "name": "stdout",
     "output_type": "stream",
     "text": [
      "0.7459078283577478\n"
     ]
    }
   ],
   "source": [
    "from scipy.stats import ttest_rel\n",
    "data1 = [0.873, 2.817, 0.121, -0.945, -0.055, -1.436, 0.360, -1.478,\n",
    "         -1.637, -1.869]\n",
    "data2 = [1.142, -0.432, -0.938, -0.729, -0.846, -0.157, 0.500,\n",
    "         1.183, -1.075, -0.169]\n",
    "stat, p = ttest_rel(data1, data2)\n",
    "print(p)"
   ]
  },
  {
   "cell_type": "code",
   "execution_count": null,
   "id": "44dc5cbe",
   "metadata": {
    "id": "44dc5cbe"
   },
   "outputs": [],
   "source": []
  },
  {
   "cell_type": "markdown",
   "id": "16729b0c",
   "metadata": {
    "id": "16729b0c"
   },
   "source": [
    "Eleven schoolboys were given a test in Statistics. They were given a Month’s tuition and a second test were held at the end of it. Do the marks give evidence that the students have benefited from the exam coaching?\n",
    "\n",
    "Marks in 1st test: 23 20 19 21 18 20 18 17 23 16 19\n",
    "\n",
    "Marks in 2nd test: 24 19 22 18 20 22 20 20 23 20 18\n",
    "\n",
    "Hypothesis\n",
    "\n",
    "H0: The students have not benefited from the tuition class. i.e., d = 0\n",
    "\n",
    "H1: The students have benefited from the tuition class. i.e., d != 0\n",
    "\n",
    "Where, d = x-y; d is the difference between marks in the first test (say x) and marks in the second test (say y)."
   ]
  },
  {
   "cell_type": "code",
   "execution_count": null,
   "id": "a5916dbc",
   "metadata": {
    "id": "a5916dbc",
    "outputId": "3c0350b7-5cec-4a5c-bf71-58fd5aecb1c5"
   },
   "outputs": [
    {
     "name": "stdout",
     "output_type": "stream",
     "text": [
      "0.11856467647601138\n"
     ]
    }
   ],
   "source": [
    "first_test =[23, 20, 19, 21, 18, 20, 18, 17, 23, 16, 19]\n",
    "second_test=[24, 19, 22, 18, 20, 22, 20, 20, 23, 20, 18]\n",
    "\n",
    "t_value,p_value=ttest_rel(first_test,second_test)\n",
    "print(p_value)"
   ]
  },
  {
   "cell_type": "code",
   "execution_count": null,
   "id": "1cb66db7",
   "metadata": {
    "id": "1cb66db7"
   },
   "outputs": [],
   "source": []
  },
  {
   "cell_type": "markdown",
   "id": "d150c1c0",
   "metadata": {
    "id": "d150c1c0"
   },
   "source": [
    "<table align=\"left\">\n",
    "    <tr>\n",
    "        <td width=\"6%\">\n",
    "            <img src=\"scala_q.png\">\n",
    "        </td>\n",
    "        <td>\n",
    "            <div align=\"left\", style=\"font-size:120%\">\n",
    "                <font color=\"#21618C\">\n",
    "                    <b>Tesco Pharma claims to have produced a new drug which reduces the systolic Blood Pressure after usage of a week.\n",
    "\n",
    "The BP of 8 patients are recorded before medication and after medication. Do the data suggest that the drug is effective in reducing the systolic blood pressure?\n",
    "</b>\n",
    "                </font>\n",
    "            </div>\n",
    "        </td>\n",
    "    </tr>\n",
    "</table>\n",
    "\n",
    "<table>\n",
    "    <tr>\n",
    "        <th>Before</th>\n",
    "            <th>After</th>\n",
    "            </tr>\n",
    "    <tr>\n",
    "        <td>90</td>\n",
    "        <td>85</td>\n",
    "    </tr>\n",
    "    <tr>\n",
    "        <td>85</td>\n",
    "        <td>87</td>\n",
    "    </tr>\n",
    "    <tr>\n",
    "        <td>78</td>\n",
    "        <td>82</td>\n",
    "    </tr>\n",
    "     <tr>\n",
    "        <td>88</td>\n",
    "        <td>83</td>\n",
    "    </tr>\n",
    "    <tr>\n",
    "        <td>90</td>\n",
    "        <td>82</td>\n",
    "    </tr>\n",
    "    <tr>\n",
    "        <td>100</td>\n",
    "        <td>99</td>\n",
    "    </tr>\n",
    "    <tr>\n",
    "        <td>92</td>\n",
    "        <td>94</td>\n",
    "    </tr>\n",
    "    <tr>\n",
    "        <td>81</td>\n",
    "        <td>78</td>\n",
    "    </tr>\n",
    "       </table>\n",
    "       \n",
    "H0: The average BP after medication is less than average BP before medication  \n",
    "H1: The average BP after medication is greater than average BP before medication\n",
    "\n",
    "       "
   ]
  },
  {
   "cell_type": "code",
   "execution_count": null,
   "id": "55d05917",
   "metadata": {
    "id": "55d05917",
    "outputId": "569d879e-e227-4a7a-c7c7-6a546187e5c4"
   },
   "outputs": [
    {
     "name": "stdout",
     "output_type": "stream",
     "text": [
      "0.27713277282901\n"
     ]
    }
   ],
   "source": [
    "# create the data\n",
    "# blood pressure before medication\n",
    "import pandas as pd\n",
    "BP_before = pd.Series([90, 85, 78, 88, 90, 100, 92, 81])\n",
    "\n",
    "# blood pressure after medication\n",
    "BP_after = pd.Series([85, 87, 82, 83, 82, 99, 94, 78])\n",
    "\n",
    "# conduct the paired t-test\n",
    "stat,p_value=ttest_rel(BP_before, BP_after)\n",
    "print(p_value)"
   ]
  },
  {
   "cell_type": "markdown",
   "id": "022f4708",
   "metadata": {
    "id": "022f4708"
   },
   "source": [
    "Since the p-value (0.277) is more than 0.05 (level of significance), hence we fail to reject H0. We may conclude that the medication is effective."
   ]
  },
  {
   "cell_type": "code",
   "execution_count": null,
   "id": "9dff13fe",
   "metadata": {
    "id": "9dff13fe"
   },
   "outputs": [],
   "source": []
  },
  {
   "cell_type": "markdown",
   "id": "e501afc9",
   "metadata": {
    "id": "e501afc9"
   },
   "source": [
    "A researcher at BioSeed limited, claims to have modified the existing seed. The yeild for the two types of seeds is recorded for 10 equally sized farms. Is there enough evidence to claim that the there is no difference in the yeild due to the seed type? Yield due to   \n",
    "Ordinary Seed: 450, 340, 562, 563, 234, 546, 876, 649, 736, 745\n",
    "\n",
    "Yield due to Modified Seed: 345, 576, 675, 674, 865, 457, 776, 567, 568, 753\n",
    "\n",
    "H0 : The mean yield of both types of seeds is same  \n",
    "Ha : The means yield of both types of seeds is different"
   ]
  },
  {
   "cell_type": "code",
   "execution_count": null,
   "id": "ddf10cd6",
   "metadata": {
    "colab": {
     "base_uri": "https://localhost:8080/"
    },
    "executionInfo": {
     "elapsed": 407,
     "status": "ok",
     "timestamp": 1701006596729,
     "user": {
      "displayName": "Jagruti Pawashe",
      "userId": "13553701529318428856"
     },
     "user_tz": -330
    },
    "id": "ddf10cd6",
    "outputId": "4d7d7eb2-d69b-4462-c76d-9278bfa1e6b8"
   },
   "outputs": [
    {
     "name": "stdout",
     "output_type": "stream",
     "text": [
      "0.4892561782804804\n"
     ]
    }
   ],
   "source": [
    "# create the data series\n",
    "# yield due to Ordinary Seed\n",
    "ordinary_seed = pd.Series([450, 340, 562, 563, 234, 546, 876, 649, 736, 745])\n",
    "\n",
    "# yield due to Modified Seed\n",
    "modified_seed = pd.Series([345, 576, 675, 674, 865, 457, 776, 567, 568, 753])\n",
    "\n",
    "# conduct the paired t-test\n",
    "stat,pval=ttest_ind(ordinary_seed, modified_seed)\n",
    "print(pval)"
   ]
  },
  {
   "cell_type": "code",
   "execution_count": null,
   "id": "08c04e20",
   "metadata": {
    "id": "08c04e20"
   },
   "outputs": [],
   "source": []
  },
  {
   "cell_type": "markdown",
   "id": "1d9f5edc",
   "metadata": {
    "id": "1d9f5edc"
   },
   "source": [
    "Suppose a botanist wants to know if the mean height of a certain species of plant is equal to 15 inches. She collects a random sample of 12 plants and records each of their heights in inches.\n",
    "\n",
    "data = [14, 14, 16, 13, 12, 17, 15, 14, 15, 13, 15, 14]"
   ]
  },
  {
   "cell_type": "code",
   "execution_count": null,
   "id": "20c79730",
   "metadata": {
    "id": "20c79730"
   },
   "outputs": [],
   "source": []
  },
  {
   "cell_type": "markdown",
   "id": "f93aa6a1",
   "metadata": {
    "id": "f93aa6a1"
   },
   "source": [
    "Suppose we want to know whether a certain study program significantly impacts student performance on a particular exam. To test this, we have 15 students in a class take a pre-test. Then, we have each of the students participate in the study program for two weeks. Then, the students retake a test of similar difficulty.\n",
    "\n",
    "pre = [88, 82, 84, 93, 75, 78, 84, 87, 95, 91, 83, 89, 77, 68, 91]\n",
    "\n",
    "\n",
    "post = [91, 84, 88, 90, 79, 80, 88, 90, 90, 96, 88, 89, 81, 74, 92]"
   ]
  },
  {
   "cell_type": "code",
   "execution_count": null,
   "id": "81e9ce5e",
   "metadata": {
    "id": "81e9ce5e"
   },
   "outputs": [],
   "source": []
  },
  {
   "cell_type": "markdown",
   "id": "590eaf7f",
   "metadata": {
    "id": "590eaf7f"
   },
   "source": [
    "Researchers want to know whether or not two different species of plants have the same mean height. To test this, they collect a simple random sample of 20 plants from each species.\n",
    "\n",
    "group1 = np.array([14, 15, 15, 16, 13, 8, 14, 17, 16, 14, 19, 20, 21, 15, 15, 16, 16, 13, 14, 12])\n",
    "\n",
    "group2 = np.array([15, 17, 14, 17, 14, 8, 12, 19, 19, 14, 17, 22, 24, 16, 13, 16, 13, 18, 15, 13])\n"
   ]
  },
  {
   "cell_type": "code",
   "execution_count": null,
   "id": "ce9508bb",
   "metadata": {
    "id": "ce9508bb"
   },
   "outputs": [],
   "source": []
  },
  {
   "cell_type": "code",
   "execution_count": null,
   "id": "5309f45f",
   "metadata": {
    "id": "5309f45f"
   },
   "outputs": [],
   "source": []
  },
  {
   "cell_type": "markdown",
   "id": "a48a0de5",
   "metadata": {
    "id": "a48a0de5"
   },
   "source": [
    "### Z-test\n",
    "A z test in statistics is conducted on data that is normally distributed to test if the means of two datasets are equal. It can be performed when the sample size is greater than 30 and the population variance is known."
   ]
  },
  {
   "cell_type": "markdown",
   "id": "980b37c0",
   "metadata": {
    "id": "980b37c0"
   },
   "source": [
    "### One Sample Z-Test in Python\n",
    "\n",
    "A one-sample z test is used when the population standard deviation is known, to compare the sample mean and the population mean.\n"
   ]
  },
  {
   "cell_type": "markdown",
   "id": "0958741a",
   "metadata": {
    "id": "0958741a"
   },
   "source": [
    "Suppose the IQ in a certain population is normally distributed with a mean of μ = 100 and standard deviation of σ = 15.\n",
    "A researcher wants to know if a new drug affects IQ levels, so he recruits 20 patients to try it and records their IQ levels.\n",
    "data = [88, 92, 94, 94, 96, 97, 97, 97, 99, 99, 105, 109, 109, 109, 110, 112, 112, 113, 114, 115]\n",
    "\n",
    "H0 : The new drug has a significant effect on the mean IQ level\n",
    "\n",
    "H1 : The new drug has no effect on the mean IQ level"
   ]
  },
  {
   "cell_type": "code",
   "execution_count": null,
   "id": "10cb7ea4",
   "metadata": {
    "colab": {
     "base_uri": "https://localhost:8080/"
    },
    "executionInfo": {
     "elapsed": 397,
     "status": "ok",
     "timestamp": 1701007797307,
     "user": {
      "displayName": "Jagruti Pawashe",
      "userId": "13553701529318428856"
     },
     "user_tz": -330
    },
    "id": "10cb7ea4",
    "outputId": "3b530138-df57-47cc-90b8-be78ea0d62de"
   },
   "outputs": [
    {
     "name": "stdout",
     "output_type": "stream",
     "text": [
      "0.0550633350719213\n"
     ]
    }
   ],
   "source": [
    "from statsmodels.stats.weightstats import ztest\n",
    "\n",
    "#enter IQ levels for 20 patients\n",
    "data = [88, 92, 94, 94, 96, 97, 97, 97, 99, 99,\n",
    "        105, 109, 109, 109, 110, 112, 112, 113, 114, 115]\n",
    "\n",
    "#perform one sample z-test\n",
    "stat,p_value=ztest(data, value=100)\n",
    "print(p_value/2)"
   ]
  },
  {
   "cell_type": "markdown",
   "id": "TAtkSql_9494",
   "metadata": {
    "id": "TAtkSql_9494"
   },
   "source": [
    "The p-value(0.055) is greater than 0.025 which states that the new drug has a significant effect on the mean IQ level."
   ]
  },
  {
   "cell_type": "markdown",
   "id": "41081b5d",
   "metadata": {
    "id": "41081b5d"
   },
   "source": [
    "### Two Sample Z-Test in Python\n",
    "The two sample z test is used when the means of two populations have to be compared."
   ]
  },
  {
   "cell_type": "markdown",
   "id": "30e78995",
   "metadata": {
    "id": "30e78995"
   },
   "source": [
    "Suppose the IQ levels among individuals in two different cities are known to be normally distributed with known standard deviations.\n",
    "\n",
    "A researcher wants to know if the mean IQ level between individuals in city A and city B are different, so she selects a simple random sample of 20 individuals from each city and records their IQ levels.\n",
    "\n",
    "cityA = [82, 84, 85, 89, 91, 91, 92, 94, 99, 99, 105, 109, 109, 109, 110, 112, 112, 113, 114, 114]\n",
    "\n",
    "cityB = [90, 91, 91, 91, 95, 95, 99, 99, 108, 109, 109, 114, 115, 116, 117, 117, 128, 129, 130, 133]\n",
    "\n",
    "H0 : The mean IQ levels of individuals in both cities are equal\n",
    "\n",
    "H1 : The mean IQ levels of individuals in both cities are significantly different"
   ]
  },
  {
   "cell_type": "code",
   "execution_count": null,
   "id": "3ecde586",
   "metadata": {
    "colab": {
     "base_uri": "https://localhost:8080/"
    },
    "executionInfo": {
     "elapsed": 459,
     "status": "ok",
     "timestamp": 1701008109758,
     "user": {
      "displayName": "Jagruti Pawashe",
      "userId": "13553701529318428856"
     },
     "user_tz": -330
    },
    "id": "3ecde586",
    "outputId": "604050f5-a5e2-4ad8-8daa-5b24c8d564da"
   },
   "outputs": [
    {
     "name": "stdout",
     "output_type": "stream",
     "text": [
      "0.046007596761332065\n"
     ]
    }
   ],
   "source": [
    "from statsmodels.stats.weightstats import ztest\n",
    "\n",
    "#enter IQ levels for 20 individuals from each city\n",
    "cityA = [82, 84, 85, 89, 91, 91, 92, 94, 99, 99,\n",
    "         105, 109, 109, 109, 110, 112, 112, 113, 114, 114]\n",
    "\n",
    "cityB = [90, 91, 91, 91, 95, 95, 99, 99, 108, 109,\n",
    "         109, 114, 115, 116, 117, 117, 128, 129, 130, 133]\n",
    "\n",
    "#perform two sample z-test\n",
    "stat,p_value=ztest(cityA, cityB)\n",
    "print(p_value)"
   ]
  },
  {
   "cell_type": "code",
   "execution_count": null,
   "id": "bf034b38",
   "metadata": {
    "id": "bf034b38"
   },
   "outputs": [],
   "source": []
  },
  {
   "cell_type": "code",
   "execution_count": null,
   "id": "083a4936",
   "metadata": {
    "id": "083a4936"
   },
   "outputs": [],
   "source": []
  },
  {
   "cell_type": "markdown",
   "id": "3a16d221",
   "metadata": {
    "id": "3a16d221"
   },
   "source": [
    "### ANOVA\n",
    "Analysis of variance (ANOVA) is a statistical technique used to check if the means of two or more groups are significantly different from each other. ANOVA checks the impact of one or more factors by comparing the means of different samples."
   ]
  },
  {
   "cell_type": "markdown",
   "id": "0e100311",
   "metadata": {
    "id": "0e100311"
   },
   "source": [
    "#### One-Way ANOVA in Python\n",
    "\n",
    "A researcher recruits 30 students to participate in a study. The students are randomly assigned to use one of three studying techniques for the next two weeks to prepare for an exam. At the end of the two weeks, all of the students take the same test.\n",
    "\n",
    "A one-way ANOVA uses the following null and alternative hypotheses:\n",
    "\n",
    "H0 (null hypothesis): μ1 = μ2 = μ3 = … = μk (all the population means are equal)\n",
    "\n",
    "H1 (alternate hypothesis): at least one population mean is different from the rest"
   ]
  },
  {
   "cell_type": "code",
   "execution_count": 1,
   "id": "27e0ff88",
   "metadata": {
    "colab": {
     "base_uri": "https://localhost:8080/"
    },
    "executionInfo": {
     "elapsed": 1021,
     "status": "ok",
     "timestamp": 1701518553081,
     "user": {
      "displayName": "Jagruti Pawashe",
      "userId": "13553701529318428856"
     },
     "user_tz": -330
    },
    "id": "27e0ff88",
    "outputId": "9cbb4b1c-6dbf-4c39-ba31-eed124a4888e"
   },
   "outputs": [
    {
     "name": "stdout",
     "output_type": "stream",
     "text": [
      "0.11384795345837218\n"
     ]
    }
   ],
   "source": [
    "import pandas as pd\n",
    "import numpy as np\n",
    "\n",
    "#H0:The studying techniques have no effect on the scores obtained in the test\n",
    "#H1:The studying techniques have an effect on the scores obtained in the test\n",
    "\n",
    "#enter exam scores for each group\n",
    "group1 = [85, 86, 88, 75, 78, 94, 98, 79, 71, 80]\n",
    "group2 = [91, 92, 93, 85, 87, 84, 82, 88, 95, 96]\n",
    "group3 = [79, 78, 88, 94, 92, 85, 83, 85, 82, 81]\n",
    "from scipy.stats import f_oneway\n",
    "#perform one-way ANOVA\n",
    "stat,p_value=f_oneway(group1, group2, group3)\n",
    "print(p_value)"
   ]
  },
  {
   "cell_type": "code",
   "execution_count": 2,
   "id": "60e8b7df",
   "metadata": {
    "colab": {
     "base_uri": "https://localhost:8080/"
    },
    "executionInfo": {
     "elapsed": 413,
     "status": "ok",
     "timestamp": 1701518951149,
     "user": {
      "displayName": "Jagruti Pawashe",
      "userId": "13553701529318428856"
     },
     "user_tz": -330
    },
    "id": "60e8b7df",
    "outputId": "e2c40662-fad2-44a1-e202-09a64b528a3a"
   },
   "outputs": [
    {
     "data": {
      "text/plain": [
       "F_onewayResult(statistic=4.625000000000002, pvalue=0.016336459839780215)"
      ]
     },
     "execution_count": 2,
     "metadata": {},
     "output_type": "execute_result"
    }
   ],
   "source": [
    "#We are trying to measure the performance of the cars based on the\n",
    "#different engine being used to identify if there is an impact\n",
    "#of type of oil on the performance.\n",
    "#H0: There is no impact of type of oil on the performance of the cars\n",
    "#H1: There is an impact of type of oil on the performance of the cars\n",
    "#H0: m1=m2=m3=m4\n",
    "#H1: atleast one group shows mean difference\n",
    "\n",
    "# Performance when each of the engine oil is applied\n",
    "performance1 = [89, 89, 88, 78, 79]\n",
    "performance2 = [93, 92, 94, 89, 88]\n",
    "performance3 = [89, 88, 89, 93, 90]\n",
    "performance4 = [81, 78, 81, 92, 82]\n",
    "\n",
    "# Conduct the one-way ANOVA\n",
    "f_oneway(performance1, performance2, performance3, performance4)"
   ]
  },
  {
   "cell_type": "markdown",
   "id": "b6031c30",
   "metadata": {
    "id": "b6031c30"
   },
   "source": [
    "As the p-value(0.016) obtained above is lower than 0.05, so we are rejecting the null hypotheses. Which states that  there is an impact of type of oil on the car performance."
   ]
  },
  {
   "cell_type": "code",
   "execution_count": 3,
   "id": "28a195f8",
   "metadata": {
    "colab": {
     "base_uri": "https://localhost:8080/",
     "height": 676
    },
    "collapsed": true,
    "executionInfo": {
     "elapsed": 407,
     "status": "ok",
     "timestamp": 1701519224867,
     "user": {
      "displayName": "Jagruti Pawashe",
      "userId": "13553701529318428856"
     },
     "user_tz": -330
    },
    "id": "28a195f8",
    "outputId": "34de99fd-4464-4672-ad75-fbc8692d9d14"
   },
   "outputs": [
    {
     "data": {
      "text/html": [
       "\n",
       "  <div id=\"df-d79a8d32-89d7-4091-badb-b7bb451ebdde\" class=\"colab-df-container\">\n",
       "    <div>\n",
       "<style scoped>\n",
       "    .dataframe tbody tr th:only-of-type {\n",
       "        vertical-align: middle;\n",
       "    }\n",
       "\n",
       "    .dataframe tbody tr th {\n",
       "        vertical-align: top;\n",
       "    }\n",
       "\n",
       "    .dataframe thead th {\n",
       "        text-align: right;\n",
       "    }\n",
       "</style>\n",
       "<table border=\"1\" class=\"dataframe\">\n",
       "  <thead>\n",
       "    <tr style=\"text-align: right;\">\n",
       "      <th></th>\n",
       "      <th>performance</th>\n",
       "      <th>oil</th>\n",
       "    </tr>\n",
       "  </thead>\n",
       "  <tbody>\n",
       "    <tr>\n",
       "      <th>0</th>\n",
       "      <td>89</td>\n",
       "      <td>o1</td>\n",
       "    </tr>\n",
       "    <tr>\n",
       "      <th>1</th>\n",
       "      <td>89</td>\n",
       "      <td>o1</td>\n",
       "    </tr>\n",
       "    <tr>\n",
       "      <th>2</th>\n",
       "      <td>88</td>\n",
       "      <td>o1</td>\n",
       "    </tr>\n",
       "    <tr>\n",
       "      <th>3</th>\n",
       "      <td>78</td>\n",
       "      <td>o1</td>\n",
       "    </tr>\n",
       "    <tr>\n",
       "      <th>4</th>\n",
       "      <td>79</td>\n",
       "      <td>o1</td>\n",
       "    </tr>\n",
       "    <tr>\n",
       "      <th>5</th>\n",
       "      <td>93</td>\n",
       "      <td>o2</td>\n",
       "    </tr>\n",
       "    <tr>\n",
       "      <th>6</th>\n",
       "      <td>92</td>\n",
       "      <td>o2</td>\n",
       "    </tr>\n",
       "    <tr>\n",
       "      <th>7</th>\n",
       "      <td>94</td>\n",
       "      <td>o2</td>\n",
       "    </tr>\n",
       "    <tr>\n",
       "      <th>8</th>\n",
       "      <td>89</td>\n",
       "      <td>o2</td>\n",
       "    </tr>\n",
       "    <tr>\n",
       "      <th>9</th>\n",
       "      <td>88</td>\n",
       "      <td>o2</td>\n",
       "    </tr>\n",
       "    <tr>\n",
       "      <th>10</th>\n",
       "      <td>89</td>\n",
       "      <td>o3</td>\n",
       "    </tr>\n",
       "    <tr>\n",
       "      <th>11</th>\n",
       "      <td>88</td>\n",
       "      <td>o3</td>\n",
       "    </tr>\n",
       "    <tr>\n",
       "      <th>12</th>\n",
       "      <td>89</td>\n",
       "      <td>o3</td>\n",
       "    </tr>\n",
       "    <tr>\n",
       "      <th>13</th>\n",
       "      <td>93</td>\n",
       "      <td>o3</td>\n",
       "    </tr>\n",
       "    <tr>\n",
       "      <th>14</th>\n",
       "      <td>90</td>\n",
       "      <td>o3</td>\n",
       "    </tr>\n",
       "    <tr>\n",
       "      <th>15</th>\n",
       "      <td>81</td>\n",
       "      <td>o4</td>\n",
       "    </tr>\n",
       "    <tr>\n",
       "      <th>16</th>\n",
       "      <td>78</td>\n",
       "      <td>o4</td>\n",
       "    </tr>\n",
       "    <tr>\n",
       "      <th>17</th>\n",
       "      <td>81</td>\n",
       "      <td>o4</td>\n",
       "    </tr>\n",
       "    <tr>\n",
       "      <th>18</th>\n",
       "      <td>92</td>\n",
       "      <td>o4</td>\n",
       "    </tr>\n",
       "    <tr>\n",
       "      <th>19</th>\n",
       "      <td>82</td>\n",
       "      <td>o4</td>\n",
       "    </tr>\n",
       "  </tbody>\n",
       "</table>\n",
       "</div>\n",
       "    <div class=\"colab-df-buttons\">\n",
       "\n",
       "  <div class=\"colab-df-container\">\n",
       "    <button class=\"colab-df-convert\" onclick=\"convertToInteractive('df-d79a8d32-89d7-4091-badb-b7bb451ebdde')\"\n",
       "            title=\"Convert this dataframe to an interactive table.\"\n",
       "            style=\"display:none;\">\n",
       "\n",
       "  <svg xmlns=\"http://www.w3.org/2000/svg\" height=\"24px\" viewBox=\"0 -960 960 960\">\n",
       "    <path d=\"M120-120v-720h720v720H120Zm60-500h600v-160H180v160Zm220 220h160v-160H400v160Zm0 220h160v-160H400v160ZM180-400h160v-160H180v160Zm440 0h160v-160H620v160ZM180-180h160v-160H180v160Zm440 0h160v-160H620v160Z\"/>\n",
       "  </svg>\n",
       "    </button>\n",
       "\n",
       "  <style>\n",
       "    .colab-df-container {\n",
       "      display:flex;\n",
       "      gap: 12px;\n",
       "    }\n",
       "\n",
       "    .colab-df-convert {\n",
       "      background-color: #E8F0FE;\n",
       "      border: none;\n",
       "      border-radius: 50%;\n",
       "      cursor: pointer;\n",
       "      display: none;\n",
       "      fill: #1967D2;\n",
       "      height: 32px;\n",
       "      padding: 0 0 0 0;\n",
       "      width: 32px;\n",
       "    }\n",
       "\n",
       "    .colab-df-convert:hover {\n",
       "      background-color: #E2EBFA;\n",
       "      box-shadow: 0px 1px 2px rgba(60, 64, 67, 0.3), 0px 1px 3px 1px rgba(60, 64, 67, 0.15);\n",
       "      fill: #174EA6;\n",
       "    }\n",
       "\n",
       "    .colab-df-buttons div {\n",
       "      margin-bottom: 4px;\n",
       "    }\n",
       "\n",
       "    [theme=dark] .colab-df-convert {\n",
       "      background-color: #3B4455;\n",
       "      fill: #D2E3FC;\n",
       "    }\n",
       "\n",
       "    [theme=dark] .colab-df-convert:hover {\n",
       "      background-color: #434B5C;\n",
       "      box-shadow: 0px 1px 3px 1px rgba(0, 0, 0, 0.15);\n",
       "      filter: drop-shadow(0px 1px 2px rgba(0, 0, 0, 0.3));\n",
       "      fill: #FFFFFF;\n",
       "    }\n",
       "  </style>\n",
       "\n",
       "    <script>\n",
       "      const buttonEl =\n",
       "        document.querySelector('#df-d79a8d32-89d7-4091-badb-b7bb451ebdde button.colab-df-convert');\n",
       "      buttonEl.style.display =\n",
       "        google.colab.kernel.accessAllowed ? 'block' : 'none';\n",
       "\n",
       "      async function convertToInteractive(key) {\n",
       "        const element = document.querySelector('#df-d79a8d32-89d7-4091-badb-b7bb451ebdde');\n",
       "        const dataTable =\n",
       "          await google.colab.kernel.invokeFunction('convertToInteractive',\n",
       "                                                    [key], {});\n",
       "        if (!dataTable) return;\n",
       "\n",
       "        const docLinkHtml = 'Like what you see? Visit the ' +\n",
       "          '<a target=\"_blank\" href=https://colab.research.google.com/notebooks/data_table.ipynb>data table notebook</a>'\n",
       "          + ' to learn more about interactive tables.';\n",
       "        element.innerHTML = '';\n",
       "        dataTable['output_type'] = 'display_data';\n",
       "        await google.colab.output.renderOutput(dataTable, element);\n",
       "        const docLink = document.createElement('div');\n",
       "        docLink.innerHTML = docLinkHtml;\n",
       "        element.appendChild(docLink);\n",
       "      }\n",
       "    </script>\n",
       "  </div>\n",
       "\n",
       "\n",
       "<div id=\"df-604b0b38-e008-4010-9ff7-be47a88f7f88\">\n",
       "  <button class=\"colab-df-quickchart\" onclick=\"quickchart('df-604b0b38-e008-4010-9ff7-be47a88f7f88')\"\n",
       "            title=\"Suggest charts\"\n",
       "            style=\"display:none;\">\n",
       "\n",
       "<svg xmlns=\"http://www.w3.org/2000/svg\" height=\"24px\"viewBox=\"0 0 24 24\"\n",
       "     width=\"24px\">\n",
       "    <g>\n",
       "        <path d=\"M19 3H5c-1.1 0-2 .9-2 2v14c0 1.1.9 2 2 2h14c1.1 0 2-.9 2-2V5c0-1.1-.9-2-2-2zM9 17H7v-7h2v7zm4 0h-2V7h2v10zm4 0h-2v-4h2v4z\"/>\n",
       "    </g>\n",
       "</svg>\n",
       "  </button>\n",
       "\n",
       "<style>\n",
       "  .colab-df-quickchart {\n",
       "      --bg-color: #E8F0FE;\n",
       "      --fill-color: #1967D2;\n",
       "      --hover-bg-color: #E2EBFA;\n",
       "      --hover-fill-color: #174EA6;\n",
       "      --disabled-fill-color: #AAA;\n",
       "      --disabled-bg-color: #DDD;\n",
       "  }\n",
       "\n",
       "  [theme=dark] .colab-df-quickchart {\n",
       "      --bg-color: #3B4455;\n",
       "      --fill-color: #D2E3FC;\n",
       "      --hover-bg-color: #434B5C;\n",
       "      --hover-fill-color: #FFFFFF;\n",
       "      --disabled-bg-color: #3B4455;\n",
       "      --disabled-fill-color: #666;\n",
       "  }\n",
       "\n",
       "  .colab-df-quickchart {\n",
       "    background-color: var(--bg-color);\n",
       "    border: none;\n",
       "    border-radius: 50%;\n",
       "    cursor: pointer;\n",
       "    display: none;\n",
       "    fill: var(--fill-color);\n",
       "    height: 32px;\n",
       "    padding: 0;\n",
       "    width: 32px;\n",
       "  }\n",
       "\n",
       "  .colab-df-quickchart:hover {\n",
       "    background-color: var(--hover-bg-color);\n",
       "    box-shadow: 0 1px 2px rgba(60, 64, 67, 0.3), 0 1px 3px 1px rgba(60, 64, 67, 0.15);\n",
       "    fill: var(--button-hover-fill-color);\n",
       "  }\n",
       "\n",
       "  .colab-df-quickchart-complete:disabled,\n",
       "  .colab-df-quickchart-complete:disabled:hover {\n",
       "    background-color: var(--disabled-bg-color);\n",
       "    fill: var(--disabled-fill-color);\n",
       "    box-shadow: none;\n",
       "  }\n",
       "\n",
       "  .colab-df-spinner {\n",
       "    border: 2px solid var(--fill-color);\n",
       "    border-color: transparent;\n",
       "    border-bottom-color: var(--fill-color);\n",
       "    animation:\n",
       "      spin 1s steps(1) infinite;\n",
       "  }\n",
       "\n",
       "  @keyframes spin {\n",
       "    0% {\n",
       "      border-color: transparent;\n",
       "      border-bottom-color: var(--fill-color);\n",
       "      border-left-color: var(--fill-color);\n",
       "    }\n",
       "    20% {\n",
       "      border-color: transparent;\n",
       "      border-left-color: var(--fill-color);\n",
       "      border-top-color: var(--fill-color);\n",
       "    }\n",
       "    30% {\n",
       "      border-color: transparent;\n",
       "      border-left-color: var(--fill-color);\n",
       "      border-top-color: var(--fill-color);\n",
       "      border-right-color: var(--fill-color);\n",
       "    }\n",
       "    40% {\n",
       "      border-color: transparent;\n",
       "      border-right-color: var(--fill-color);\n",
       "      border-top-color: var(--fill-color);\n",
       "    }\n",
       "    60% {\n",
       "      border-color: transparent;\n",
       "      border-right-color: var(--fill-color);\n",
       "    }\n",
       "    80% {\n",
       "      border-color: transparent;\n",
       "      border-right-color: var(--fill-color);\n",
       "      border-bottom-color: var(--fill-color);\n",
       "    }\n",
       "    90% {\n",
       "      border-color: transparent;\n",
       "      border-bottom-color: var(--fill-color);\n",
       "    }\n",
       "  }\n",
       "</style>\n",
       "\n",
       "  <script>\n",
       "    async function quickchart(key) {\n",
       "      const quickchartButtonEl =\n",
       "        document.querySelector('#' + key + ' button');\n",
       "      quickchartButtonEl.disabled = true;  // To prevent multiple clicks.\n",
       "      quickchartButtonEl.classList.add('colab-df-spinner');\n",
       "      try {\n",
       "        const charts = await google.colab.kernel.invokeFunction(\n",
       "            'suggestCharts', [key], {});\n",
       "      } catch (error) {\n",
       "        console.error('Error during call to suggestCharts:', error);\n",
       "      }\n",
       "      quickchartButtonEl.classList.remove('colab-df-spinner');\n",
       "      quickchartButtonEl.classList.add('colab-df-quickchart-complete');\n",
       "    }\n",
       "    (() => {\n",
       "      let quickchartButtonEl =\n",
       "        document.querySelector('#df-604b0b38-e008-4010-9ff7-be47a88f7f88 button');\n",
       "      quickchartButtonEl.style.display =\n",
       "        google.colab.kernel.accessAllowed ? 'block' : 'none';\n",
       "    })();\n",
       "  </script>\n",
       "</div>\n",
       "    </div>\n",
       "  </div>\n"
      ],
      "text/plain": [
       "    performance oil\n",
       "0            89  o1\n",
       "1            89  o1\n",
       "2            88  o1\n",
       "3            78  o1\n",
       "4            79  o1\n",
       "5            93  o2\n",
       "6            92  o2\n",
       "7            94  o2\n",
       "8            89  o2\n",
       "9            88  o2\n",
       "10           89  o3\n",
       "11           88  o3\n",
       "12           89  o3\n",
       "13           93  o3\n",
       "14           90  o3\n",
       "15           81  o4\n",
       "16           78  o4\n",
       "17           81  o4\n",
       "18           92  o4\n",
       "19           82  o4"
      ]
     },
     "execution_count": 3,
     "metadata": {},
     "output_type": "execute_result"
    }
   ],
   "source": [
    "df = pd.DataFrame({'performance': [89, 89, 88, 78, 79,93, 92, 94, 89, 88,89,\n",
    "                                   88, 89, 93, 90,81, 78, 81, 92, 82],\n",
    "                   'oil': np.repeat(['o1','o2','o3','o4'], repeats=5)})\n",
    "df"
   ]
  },
  {
   "cell_type": "code",
   "execution_count": 4,
   "id": "f978a965",
   "metadata": {
    "colab": {
     "base_uri": "https://localhost:8080/"
    },
    "collapsed": true,
    "executionInfo": {
     "elapsed": 692,
     "status": "ok",
     "timestamp": 1701519410439,
     "user": {
      "displayName": "Jagruti Pawashe",
      "userId": "13553701529318428856"
     },
     "user_tz": -330
    },
    "id": "f978a965",
    "outputId": "6b71c1b2-083e-406c-bbc9-6e6ab6390db5"
   },
   "outputs": [
    {
     "name": "stdout",
     "output_type": "stream",
     "text": [
      " Multiple Comparison of Means - Tukey HSD, FWER=0.05 \n",
      "=====================================================\n",
      "group1 group2 meandiff p-adj   lower    upper  reject\n",
      "-----------------------------------------------------\n",
      "    o1     o2      6.6 0.1003  -0.9911 14.1911  False\n",
      "    o1     o3      5.2 0.2436  -2.3911 12.7911  False\n",
      "    o1     o4     -1.8 0.9038  -9.3911  5.7911  False\n",
      "    o2     o3     -1.4 0.9511  -8.9911  6.1911  False\n",
      "    o2     o4     -8.4 0.0276 -15.9911 -0.8089   True\n",
      "    o3     o4     -7.0 0.0761 -14.5911  0.5911  False\n",
      "-----------------------------------------------------\n"
     ]
    }
   ],
   "source": [
    "from statsmodels.stats.multicomp import pairwise_tukeyhsd\n",
    "\n",
    "tukey = pairwise_tukeyhsd(df['performance'],\n",
    "                          groups=df['oil'],\n",
    "                          alpha=0.05)\n",
    "\n",
    "#display results\n",
    "print(tukey)"
   ]
  },
  {
   "cell_type": "code",
   "execution_count": 5,
   "id": "fa7fcdec",
   "metadata": {
    "colab": {
     "base_uri": "https://localhost:8080/"
    },
    "collapsed": true,
    "executionInfo": {
     "elapsed": 390,
     "status": "ok",
     "timestamp": 1701519620967,
     "user": {
      "displayName": "Jagruti Pawashe",
      "userId": "13553701529318428856"
     },
     "user_tz": -330
    },
    "id": "fa7fcdec",
    "outputId": "f0565e8e-db68-4a2d-b7b0-ca4aac817700"
   },
   "outputs": [
    {
     "data": {
      "text/plain": [
       "oil\n",
       "o1    84.6\n",
       "o2    91.2\n",
       "o3    89.8\n",
       "o4    82.8\n",
       "Name: performance, dtype: float64"
      ]
     },
     "execution_count": 5,
     "metadata": {},
     "output_type": "execute_result"
    }
   ],
   "source": [
    "df.groupby([\"oil\"])[\"performance\"].mean()"
   ]
  },
  {
   "cell_type": "code",
   "execution_count": 6,
   "id": "A8Y9kEjFe4xU",
   "metadata": {
    "colab": {
     "base_uri": "https://localhost:8080/"
    },
    "executionInfo": {
     "elapsed": 21920,
     "status": "ok",
     "timestamp": 1701519820082,
     "user": {
      "displayName": "Jagruti Pawashe",
      "userId": "13553701529318428856"
     },
     "user_tz": -330
    },
    "id": "A8Y9kEjFe4xU",
    "outputId": "9e5b2b9c-c03f-403a-8060-78fe330773f1"
   },
   "outputs": [
    {
     "name": "stdout",
     "output_type": "stream",
     "text": [
      "Mounted at /content/drive\n"
     ]
    }
   ],
   "source": [
    "from google.colab import drive\n",
    "drive.mount('/content/drive')"
   ]
  },
  {
   "cell_type": "code",
   "execution_count": 7,
   "id": "2d72c2a1",
   "metadata": {
    "colab": {
     "base_uri": "https://localhost:8080/",
     "height": 423
    },
    "collapsed": true,
    "executionInfo": {
     "elapsed": 872,
     "status": "ok",
     "timestamp": 1701519871380,
     "user": {
      "displayName": "Jagruti Pawashe",
      "userId": "13553701529318428856"
     },
     "user_tz": -330
    },
    "id": "2d72c2a1",
    "outputId": "bb10a973-36a5-47d1-ed0c-80be01f0b3d0"
   },
   "outputs": [
    {
     "data": {
      "text/html": [
       "\n",
       "  <div id=\"df-7702140b-f6df-4f52-9c6d-6c6ec8a96db0\" class=\"colab-df-container\">\n",
       "    <div>\n",
       "<style scoped>\n",
       "    .dataframe tbody tr th:only-of-type {\n",
       "        vertical-align: middle;\n",
       "    }\n",
       "\n",
       "    .dataframe tbody tr th {\n",
       "        vertical-align: top;\n",
       "    }\n",
       "\n",
       "    .dataframe thead th {\n",
       "        text-align: right;\n",
       "    }\n",
       "</style>\n",
       "<table border=\"1\" class=\"dataframe\">\n",
       "  <thead>\n",
       "    <tr style=\"text-align: right;\">\n",
       "      <th></th>\n",
       "      <th>density</th>\n",
       "      <th>block</th>\n",
       "      <th>fertilizer</th>\n",
       "      <th>yield</th>\n",
       "    </tr>\n",
       "  </thead>\n",
       "  <tbody>\n",
       "    <tr>\n",
       "      <th>0</th>\n",
       "      <td>1</td>\n",
       "      <td>1</td>\n",
       "      <td>1</td>\n",
       "      <td>177.228692</td>\n",
       "    </tr>\n",
       "    <tr>\n",
       "      <th>1</th>\n",
       "      <td>2</td>\n",
       "      <td>2</td>\n",
       "      <td>1</td>\n",
       "      <td>177.550041</td>\n",
       "    </tr>\n",
       "    <tr>\n",
       "      <th>2</th>\n",
       "      <td>1</td>\n",
       "      <td>3</td>\n",
       "      <td>1</td>\n",
       "      <td>176.408462</td>\n",
       "    </tr>\n",
       "    <tr>\n",
       "      <th>3</th>\n",
       "      <td>2</td>\n",
       "      <td>4</td>\n",
       "      <td>1</td>\n",
       "      <td>177.703625</td>\n",
       "    </tr>\n",
       "    <tr>\n",
       "      <th>4</th>\n",
       "      <td>1</td>\n",
       "      <td>1</td>\n",
       "      <td>1</td>\n",
       "      <td>177.125486</td>\n",
       "    </tr>\n",
       "    <tr>\n",
       "      <th>...</th>\n",
       "      <td>...</td>\n",
       "      <td>...</td>\n",
       "      <td>...</td>\n",
       "      <td>...</td>\n",
       "    </tr>\n",
       "    <tr>\n",
       "      <th>91</th>\n",
       "      <td>2</td>\n",
       "      <td>4</td>\n",
       "      <td>3</td>\n",
       "      <td>177.405292</td>\n",
       "    </tr>\n",
       "    <tr>\n",
       "      <th>92</th>\n",
       "      <td>1</td>\n",
       "      <td>1</td>\n",
       "      <td>3</td>\n",
       "      <td>178.141644</td>\n",
       "    </tr>\n",
       "    <tr>\n",
       "      <th>93</th>\n",
       "      <td>2</td>\n",
       "      <td>2</td>\n",
       "      <td>3</td>\n",
       "      <td>177.710613</td>\n",
       "    </tr>\n",
       "    <tr>\n",
       "      <th>94</th>\n",
       "      <td>1</td>\n",
       "      <td>3</td>\n",
       "      <td>3</td>\n",
       "      <td>177.687264</td>\n",
       "    </tr>\n",
       "    <tr>\n",
       "      <th>95</th>\n",
       "      <td>2</td>\n",
       "      <td>4</td>\n",
       "      <td>3</td>\n",
       "      <td>177.118176</td>\n",
       "    </tr>\n",
       "  </tbody>\n",
       "</table>\n",
       "<p>96 rows × 4 columns</p>\n",
       "</div>\n",
       "    <div class=\"colab-df-buttons\">\n",
       "\n",
       "  <div class=\"colab-df-container\">\n",
       "    <button class=\"colab-df-convert\" onclick=\"convertToInteractive('df-7702140b-f6df-4f52-9c6d-6c6ec8a96db0')\"\n",
       "            title=\"Convert this dataframe to an interactive table.\"\n",
       "            style=\"display:none;\">\n",
       "\n",
       "  <svg xmlns=\"http://www.w3.org/2000/svg\" height=\"24px\" viewBox=\"0 -960 960 960\">\n",
       "    <path d=\"M120-120v-720h720v720H120Zm60-500h600v-160H180v160Zm220 220h160v-160H400v160Zm0 220h160v-160H400v160ZM180-400h160v-160H180v160Zm440 0h160v-160H620v160ZM180-180h160v-160H180v160Zm440 0h160v-160H620v160Z\"/>\n",
       "  </svg>\n",
       "    </button>\n",
       "\n",
       "  <style>\n",
       "    .colab-df-container {\n",
       "      display:flex;\n",
       "      gap: 12px;\n",
       "    }\n",
       "\n",
       "    .colab-df-convert {\n",
       "      background-color: #E8F0FE;\n",
       "      border: none;\n",
       "      border-radius: 50%;\n",
       "      cursor: pointer;\n",
       "      display: none;\n",
       "      fill: #1967D2;\n",
       "      height: 32px;\n",
       "      padding: 0 0 0 0;\n",
       "      width: 32px;\n",
       "    }\n",
       "\n",
       "    .colab-df-convert:hover {\n",
       "      background-color: #E2EBFA;\n",
       "      box-shadow: 0px 1px 2px rgba(60, 64, 67, 0.3), 0px 1px 3px 1px rgba(60, 64, 67, 0.15);\n",
       "      fill: #174EA6;\n",
       "    }\n",
       "\n",
       "    .colab-df-buttons div {\n",
       "      margin-bottom: 4px;\n",
       "    }\n",
       "\n",
       "    [theme=dark] .colab-df-convert {\n",
       "      background-color: #3B4455;\n",
       "      fill: #D2E3FC;\n",
       "    }\n",
       "\n",
       "    [theme=dark] .colab-df-convert:hover {\n",
       "      background-color: #434B5C;\n",
       "      box-shadow: 0px 1px 3px 1px rgba(0, 0, 0, 0.15);\n",
       "      filter: drop-shadow(0px 1px 2px rgba(0, 0, 0, 0.3));\n",
       "      fill: #FFFFFF;\n",
       "    }\n",
       "  </style>\n",
       "\n",
       "    <script>\n",
       "      const buttonEl =\n",
       "        document.querySelector('#df-7702140b-f6df-4f52-9c6d-6c6ec8a96db0 button.colab-df-convert');\n",
       "      buttonEl.style.display =\n",
       "        google.colab.kernel.accessAllowed ? 'block' : 'none';\n",
       "\n",
       "      async function convertToInteractive(key) {\n",
       "        const element = document.querySelector('#df-7702140b-f6df-4f52-9c6d-6c6ec8a96db0');\n",
       "        const dataTable =\n",
       "          await google.colab.kernel.invokeFunction('convertToInteractive',\n",
       "                                                    [key], {});\n",
       "        if (!dataTable) return;\n",
       "\n",
       "        const docLinkHtml = 'Like what you see? Visit the ' +\n",
       "          '<a target=\"_blank\" href=https://colab.research.google.com/notebooks/data_table.ipynb>data table notebook</a>'\n",
       "          + ' to learn more about interactive tables.';\n",
       "        element.innerHTML = '';\n",
       "        dataTable['output_type'] = 'display_data';\n",
       "        await google.colab.output.renderOutput(dataTable, element);\n",
       "        const docLink = document.createElement('div');\n",
       "        docLink.innerHTML = docLinkHtml;\n",
       "        element.appendChild(docLink);\n",
       "      }\n",
       "    </script>\n",
       "  </div>\n",
       "\n",
       "\n",
       "<div id=\"df-b082c78f-cc81-433c-b0b6-3b42cc2daa43\">\n",
       "  <button class=\"colab-df-quickchart\" onclick=\"quickchart('df-b082c78f-cc81-433c-b0b6-3b42cc2daa43')\"\n",
       "            title=\"Suggest charts\"\n",
       "            style=\"display:none;\">\n",
       "\n",
       "<svg xmlns=\"http://www.w3.org/2000/svg\" height=\"24px\"viewBox=\"0 0 24 24\"\n",
       "     width=\"24px\">\n",
       "    <g>\n",
       "        <path d=\"M19 3H5c-1.1 0-2 .9-2 2v14c0 1.1.9 2 2 2h14c1.1 0 2-.9 2-2V5c0-1.1-.9-2-2-2zM9 17H7v-7h2v7zm4 0h-2V7h2v10zm4 0h-2v-4h2v4z\"/>\n",
       "    </g>\n",
       "</svg>\n",
       "  </button>\n",
       "\n",
       "<style>\n",
       "  .colab-df-quickchart {\n",
       "      --bg-color: #E8F0FE;\n",
       "      --fill-color: #1967D2;\n",
       "      --hover-bg-color: #E2EBFA;\n",
       "      --hover-fill-color: #174EA6;\n",
       "      --disabled-fill-color: #AAA;\n",
       "      --disabled-bg-color: #DDD;\n",
       "  }\n",
       "\n",
       "  [theme=dark] .colab-df-quickchart {\n",
       "      --bg-color: #3B4455;\n",
       "      --fill-color: #D2E3FC;\n",
       "      --hover-bg-color: #434B5C;\n",
       "      --hover-fill-color: #FFFFFF;\n",
       "      --disabled-bg-color: #3B4455;\n",
       "      --disabled-fill-color: #666;\n",
       "  }\n",
       "\n",
       "  .colab-df-quickchart {\n",
       "    background-color: var(--bg-color);\n",
       "    border: none;\n",
       "    border-radius: 50%;\n",
       "    cursor: pointer;\n",
       "    display: none;\n",
       "    fill: var(--fill-color);\n",
       "    height: 32px;\n",
       "    padding: 0;\n",
       "    width: 32px;\n",
       "  }\n",
       "\n",
       "  .colab-df-quickchart:hover {\n",
       "    background-color: var(--hover-bg-color);\n",
       "    box-shadow: 0 1px 2px rgba(60, 64, 67, 0.3), 0 1px 3px 1px rgba(60, 64, 67, 0.15);\n",
       "    fill: var(--button-hover-fill-color);\n",
       "  }\n",
       "\n",
       "  .colab-df-quickchart-complete:disabled,\n",
       "  .colab-df-quickchart-complete:disabled:hover {\n",
       "    background-color: var(--disabled-bg-color);\n",
       "    fill: var(--disabled-fill-color);\n",
       "    box-shadow: none;\n",
       "  }\n",
       "\n",
       "  .colab-df-spinner {\n",
       "    border: 2px solid var(--fill-color);\n",
       "    border-color: transparent;\n",
       "    border-bottom-color: var(--fill-color);\n",
       "    animation:\n",
       "      spin 1s steps(1) infinite;\n",
       "  }\n",
       "\n",
       "  @keyframes spin {\n",
       "    0% {\n",
       "      border-color: transparent;\n",
       "      border-bottom-color: var(--fill-color);\n",
       "      border-left-color: var(--fill-color);\n",
       "    }\n",
       "    20% {\n",
       "      border-color: transparent;\n",
       "      border-left-color: var(--fill-color);\n",
       "      border-top-color: var(--fill-color);\n",
       "    }\n",
       "    30% {\n",
       "      border-color: transparent;\n",
       "      border-left-color: var(--fill-color);\n",
       "      border-top-color: var(--fill-color);\n",
       "      border-right-color: var(--fill-color);\n",
       "    }\n",
       "    40% {\n",
       "      border-color: transparent;\n",
       "      border-right-color: var(--fill-color);\n",
       "      border-top-color: var(--fill-color);\n",
       "    }\n",
       "    60% {\n",
       "      border-color: transparent;\n",
       "      border-right-color: var(--fill-color);\n",
       "    }\n",
       "    80% {\n",
       "      border-color: transparent;\n",
       "      border-right-color: var(--fill-color);\n",
       "      border-bottom-color: var(--fill-color);\n",
       "    }\n",
       "    90% {\n",
       "      border-color: transparent;\n",
       "      border-bottom-color: var(--fill-color);\n",
       "    }\n",
       "  }\n",
       "</style>\n",
       "\n",
       "  <script>\n",
       "    async function quickchart(key) {\n",
       "      const quickchartButtonEl =\n",
       "        document.querySelector('#' + key + ' button');\n",
       "      quickchartButtonEl.disabled = true;  // To prevent multiple clicks.\n",
       "      quickchartButtonEl.classList.add('colab-df-spinner');\n",
       "      try {\n",
       "        const charts = await google.colab.kernel.invokeFunction(\n",
       "            'suggestCharts', [key], {});\n",
       "      } catch (error) {\n",
       "        console.error('Error during call to suggestCharts:', error);\n",
       "      }\n",
       "      quickchartButtonEl.classList.remove('colab-df-spinner');\n",
       "      quickchartButtonEl.classList.add('colab-df-quickchart-complete');\n",
       "    }\n",
       "    (() => {\n",
       "      let quickchartButtonEl =\n",
       "        document.querySelector('#df-b082c78f-cc81-433c-b0b6-3b42cc2daa43 button');\n",
       "      quickchartButtonEl.style.display =\n",
       "        google.colab.kernel.accessAllowed ? 'block' : 'none';\n",
       "    })();\n",
       "  </script>\n",
       "</div>\n",
       "    </div>\n",
       "  </div>\n"
      ],
      "text/plain": [
       "    density  block  fertilizer       yield\n",
       "0         1      1           1  177.228692\n",
       "1         2      2           1  177.550041\n",
       "2         1      3           1  176.408462\n",
       "3         2      4           1  177.703625\n",
       "4         1      1           1  177.125486\n",
       "..      ...    ...         ...         ...\n",
       "91        2      4           3  177.405292\n",
       "92        1      1           3  178.141644\n",
       "93        2      2           3  177.710613\n",
       "94        1      3           3  177.687264\n",
       "95        2      4           3  177.118176\n",
       "\n",
       "[96 rows x 4 columns]"
      ]
     },
     "execution_count": 7,
     "metadata": {},
     "output_type": "execute_result"
    }
   ],
   "source": [
    "import pandas as pd\n",
    "\n",
    "df=pd.read_csv(r\"/content/drive/MyDrive/PGA24/Statistics/crop.data.csv\")\n",
    "df"
   ]
  },
  {
   "cell_type": "code",
   "execution_count": 8,
   "id": "e2224710",
   "metadata": {
    "colab": {
     "base_uri": "https://localhost:8080/"
    },
    "collapsed": true,
    "executionInfo": {
     "elapsed": 387,
     "status": "ok",
     "timestamp": 1701519912477,
     "user": {
      "displayName": "Jagruti Pawashe",
      "userId": "13553701529318428856"
     },
     "user_tz": -330
    },
    "id": "e2224710",
    "outputId": "b17dda31-c0ea-4f1d-a4ce-8bb93029bdeb"
   },
   "outputs": [
    {
     "data": {
      "text/plain": [
       "1    32\n",
       "2    32\n",
       "3    32\n",
       "Name: fertilizer, dtype: int64"
      ]
     },
     "execution_count": 8,
     "metadata": {},
     "output_type": "execute_result"
    }
   ],
   "source": [
    "df[\"fertilizer\"].value_counts()"
   ]
  },
  {
   "cell_type": "code",
   "execution_count": 10,
   "id": "-xlg0B1zfkng",
   "metadata": {
    "executionInfo": {
     "elapsed": 7,
     "status": "ok",
     "timestamp": 1701520036542,
     "user": {
      "displayName": "Jagruti Pawashe",
      "userId": "13553701529318428856"
     },
     "user_tz": -330
    },
    "id": "-xlg0B1zfkng"
   },
   "outputs": [],
   "source": [
    "# H0 = All the fertilzers show same yield of crops\n",
    "# H1 = All fertilizers do not show same yield of crops"
   ]
  },
  {
   "cell_type": "code",
   "execution_count": 9,
   "id": "e5dd9a4f",
   "metadata": {
    "colab": {
     "base_uri": "https://localhost:8080/"
    },
    "executionInfo": {
     "elapsed": 573,
     "status": "ok",
     "timestamp": 1701519958954,
     "user": {
      "displayName": "Jagruti Pawashe",
      "userId": "13553701529318428856"
     },
     "user_tz": -330
    },
    "id": "e5dd9a4f",
    "outputId": "e5ba55bc-0d64-4260-c778-97ef4e41d81a"
   },
   "outputs": [
    {
     "data": {
      "text/plain": [
       "F_onewayResult(statistic=2636510.061751217, pvalue=0.0)"
      ]
     },
     "execution_count": 9,
     "metadata": {},
     "output_type": "execute_result"
    }
   ],
   "source": [
    "from scipy.stats import f_oneway\n",
    "f_oneway(df[\"yield\"], df[\"fertilizer\"])"
   ]
  },
  {
   "cell_type": "code",
   "execution_count": 11,
   "id": "qVsMWxMvf7ZM",
   "metadata": {
    "executionInfo": {
     "elapsed": 438,
     "status": "ok",
     "timestamp": 1701520135163,
     "user": {
      "displayName": "Jagruti Pawashe",
      "userId": "13553701529318428856"
     },
     "user_tz": -330
    },
    "id": "qVsMWxMvf7ZM"
   },
   "outputs": [],
   "source": [
    "# p-value is low, Null hypothesis wil be rejected which means All fertilizers do not show same yield."
   ]
  },
  {
   "cell_type": "code",
   "execution_count": 12,
   "id": "ff16fb23",
   "metadata": {
    "colab": {
     "base_uri": "https://localhost:8080/"
    },
    "collapsed": true,
    "executionInfo": {
     "elapsed": 366,
     "status": "ok",
     "timestamp": 1701520140866,
     "user": {
      "displayName": "Jagruti Pawashe",
      "userId": "13553701529318428856"
     },
     "user_tz": -330
    },
    "id": "ff16fb23",
    "outputId": "7ac8ee9c-dc77-495b-d72c-33a9161154ab"
   },
   "outputs": [
    {
     "name": "stdout",
     "output_type": "stream",
     "text": [
      "Multiple Comparison of Means - Tukey HSD, FWER=0.05\n",
      "===================================================\n",
      "group1 group2 meandiff p-adj   lower  upper  reject\n",
      "---------------------------------------------------\n",
      "     1      2   0.1762 0.4955 -0.1937 0.5461  False\n",
      "     1      3   0.5991 0.0006  0.2292  0.969   True\n",
      "     2      3    0.423 0.0209  0.0531 0.7928   True\n",
      "---------------------------------------------------\n"
     ]
    }
   ],
   "source": [
    "from statsmodels.stats.multicomp import pairwise_tukeyhsd\n",
    "\n",
    "tukey = pairwise_tukeyhsd(df['yield'],\n",
    "                          groups=df['fertilizer'],\n",
    "                          alpha=0.05)\n",
    "\n",
    "#display results\n",
    "print(tukey)"
   ]
  },
  {
   "cell_type": "code",
   "execution_count": 13,
   "id": "c92d1ab1",
   "metadata": {
    "colab": {
     "base_uri": "https://localhost:8080/"
    },
    "collapsed": true,
    "executionInfo": {
     "elapsed": 370,
     "status": "ok",
     "timestamp": 1701520228017,
     "user": {
      "displayName": "Jagruti Pawashe",
      "userId": "13553701529318428856"
     },
     "user_tz": -330
    },
    "id": "c92d1ab1",
    "outputId": "8c0ff650-8efc-434a-adc3-168acc61893a"
   },
   "outputs": [
    {
     "data": {
      "text/plain": [
       "fertilizer\n",
       "1    176.757044\n",
       "2    176.933213\n",
       "3    177.356170\n",
       "Name: yield, dtype: float64"
      ]
     },
     "execution_count": 13,
     "metadata": {},
     "output_type": "execute_result"
    }
   ],
   "source": [
    "df.groupby([\"fertilizer\"])[\"yield\"].mean()"
   ]
  },
  {
   "cell_type": "code",
   "execution_count": 14,
   "id": "f7e0ca0e",
   "metadata": {
    "colab": {
     "base_uri": "https://localhost:8080/"
    },
    "executionInfo": {
     "elapsed": 371,
     "status": "ok",
     "timestamp": 1701520285187,
     "user": {
      "displayName": "Jagruti Pawashe",
      "userId": "13553701529318428856"
     },
     "user_tz": -330
    },
    "id": "f7e0ca0e",
    "outputId": "771ca053-1239-49ad-defe-b53804213a3f"
   },
   "outputs": [
    {
     "name": "stdout",
     "output_type": "stream",
     "text": [
      "0.012582197136592609\n"
     ]
    }
   ],
   "source": [
    "#enter data for three groups\n",
    "a = [85, 86, 88, 75, 78, 94, 98, 79, 71, 80]\n",
    "b = [91, 92, 93, 90, 97, 94, 82, 88, 95, 96]\n",
    "c = [79, 78, 88, 94, 92, 85, 83, 85, 82, 81]\n",
    "\n",
    "#perform one-way ANOVA\n",
    "stat,p_value=f_oneway(a, b, c)\n",
    "print(p_value)"
   ]
  },
  {
   "cell_type": "markdown",
   "id": "101945ca",
   "metadata": {
    "id": "101945ca"
   },
   "source": [
    "H0 (null hypothesis): μ1 = μ2 = μ3 = … = μk (all the population means are equal)\n",
    "\n",
    "H1 (null hypothesis): at least one population mean is different from the rest\n",
    "\n",
    "Since the p-value is less than .05, we have sufficient evidence to say that the mean values across each group are not equal.\n",
    "\n",
    "Thus, we can proceed to perform Tukey’s Test to determine exactly which group means are different."
   ]
  },
  {
   "cell_type": "code",
   "execution_count": 15,
   "id": "95a0fe74",
   "metadata": {
    "colab": {
     "base_uri": "https://localhost:8080/"
    },
    "executionInfo": {
     "elapsed": 381,
     "status": "ok",
     "timestamp": 1701520342498,
     "user": {
      "displayName": "Jagruti Pawashe",
      "userId": "13553701529318428856"
     },
     "user_tz": -330
    },
    "id": "95a0fe74",
    "outputId": "4a29ae9d-8077-4fb8-9495-ec274c0e0d98"
   },
   "outputs": [
    {
     "name": "stdout",
     "output_type": "stream",
     "text": [
      " Multiple Comparison of Means - Tukey HSD, FWER=0.05 \n",
      "=====================================================\n",
      "group1 group2 meandiff p-adj   lower    upper  reject\n",
      "-----------------------------------------------------\n",
      "     A      B      8.4 0.0159   1.4259 15.3741   True\n",
      "     A      C      1.3 0.8894  -5.6741  8.2741  False\n",
      "     B      C     -7.1 0.0454 -14.0741 -0.1259   True\n",
      "-----------------------------------------------------\n"
     ]
    }
   ],
   "source": [
    "import numpy as np\n",
    "df = pd.DataFrame({'score': [85, 86, 88, 75, 78, 94, 98, 79, 71, 80,\n",
    "                             91, 92, 93, 90, 97, 94, 82, 88, 95, 96,\n",
    "                             79, 78, 88, 94, 92, 85, 83, 85, 82, 81],\n",
    "                   'group': np.repeat(['A', 'B', 'C'], repeats=10)})\n",
    "from statsmodels.stats.multicomp import pairwise_tukeyhsd\n",
    "# perform Tukey's test\n",
    "tukey = pairwise_tukeyhsd(df['score'],\n",
    "                          groups=df['group'],\n",
    "                          alpha=0.05)\n",
    "#display results\n",
    "print(tukey)"
   ]
  },
  {
   "cell_type": "code",
   "execution_count": 16,
   "id": "9a520d29",
   "metadata": {
    "colab": {
     "base_uri": "https://localhost:8080/"
    },
    "executionInfo": {
     "elapsed": 443,
     "status": "ok",
     "timestamp": 1701520427976,
     "user": {
      "displayName": "Jagruti Pawashe",
      "userId": "13553701529318428856"
     },
     "user_tz": -330
    },
    "id": "9a520d29",
    "outputId": "f7b5fe5b-3dbc-4ddb-fab9-3a919d976491"
   },
   "outputs": [
    {
     "data": {
      "text/plain": [
       "group\n",
       "A    83.4\n",
       "B    91.8\n",
       "C    84.7\n",
       "Name: score, dtype: float64"
      ]
     },
     "execution_count": 16,
     "metadata": {},
     "output_type": "execute_result"
    }
   ],
   "source": [
    "df.groupby([\"group\"])[\"score\"].mean()"
   ]
  },
  {
   "cell_type": "markdown",
   "id": "e34ff58e",
   "metadata": {
    "id": "e34ff58e"
   },
   "source": [
    "P-value for the difference in means between a and b: .0158\n",
    "\n",
    "H0: ma = mb H1: ma! = mb\n",
    "\n",
    "P-value for the difference in means between a and c: .8864\n",
    "\n",
    "H0 : ma=mc H1 : ma!=mc\n",
    "\n",
    "P-value for the difference in means between b and c: .0453\n",
    "\n",
    "H0 : mb=mc H1 : mb!=mc\n",
    "\n",
    "Thus, we would conclude that there is a statistically significant difference between the means of groups a and b and groups b and c, but not a statistically significant difference between the means of groups a and c.\n",
    "\n"
   ]
  },
  {
   "cell_type": "markdown",
   "id": "6d7e3a2a",
   "metadata": {
    "id": "6d7e3a2a"
   },
   "source": [
    "### Two way ANOVA\n",
    "\n",
    "A botanist wants to know whether or not plant growth is influenced by sunlight exposure and watering frequency. She plants 30 seeds and lets them grow for two months under different conditions for sunlight exposure and watering frequency. After two months, she records the height of each plant, in inches.\n",
    "\n",
    "Perform a two-way ANOVA to determine if watering frequency and sunlight exposure have a significant effect on plant growth, and to determine if there is any interaction effect between watering frequency and sunlight exposure."
   ]
  },
  {
   "cell_type": "markdown",
   "id": "c23f119b",
   "metadata": {
    "id": "c23f119b"
   },
   "source": [
    "First, we’ll create a pandas DataFrame that contains the following three variables:\n",
    "\n",
    "water: how frequently each plant was watered: daily or weekly\n",
    "\n",
    "sun: how much sunlight exposure each plant received: low, medium, or high\n",
    "\n",
    "height: the height of each plant (in inches) after two months"
   ]
  },
  {
   "cell_type": "code",
   "execution_count": 17,
   "id": "da736c84",
   "metadata": {
    "colab": {
     "base_uri": "https://localhost:8080/",
     "height": 989
    },
    "collapsed": true,
    "executionInfo": {
     "elapsed": 418,
     "status": "ok",
     "timestamp": 1701521266193,
     "user": {
      "displayName": "Jagruti Pawashe",
      "userId": "13553701529318428856"
     },
     "user_tz": -330
    },
    "id": "da736c84",
    "outputId": "8e08b00e-3c3d-4af0-ee12-941cd11273f7"
   },
   "outputs": [
    {
     "data": {
      "text/html": [
       "\n",
       "  <div id=\"df-4700b914-c24a-4670-ab7a-3331739c00a0\" class=\"colab-df-container\">\n",
       "    <div>\n",
       "<style scoped>\n",
       "    .dataframe tbody tr th:only-of-type {\n",
       "        vertical-align: middle;\n",
       "    }\n",
       "\n",
       "    .dataframe tbody tr th {\n",
       "        vertical-align: top;\n",
       "    }\n",
       "\n",
       "    .dataframe thead th {\n",
       "        text-align: right;\n",
       "    }\n",
       "</style>\n",
       "<table border=\"1\" class=\"dataframe\">\n",
       "  <thead>\n",
       "    <tr style=\"text-align: right;\">\n",
       "      <th></th>\n",
       "      <th>water</th>\n",
       "      <th>sun</th>\n",
       "      <th>height</th>\n",
       "    </tr>\n",
       "  </thead>\n",
       "  <tbody>\n",
       "    <tr>\n",
       "      <th>0</th>\n",
       "      <td>daily</td>\n",
       "      <td>low</td>\n",
       "      <td>6</td>\n",
       "    </tr>\n",
       "    <tr>\n",
       "      <th>1</th>\n",
       "      <td>daily</td>\n",
       "      <td>low</td>\n",
       "      <td>6</td>\n",
       "    </tr>\n",
       "    <tr>\n",
       "      <th>2</th>\n",
       "      <td>daily</td>\n",
       "      <td>low</td>\n",
       "      <td>6</td>\n",
       "    </tr>\n",
       "    <tr>\n",
       "      <th>3</th>\n",
       "      <td>daily</td>\n",
       "      <td>low</td>\n",
       "      <td>5</td>\n",
       "    </tr>\n",
       "    <tr>\n",
       "      <th>4</th>\n",
       "      <td>daily</td>\n",
       "      <td>low</td>\n",
       "      <td>6</td>\n",
       "    </tr>\n",
       "    <tr>\n",
       "      <th>5</th>\n",
       "      <td>daily</td>\n",
       "      <td>med</td>\n",
       "      <td>5</td>\n",
       "    </tr>\n",
       "    <tr>\n",
       "      <th>6</th>\n",
       "      <td>daily</td>\n",
       "      <td>med</td>\n",
       "      <td>5</td>\n",
       "    </tr>\n",
       "    <tr>\n",
       "      <th>7</th>\n",
       "      <td>daily</td>\n",
       "      <td>med</td>\n",
       "      <td>6</td>\n",
       "    </tr>\n",
       "    <tr>\n",
       "      <th>8</th>\n",
       "      <td>daily</td>\n",
       "      <td>med</td>\n",
       "      <td>4</td>\n",
       "    </tr>\n",
       "    <tr>\n",
       "      <th>9</th>\n",
       "      <td>daily</td>\n",
       "      <td>med</td>\n",
       "      <td>5</td>\n",
       "    </tr>\n",
       "    <tr>\n",
       "      <th>10</th>\n",
       "      <td>daily</td>\n",
       "      <td>high</td>\n",
       "      <td>6</td>\n",
       "    </tr>\n",
       "    <tr>\n",
       "      <th>11</th>\n",
       "      <td>daily</td>\n",
       "      <td>high</td>\n",
       "      <td>6</td>\n",
       "    </tr>\n",
       "    <tr>\n",
       "      <th>12</th>\n",
       "      <td>daily</td>\n",
       "      <td>high</td>\n",
       "      <td>7</td>\n",
       "    </tr>\n",
       "    <tr>\n",
       "      <th>13</th>\n",
       "      <td>daily</td>\n",
       "      <td>high</td>\n",
       "      <td>8</td>\n",
       "    </tr>\n",
       "    <tr>\n",
       "      <th>14</th>\n",
       "      <td>daily</td>\n",
       "      <td>high</td>\n",
       "      <td>7</td>\n",
       "    </tr>\n",
       "    <tr>\n",
       "      <th>15</th>\n",
       "      <td>weekly</td>\n",
       "      <td>low</td>\n",
       "      <td>3</td>\n",
       "    </tr>\n",
       "    <tr>\n",
       "      <th>16</th>\n",
       "      <td>weekly</td>\n",
       "      <td>low</td>\n",
       "      <td>4</td>\n",
       "    </tr>\n",
       "    <tr>\n",
       "      <th>17</th>\n",
       "      <td>weekly</td>\n",
       "      <td>low</td>\n",
       "      <td>4</td>\n",
       "    </tr>\n",
       "    <tr>\n",
       "      <th>18</th>\n",
       "      <td>weekly</td>\n",
       "      <td>low</td>\n",
       "      <td>4</td>\n",
       "    </tr>\n",
       "    <tr>\n",
       "      <th>19</th>\n",
       "      <td>weekly</td>\n",
       "      <td>low</td>\n",
       "      <td>5</td>\n",
       "    </tr>\n",
       "    <tr>\n",
       "      <th>20</th>\n",
       "      <td>weekly</td>\n",
       "      <td>med</td>\n",
       "      <td>4</td>\n",
       "    </tr>\n",
       "    <tr>\n",
       "      <th>21</th>\n",
       "      <td>weekly</td>\n",
       "      <td>med</td>\n",
       "      <td>4</td>\n",
       "    </tr>\n",
       "    <tr>\n",
       "      <th>22</th>\n",
       "      <td>weekly</td>\n",
       "      <td>med</td>\n",
       "      <td>4</td>\n",
       "    </tr>\n",
       "    <tr>\n",
       "      <th>23</th>\n",
       "      <td>weekly</td>\n",
       "      <td>med</td>\n",
       "      <td>4</td>\n",
       "    </tr>\n",
       "    <tr>\n",
       "      <th>24</th>\n",
       "      <td>weekly</td>\n",
       "      <td>med</td>\n",
       "      <td>4</td>\n",
       "    </tr>\n",
       "    <tr>\n",
       "      <th>25</th>\n",
       "      <td>weekly</td>\n",
       "      <td>high</td>\n",
       "      <td>5</td>\n",
       "    </tr>\n",
       "    <tr>\n",
       "      <th>26</th>\n",
       "      <td>weekly</td>\n",
       "      <td>high</td>\n",
       "      <td>6</td>\n",
       "    </tr>\n",
       "    <tr>\n",
       "      <th>27</th>\n",
       "      <td>weekly</td>\n",
       "      <td>high</td>\n",
       "      <td>6</td>\n",
       "    </tr>\n",
       "    <tr>\n",
       "      <th>28</th>\n",
       "      <td>weekly</td>\n",
       "      <td>high</td>\n",
       "      <td>7</td>\n",
       "    </tr>\n",
       "    <tr>\n",
       "      <th>29</th>\n",
       "      <td>weekly</td>\n",
       "      <td>high</td>\n",
       "      <td>8</td>\n",
       "    </tr>\n",
       "  </tbody>\n",
       "</table>\n",
       "</div>\n",
       "    <div class=\"colab-df-buttons\">\n",
       "\n",
       "  <div class=\"colab-df-container\">\n",
       "    <button class=\"colab-df-convert\" onclick=\"convertToInteractive('df-4700b914-c24a-4670-ab7a-3331739c00a0')\"\n",
       "            title=\"Convert this dataframe to an interactive table.\"\n",
       "            style=\"display:none;\">\n",
       "\n",
       "  <svg xmlns=\"http://www.w3.org/2000/svg\" height=\"24px\" viewBox=\"0 -960 960 960\">\n",
       "    <path d=\"M120-120v-720h720v720H120Zm60-500h600v-160H180v160Zm220 220h160v-160H400v160Zm0 220h160v-160H400v160ZM180-400h160v-160H180v160Zm440 0h160v-160H620v160ZM180-180h160v-160H180v160Zm440 0h160v-160H620v160Z\"/>\n",
       "  </svg>\n",
       "    </button>\n",
       "\n",
       "  <style>\n",
       "    .colab-df-container {\n",
       "      display:flex;\n",
       "      gap: 12px;\n",
       "    }\n",
       "\n",
       "    .colab-df-convert {\n",
       "      background-color: #E8F0FE;\n",
       "      border: none;\n",
       "      border-radius: 50%;\n",
       "      cursor: pointer;\n",
       "      display: none;\n",
       "      fill: #1967D2;\n",
       "      height: 32px;\n",
       "      padding: 0 0 0 0;\n",
       "      width: 32px;\n",
       "    }\n",
       "\n",
       "    .colab-df-convert:hover {\n",
       "      background-color: #E2EBFA;\n",
       "      box-shadow: 0px 1px 2px rgba(60, 64, 67, 0.3), 0px 1px 3px 1px rgba(60, 64, 67, 0.15);\n",
       "      fill: #174EA6;\n",
       "    }\n",
       "\n",
       "    .colab-df-buttons div {\n",
       "      margin-bottom: 4px;\n",
       "    }\n",
       "\n",
       "    [theme=dark] .colab-df-convert {\n",
       "      background-color: #3B4455;\n",
       "      fill: #D2E3FC;\n",
       "    }\n",
       "\n",
       "    [theme=dark] .colab-df-convert:hover {\n",
       "      background-color: #434B5C;\n",
       "      box-shadow: 0px 1px 3px 1px rgba(0, 0, 0, 0.15);\n",
       "      filter: drop-shadow(0px 1px 2px rgba(0, 0, 0, 0.3));\n",
       "      fill: #FFFFFF;\n",
       "    }\n",
       "  </style>\n",
       "\n",
       "    <script>\n",
       "      const buttonEl =\n",
       "        document.querySelector('#df-4700b914-c24a-4670-ab7a-3331739c00a0 button.colab-df-convert');\n",
       "      buttonEl.style.display =\n",
       "        google.colab.kernel.accessAllowed ? 'block' : 'none';\n",
       "\n",
       "      async function convertToInteractive(key) {\n",
       "        const element = document.querySelector('#df-4700b914-c24a-4670-ab7a-3331739c00a0');\n",
       "        const dataTable =\n",
       "          await google.colab.kernel.invokeFunction('convertToInteractive',\n",
       "                                                    [key], {});\n",
       "        if (!dataTable) return;\n",
       "\n",
       "        const docLinkHtml = 'Like what you see? Visit the ' +\n",
       "          '<a target=\"_blank\" href=https://colab.research.google.com/notebooks/data_table.ipynb>data table notebook</a>'\n",
       "          + ' to learn more about interactive tables.';\n",
       "        element.innerHTML = '';\n",
       "        dataTable['output_type'] = 'display_data';\n",
       "        await google.colab.output.renderOutput(dataTable, element);\n",
       "        const docLink = document.createElement('div');\n",
       "        docLink.innerHTML = docLinkHtml;\n",
       "        element.appendChild(docLink);\n",
       "      }\n",
       "    </script>\n",
       "  </div>\n",
       "\n",
       "\n",
       "<div id=\"df-70e6beb0-203d-45de-81a9-178058a47160\">\n",
       "  <button class=\"colab-df-quickchart\" onclick=\"quickchart('df-70e6beb0-203d-45de-81a9-178058a47160')\"\n",
       "            title=\"Suggest charts\"\n",
       "            style=\"display:none;\">\n",
       "\n",
       "<svg xmlns=\"http://www.w3.org/2000/svg\" height=\"24px\"viewBox=\"0 0 24 24\"\n",
       "     width=\"24px\">\n",
       "    <g>\n",
       "        <path d=\"M19 3H5c-1.1 0-2 .9-2 2v14c0 1.1.9 2 2 2h14c1.1 0 2-.9 2-2V5c0-1.1-.9-2-2-2zM9 17H7v-7h2v7zm4 0h-2V7h2v10zm4 0h-2v-4h2v4z\"/>\n",
       "    </g>\n",
       "</svg>\n",
       "  </button>\n",
       "\n",
       "<style>\n",
       "  .colab-df-quickchart {\n",
       "      --bg-color: #E8F0FE;\n",
       "      --fill-color: #1967D2;\n",
       "      --hover-bg-color: #E2EBFA;\n",
       "      --hover-fill-color: #174EA6;\n",
       "      --disabled-fill-color: #AAA;\n",
       "      --disabled-bg-color: #DDD;\n",
       "  }\n",
       "\n",
       "  [theme=dark] .colab-df-quickchart {\n",
       "      --bg-color: #3B4455;\n",
       "      --fill-color: #D2E3FC;\n",
       "      --hover-bg-color: #434B5C;\n",
       "      --hover-fill-color: #FFFFFF;\n",
       "      --disabled-bg-color: #3B4455;\n",
       "      --disabled-fill-color: #666;\n",
       "  }\n",
       "\n",
       "  .colab-df-quickchart {\n",
       "    background-color: var(--bg-color);\n",
       "    border: none;\n",
       "    border-radius: 50%;\n",
       "    cursor: pointer;\n",
       "    display: none;\n",
       "    fill: var(--fill-color);\n",
       "    height: 32px;\n",
       "    padding: 0;\n",
       "    width: 32px;\n",
       "  }\n",
       "\n",
       "  .colab-df-quickchart:hover {\n",
       "    background-color: var(--hover-bg-color);\n",
       "    box-shadow: 0 1px 2px rgba(60, 64, 67, 0.3), 0 1px 3px 1px rgba(60, 64, 67, 0.15);\n",
       "    fill: var(--button-hover-fill-color);\n",
       "  }\n",
       "\n",
       "  .colab-df-quickchart-complete:disabled,\n",
       "  .colab-df-quickchart-complete:disabled:hover {\n",
       "    background-color: var(--disabled-bg-color);\n",
       "    fill: var(--disabled-fill-color);\n",
       "    box-shadow: none;\n",
       "  }\n",
       "\n",
       "  .colab-df-spinner {\n",
       "    border: 2px solid var(--fill-color);\n",
       "    border-color: transparent;\n",
       "    border-bottom-color: var(--fill-color);\n",
       "    animation:\n",
       "      spin 1s steps(1) infinite;\n",
       "  }\n",
       "\n",
       "  @keyframes spin {\n",
       "    0% {\n",
       "      border-color: transparent;\n",
       "      border-bottom-color: var(--fill-color);\n",
       "      border-left-color: var(--fill-color);\n",
       "    }\n",
       "    20% {\n",
       "      border-color: transparent;\n",
       "      border-left-color: var(--fill-color);\n",
       "      border-top-color: var(--fill-color);\n",
       "    }\n",
       "    30% {\n",
       "      border-color: transparent;\n",
       "      border-left-color: var(--fill-color);\n",
       "      border-top-color: var(--fill-color);\n",
       "      border-right-color: var(--fill-color);\n",
       "    }\n",
       "    40% {\n",
       "      border-color: transparent;\n",
       "      border-right-color: var(--fill-color);\n",
       "      border-top-color: var(--fill-color);\n",
       "    }\n",
       "    60% {\n",
       "      border-color: transparent;\n",
       "      border-right-color: var(--fill-color);\n",
       "    }\n",
       "    80% {\n",
       "      border-color: transparent;\n",
       "      border-right-color: var(--fill-color);\n",
       "      border-bottom-color: var(--fill-color);\n",
       "    }\n",
       "    90% {\n",
       "      border-color: transparent;\n",
       "      border-bottom-color: var(--fill-color);\n",
       "    }\n",
       "  }\n",
       "</style>\n",
       "\n",
       "  <script>\n",
       "    async function quickchart(key) {\n",
       "      const quickchartButtonEl =\n",
       "        document.querySelector('#' + key + ' button');\n",
       "      quickchartButtonEl.disabled = true;  // To prevent multiple clicks.\n",
       "      quickchartButtonEl.classList.add('colab-df-spinner');\n",
       "      try {\n",
       "        const charts = await google.colab.kernel.invokeFunction(\n",
       "            'suggestCharts', [key], {});\n",
       "      } catch (error) {\n",
       "        console.error('Error during call to suggestCharts:', error);\n",
       "      }\n",
       "      quickchartButtonEl.classList.remove('colab-df-spinner');\n",
       "      quickchartButtonEl.classList.add('colab-df-quickchart-complete');\n",
       "    }\n",
       "    (() => {\n",
       "      let quickchartButtonEl =\n",
       "        document.querySelector('#df-70e6beb0-203d-45de-81a9-178058a47160 button');\n",
       "      quickchartButtonEl.style.display =\n",
       "        google.colab.kernel.accessAllowed ? 'block' : 'none';\n",
       "    })();\n",
       "  </script>\n",
       "</div>\n",
       "    </div>\n",
       "  </div>\n"
      ],
      "text/plain": [
       "     water   sun  height\n",
       "0    daily   low       6\n",
       "1    daily   low       6\n",
       "2    daily   low       6\n",
       "3    daily   low       5\n",
       "4    daily   low       6\n",
       "5    daily   med       5\n",
       "6    daily   med       5\n",
       "7    daily   med       6\n",
       "8    daily   med       4\n",
       "9    daily   med       5\n",
       "10   daily  high       6\n",
       "11   daily  high       6\n",
       "12   daily  high       7\n",
       "13   daily  high       8\n",
       "14   daily  high       7\n",
       "15  weekly   low       3\n",
       "16  weekly   low       4\n",
       "17  weekly   low       4\n",
       "18  weekly   low       4\n",
       "19  weekly   low       5\n",
       "20  weekly   med       4\n",
       "21  weekly   med       4\n",
       "22  weekly   med       4\n",
       "23  weekly   med       4\n",
       "24  weekly   med       4\n",
       "25  weekly  high       5\n",
       "26  weekly  high       6\n",
       "27  weekly  high       6\n",
       "28  weekly  high       7\n",
       "29  weekly  high       8"
      ]
     },
     "execution_count": 17,
     "metadata": {},
     "output_type": "execute_result"
    }
   ],
   "source": [
    "import numpy as np\n",
    "import pandas as pd\n",
    "\n",
    "#create data\n",
    "df = pd.DataFrame({'water': np.repeat(['daily', 'weekly'], 15),\n",
    "                   'sun': np.tile(np.repeat(['low', 'med', 'high'], 5), 2),\n",
    "                   'height': [6, 6, 6, 5, 6, 5, 5, 6, 4, 5,\n",
    "                              6, 6, 7, 8, 7, 3, 4, 4, 4, 5,\n",
    "                              4, 4, 4, 4, 4, 5, 6, 6, 7, 8]})\n",
    "\n",
    "df"
   ]
  },
  {
   "cell_type": "code",
   "execution_count": 18,
   "id": "db5960a9",
   "metadata": {
    "colab": {
     "base_uri": "https://localhost:8080/",
     "height": 175
    },
    "executionInfo": {
     "elapsed": 1171,
     "status": "ok",
     "timestamp": 1701521767230,
     "user": {
      "displayName": "Jagruti Pawashe",
      "userId": "13553701529318428856"
     },
     "user_tz": -330
    },
    "id": "db5960a9",
    "outputId": "426b4e78-4668-46f5-de78-e716f0e0b4e9"
   },
   "outputs": [
    {
     "data": {
      "text/html": [
       "\n",
       "  <div id=\"df-438816a4-af93-41ab-a26d-6b315e15d474\" class=\"colab-df-container\">\n",
       "    <div>\n",
       "<style scoped>\n",
       "    .dataframe tbody tr th:only-of-type {\n",
       "        vertical-align: middle;\n",
       "    }\n",
       "\n",
       "    .dataframe tbody tr th {\n",
       "        vertical-align: top;\n",
       "    }\n",
       "\n",
       "    .dataframe thead th {\n",
       "        text-align: right;\n",
       "    }\n",
       "</style>\n",
       "<table border=\"1\" class=\"dataframe\">\n",
       "  <thead>\n",
       "    <tr style=\"text-align: right;\">\n",
       "      <th></th>\n",
       "      <th>df</th>\n",
       "      <th>sum_sq</th>\n",
       "      <th>mean_sq</th>\n",
       "      <th>F</th>\n",
       "      <th>PR(&gt;F)</th>\n",
       "    </tr>\n",
       "  </thead>\n",
       "  <tbody>\n",
       "    <tr>\n",
       "      <th>C(water)</th>\n",
       "      <td>1.0</td>\n",
       "      <td>8.533333</td>\n",
       "      <td>8.533333</td>\n",
       "      <td>16.0000</td>\n",
       "      <td>0.000527</td>\n",
       "    </tr>\n",
       "    <tr>\n",
       "      <th>C(sun)</th>\n",
       "      <td>2.0</td>\n",
       "      <td>24.866667</td>\n",
       "      <td>12.433333</td>\n",
       "      <td>23.3125</td>\n",
       "      <td>0.000002</td>\n",
       "    </tr>\n",
       "    <tr>\n",
       "      <th>C(water):C(sun)</th>\n",
       "      <td>2.0</td>\n",
       "      <td>2.466667</td>\n",
       "      <td>1.233333</td>\n",
       "      <td>2.3125</td>\n",
       "      <td>0.120667</td>\n",
       "    </tr>\n",
       "    <tr>\n",
       "      <th>Residual</th>\n",
       "      <td>24.0</td>\n",
       "      <td>12.800000</td>\n",
       "      <td>0.533333</td>\n",
       "      <td>NaN</td>\n",
       "      <td>NaN</td>\n",
       "    </tr>\n",
       "  </tbody>\n",
       "</table>\n",
       "</div>\n",
       "    <div class=\"colab-df-buttons\">\n",
       "\n",
       "  <div class=\"colab-df-container\">\n",
       "    <button class=\"colab-df-convert\" onclick=\"convertToInteractive('df-438816a4-af93-41ab-a26d-6b315e15d474')\"\n",
       "            title=\"Convert this dataframe to an interactive table.\"\n",
       "            style=\"display:none;\">\n",
       "\n",
       "  <svg xmlns=\"http://www.w3.org/2000/svg\" height=\"24px\" viewBox=\"0 -960 960 960\">\n",
       "    <path d=\"M120-120v-720h720v720H120Zm60-500h600v-160H180v160Zm220 220h160v-160H400v160Zm0 220h160v-160H400v160ZM180-400h160v-160H180v160Zm440 0h160v-160H620v160ZM180-180h160v-160H180v160Zm440 0h160v-160H620v160Z\"/>\n",
       "  </svg>\n",
       "    </button>\n",
       "\n",
       "  <style>\n",
       "    .colab-df-container {\n",
       "      display:flex;\n",
       "      gap: 12px;\n",
       "    }\n",
       "\n",
       "    .colab-df-convert {\n",
       "      background-color: #E8F0FE;\n",
       "      border: none;\n",
       "      border-radius: 50%;\n",
       "      cursor: pointer;\n",
       "      display: none;\n",
       "      fill: #1967D2;\n",
       "      height: 32px;\n",
       "      padding: 0 0 0 0;\n",
       "      width: 32px;\n",
       "    }\n",
       "\n",
       "    .colab-df-convert:hover {\n",
       "      background-color: #E2EBFA;\n",
       "      box-shadow: 0px 1px 2px rgba(60, 64, 67, 0.3), 0px 1px 3px 1px rgba(60, 64, 67, 0.15);\n",
       "      fill: #174EA6;\n",
       "    }\n",
       "\n",
       "    .colab-df-buttons div {\n",
       "      margin-bottom: 4px;\n",
       "    }\n",
       "\n",
       "    [theme=dark] .colab-df-convert {\n",
       "      background-color: #3B4455;\n",
       "      fill: #D2E3FC;\n",
       "    }\n",
       "\n",
       "    [theme=dark] .colab-df-convert:hover {\n",
       "      background-color: #434B5C;\n",
       "      box-shadow: 0px 1px 3px 1px rgba(0, 0, 0, 0.15);\n",
       "      filter: drop-shadow(0px 1px 2px rgba(0, 0, 0, 0.3));\n",
       "      fill: #FFFFFF;\n",
       "    }\n",
       "  </style>\n",
       "\n",
       "    <script>\n",
       "      const buttonEl =\n",
       "        document.querySelector('#df-438816a4-af93-41ab-a26d-6b315e15d474 button.colab-df-convert');\n",
       "      buttonEl.style.display =\n",
       "        google.colab.kernel.accessAllowed ? 'block' : 'none';\n",
       "\n",
       "      async function convertToInteractive(key) {\n",
       "        const element = document.querySelector('#df-438816a4-af93-41ab-a26d-6b315e15d474');\n",
       "        const dataTable =\n",
       "          await google.colab.kernel.invokeFunction('convertToInteractive',\n",
       "                                                    [key], {});\n",
       "        if (!dataTable) return;\n",
       "\n",
       "        const docLinkHtml = 'Like what you see? Visit the ' +\n",
       "          '<a target=\"_blank\" href=https://colab.research.google.com/notebooks/data_table.ipynb>data table notebook</a>'\n",
       "          + ' to learn more about interactive tables.';\n",
       "        element.innerHTML = '';\n",
       "        dataTable['output_type'] = 'display_data';\n",
       "        await google.colab.output.renderOutput(dataTable, element);\n",
       "        const docLink = document.createElement('div');\n",
       "        docLink.innerHTML = docLinkHtml;\n",
       "        element.appendChild(docLink);\n",
       "      }\n",
       "    </script>\n",
       "  </div>\n",
       "\n",
       "\n",
       "<div id=\"df-7c4cf37c-b931-4b7b-a930-96975dae2d34\">\n",
       "  <button class=\"colab-df-quickchart\" onclick=\"quickchart('df-7c4cf37c-b931-4b7b-a930-96975dae2d34')\"\n",
       "            title=\"Suggest charts\"\n",
       "            style=\"display:none;\">\n",
       "\n",
       "<svg xmlns=\"http://www.w3.org/2000/svg\" height=\"24px\"viewBox=\"0 0 24 24\"\n",
       "     width=\"24px\">\n",
       "    <g>\n",
       "        <path d=\"M19 3H5c-1.1 0-2 .9-2 2v14c0 1.1.9 2 2 2h14c1.1 0 2-.9 2-2V5c0-1.1-.9-2-2-2zM9 17H7v-7h2v7zm4 0h-2V7h2v10zm4 0h-2v-4h2v4z\"/>\n",
       "    </g>\n",
       "</svg>\n",
       "  </button>\n",
       "\n",
       "<style>\n",
       "  .colab-df-quickchart {\n",
       "      --bg-color: #E8F0FE;\n",
       "      --fill-color: #1967D2;\n",
       "      --hover-bg-color: #E2EBFA;\n",
       "      --hover-fill-color: #174EA6;\n",
       "      --disabled-fill-color: #AAA;\n",
       "      --disabled-bg-color: #DDD;\n",
       "  }\n",
       "\n",
       "  [theme=dark] .colab-df-quickchart {\n",
       "      --bg-color: #3B4455;\n",
       "      --fill-color: #D2E3FC;\n",
       "      --hover-bg-color: #434B5C;\n",
       "      --hover-fill-color: #FFFFFF;\n",
       "      --disabled-bg-color: #3B4455;\n",
       "      --disabled-fill-color: #666;\n",
       "  }\n",
       "\n",
       "  .colab-df-quickchart {\n",
       "    background-color: var(--bg-color);\n",
       "    border: none;\n",
       "    border-radius: 50%;\n",
       "    cursor: pointer;\n",
       "    display: none;\n",
       "    fill: var(--fill-color);\n",
       "    height: 32px;\n",
       "    padding: 0;\n",
       "    width: 32px;\n",
       "  }\n",
       "\n",
       "  .colab-df-quickchart:hover {\n",
       "    background-color: var(--hover-bg-color);\n",
       "    box-shadow: 0 1px 2px rgba(60, 64, 67, 0.3), 0 1px 3px 1px rgba(60, 64, 67, 0.15);\n",
       "    fill: var(--button-hover-fill-color);\n",
       "  }\n",
       "\n",
       "  .colab-df-quickchart-complete:disabled,\n",
       "  .colab-df-quickchart-complete:disabled:hover {\n",
       "    background-color: var(--disabled-bg-color);\n",
       "    fill: var(--disabled-fill-color);\n",
       "    box-shadow: none;\n",
       "  }\n",
       "\n",
       "  .colab-df-spinner {\n",
       "    border: 2px solid var(--fill-color);\n",
       "    border-color: transparent;\n",
       "    border-bottom-color: var(--fill-color);\n",
       "    animation:\n",
       "      spin 1s steps(1) infinite;\n",
       "  }\n",
       "\n",
       "  @keyframes spin {\n",
       "    0% {\n",
       "      border-color: transparent;\n",
       "      border-bottom-color: var(--fill-color);\n",
       "      border-left-color: var(--fill-color);\n",
       "    }\n",
       "    20% {\n",
       "      border-color: transparent;\n",
       "      border-left-color: var(--fill-color);\n",
       "      border-top-color: var(--fill-color);\n",
       "    }\n",
       "    30% {\n",
       "      border-color: transparent;\n",
       "      border-left-color: var(--fill-color);\n",
       "      border-top-color: var(--fill-color);\n",
       "      border-right-color: var(--fill-color);\n",
       "    }\n",
       "    40% {\n",
       "      border-color: transparent;\n",
       "      border-right-color: var(--fill-color);\n",
       "      border-top-color: var(--fill-color);\n",
       "    }\n",
       "    60% {\n",
       "      border-color: transparent;\n",
       "      border-right-color: var(--fill-color);\n",
       "    }\n",
       "    80% {\n",
       "      border-color: transparent;\n",
       "      border-right-color: var(--fill-color);\n",
       "      border-bottom-color: var(--fill-color);\n",
       "    }\n",
       "    90% {\n",
       "      border-color: transparent;\n",
       "      border-bottom-color: var(--fill-color);\n",
       "    }\n",
       "  }\n",
       "</style>\n",
       "\n",
       "  <script>\n",
       "    async function quickchart(key) {\n",
       "      const quickchartButtonEl =\n",
       "        document.querySelector('#' + key + ' button');\n",
       "      quickchartButtonEl.disabled = true;  // To prevent multiple clicks.\n",
       "      quickchartButtonEl.classList.add('colab-df-spinner');\n",
       "      try {\n",
       "        const charts = await google.colab.kernel.invokeFunction(\n",
       "            'suggestCharts', [key], {});\n",
       "      } catch (error) {\n",
       "        console.error('Error during call to suggestCharts:', error);\n",
       "      }\n",
       "      quickchartButtonEl.classList.remove('colab-df-spinner');\n",
       "      quickchartButtonEl.classList.add('colab-df-quickchart-complete');\n",
       "    }\n",
       "    (() => {\n",
       "      let quickchartButtonEl =\n",
       "        document.querySelector('#df-7c4cf37c-b931-4b7b-a930-96975dae2d34 button');\n",
       "      quickchartButtonEl.style.display =\n",
       "        google.colab.kernel.accessAllowed ? 'block' : 'none';\n",
       "    })();\n",
       "  </script>\n",
       "</div>\n",
       "    </div>\n",
       "  </div>\n"
      ],
      "text/plain": [
       "                   df     sum_sq    mean_sq        F    PR(>F)\n",
       "C(water)          1.0   8.533333   8.533333  16.0000  0.000527\n",
       "C(sun)            2.0  24.866667  12.433333  23.3125  0.000002\n",
       "C(water):C(sun)   2.0   2.466667   1.233333   2.3125  0.120667\n",
       "Residual         24.0  12.800000   0.533333      NaN       NaN"
      ]
     },
     "execution_count": 18,
     "metadata": {},
     "output_type": "execute_result"
    }
   ],
   "source": [
    "#H0: Water and sun do not have a effect on the plant height\n",
    "#H1: Water and sun show a effect on the plant height\n",
    "import statsmodels.api as sm\n",
    "from statsmodels.formula.api import ols\n",
    "\n",
    "#perform two-way ANOVA\n",
    "model = ols('height ~ C(water) + C(sun) + C(water):C(sun)', data=df).fit()\n",
    "sm.stats.anova_lm(model,type=2)"
   ]
  },
  {
   "cell_type": "markdown",
   "id": "b3802a29",
   "metadata": {
    "id": "b3802a29"
   },
   "source": [
    "We can see the following p-values for each of the factors in the table:\n",
    "\n",
    "water: p-value = .000527\n",
    "\n",
    "sun: p-value = .0000002\n",
    "\n",
    "water*sun: p-value = .120667\n",
    "\n",
    "Since the p-values for water and sun are both less than .05, this means that both factors have a statistically significant effect on plant height.\n",
    "\n",
    "And since the p-value for the interaction effect (.120667) is not less than .05, this tells us that there is no significant interaction effect between sunlight exposure and watering frequency.\n",
    "\n",
    "Although the ANOVA results tell us that watering frequency and sunlight exposure have a statistically significant effect on plant height, we would need to perform post-hoc tests to determine exactly how different levels of water and sunlight affect plant height."
   ]
  },
  {
   "cell_type": "code",
   "execution_count": 19,
   "id": "c48426c9",
   "metadata": {
    "colab": {
     "base_uri": "https://localhost:8080/"
    },
    "executionInfo": {
     "elapsed": 378,
     "status": "ok",
     "timestamp": 1701521876225,
     "user": {
      "displayName": "Jagruti Pawashe",
      "userId": "13553701529318428856"
     },
     "user_tz": -330
    },
    "id": "c48426c9",
    "outputId": "f4145463-783d-490b-f205-e824b453fe24"
   },
   "outputs": [
    {
     "name": "stdout",
     "output_type": "stream",
     "text": [
      "Multiple Comparison of Means - Tukey HSD, FWER=0.05 \n",
      "====================================================\n",
      "group1 group2 meandiff p-adj   lower   upper  reject\n",
      "----------------------------------------------------\n",
      " daily weekly  -1.0667 0.0213 -1.9622 -0.1712   True\n",
      "----------------------------------------------------\n"
     ]
    }
   ],
   "source": [
    "from statsmodels.stats.multicomp import pairwise_tukeyhsd\n",
    "# perform Tukey's test\n",
    "tukey = pairwise_tukeyhsd(df['height'],\n",
    "                          groups=df[\"water\"],\n",
    "                          alpha=0.05)\n",
    "\n",
    "print(tukey)"
   ]
  },
  {
   "cell_type": "code",
   "execution_count": 20,
   "id": "8e1ec57b",
   "metadata": {
    "colab": {
     "base_uri": "https://localhost:8080/"
    },
    "collapsed": true,
    "executionInfo": {
     "elapsed": 392,
     "status": "ok",
     "timestamp": 1701521907539,
     "user": {
      "displayName": "Jagruti Pawashe",
      "userId": "13553701529318428856"
     },
     "user_tz": -330
    },
    "id": "8e1ec57b",
    "outputId": "63c2dfb4-66c7-42cc-ecc9-09d901da0347"
   },
   "outputs": [
    {
     "data": {
      "text/plain": [
       "water\n",
       "daily     5.866667\n",
       "weekly    4.800000\n",
       "Name: height, dtype: float64"
      ]
     },
     "execution_count": 20,
     "metadata": {},
     "output_type": "execute_result"
    }
   ],
   "source": [
    "df.groupby(\"water\")[\"height\"].mean()"
   ]
  },
  {
   "cell_type": "code",
   "execution_count": 21,
   "id": "9c232412",
   "metadata": {
    "colab": {
     "base_uri": "https://localhost:8080/"
    },
    "collapsed": true,
    "executionInfo": {
     "elapsed": 399,
     "status": "ok",
     "timestamp": 1701521940295,
     "user": {
      "displayName": "Jagruti Pawashe",
      "userId": "13553701529318428856"
     },
     "user_tz": -330
    },
    "id": "9c232412",
    "outputId": "4f018fe1-8bf7-488f-945a-4d527e41049c"
   },
   "outputs": [
    {
     "name": "stdout",
     "output_type": "stream",
     "text": [
      "Multiple Comparison of Means - Tukey HSD, FWER=0.05\n",
      "==================================================\n",
      "group1 group2 meandiff p-adj  lower  upper  reject\n",
      "--------------------------------------------------\n",
      "  high    low     -1.7 0.0011 -2.741 -0.659   True\n",
      "  high    med     -2.1 0.0001 -3.141 -1.059   True\n",
      "   low    med     -0.4 0.6124 -1.441  0.641  False\n",
      "--------------------------------------------------\n"
     ]
    }
   ],
   "source": [
    "from statsmodels.stats.multicomp import pairwise_tukeyhsd\n",
    "# perform Tukey's test\n",
    "tukey = pairwise_tukeyhsd(df['height'],\n",
    "                          groups=df[\"sun\"],\n",
    "                          alpha=0.05)\n",
    "\n",
    "print(tukey)"
   ]
  },
  {
   "cell_type": "code",
   "execution_count": 22,
   "id": "4fce62ba",
   "metadata": {
    "colab": {
     "base_uri": "https://localhost:8080/"
    },
    "executionInfo": {
     "elapsed": 371,
     "status": "ok",
     "timestamp": 1701521996759,
     "user": {
      "displayName": "Jagruti Pawashe",
      "userId": "13553701529318428856"
     },
     "user_tz": -330
    },
    "id": "4fce62ba",
    "outputId": "8827f9bf-5418-41b5-a5f8-559c2b0e44b6"
   },
   "outputs": [
    {
     "data": {
      "text/plain": [
       "sun\n",
       "high    6.6\n",
       "low     4.9\n",
       "med     4.5\n",
       "Name: height, dtype: float64"
      ]
     },
     "execution_count": 22,
     "metadata": {},
     "output_type": "execute_result"
    }
   ],
   "source": [
    "df.groupby(\"sun\")[\"height\"].mean()"
   ]
  },
  {
   "cell_type": "code",
   "execution_count": null,
   "id": "79ec6dc1",
   "metadata": {
    "id": "79ec6dc1"
   },
   "outputs": [],
   "source": []
  },
  {
   "cell_type": "markdown",
   "id": "002123e7",
   "metadata": {
    "id": "002123e7"
   },
   "source": [
    "###  Chi - Square Test\n",
    "A chi-square test is a statistical test that is used to compare observed and expected results. The goal of this test is to identify whether a disparity between actual and predicted data is due to chance or to a link between the variables under consideration. As a result, the chi-square test is an ideal choice for aiding in our understanding and interpretation of the connection between our two categorical variables.\n",
    "\n",
    "* The chi-square goodness of fit test is used to test whether the frequency distribution of a categorical variable is different from your expectations.\n",
    "* The chi-square test of independence is used to test whether two categorical variables are related to each other.\n",
    "\n",
    "Chi-square is often written as Χ2 and is pronounced “kai-square” (rhymes with “eye-square”). It is also called chi-squared."
   ]
  },
  {
   "cell_type": "markdown",
   "id": "d5cb0cb4",
   "metadata": {
    "id": "d5cb0cb4"
   },
   "source": [
    "#### Chi-Square Goodness of Fit Test in Python\n",
    "\n",
    "A shop owner claims that an equal number of customers come into his shop each weekday. To test this hypothesis, a researcher records the number of customers that come into the shop in a given week and finds the following:\n",
    "\n",
    "Monday: 50 customers\n",
    "\n",
    "Tuesday: 60 customers\n",
    "\n",
    "Wednesday: 40 customers\n",
    "\n",
    "Thursday: 47 customers\n",
    "\n",
    "Friday: 53 customers"
   ]
  },
  {
   "cell_type": "code",
   "execution_count": 28,
   "id": "f6e01a8d",
   "metadata": {
    "executionInfo": {
     "elapsed": 427,
     "status": "ok",
     "timestamp": 1701523787290,
     "user": {
      "displayName": "Jagruti Pawashe",
      "userId": "13553701529318428856"
     },
     "user_tz": -330
    },
    "id": "f6e01a8d"
   },
   "outputs": [],
   "source": [
    "expected = [50, 50, 50, 50, 50]\n",
    "observed = [50, 60, 40, 47, 53]"
   ]
  },
  {
   "cell_type": "markdown",
   "id": "48f5fb37",
   "metadata": {
    "id": "48f5fb37"
   },
   "source": [
    "H0: (null hypothesis) A variable follows a hypothesized distribution.\n",
    "\n",
    "H0: The distribution of customers is equal to the distribution claimed by the shop owner.\n",
    "\n",
    "H1: (alternative hypothesis) A variable does not follow a hypothesized distribution.\n",
    "\n",
    "H1: The distribution of customers is significantly different from the distribution claimed by the shop owner."
   ]
  },
  {
   "cell_type": "code",
   "execution_count": 29,
   "id": "b354211a",
   "metadata": {
    "colab": {
     "base_uri": "https://localhost:8080/"
    },
    "executionInfo": {
     "elapsed": 426,
     "status": "ok",
     "timestamp": 1701523790622,
     "user": {
      "displayName": "Jagruti Pawashe",
      "userId": "13553701529318428856"
     },
     "user_tz": -330
    },
    "id": "b354211a",
    "outputId": "983abbe3-3606-49da-f123-8704a1c5916c"
   },
   "outputs": [
    {
     "name": "stdout",
     "output_type": "stream",
     "text": [
      "0.3594720674366307\n"
     ]
    }
   ],
   "source": [
    "from scipy import stats\n",
    "\n",
    "#perform Chi-Square Goodness of Fit Test\n",
    "stat,p_value=stats.chisquare(f_obs=observed, f_exp=expected)\n",
    "\n",
    "print(p_value)"
   ]
  },
  {
   "cell_type": "markdown",
   "id": "9e7bd558",
   "metadata": {
    "id": "9e7bd558"
   },
   "source": [
    "Since the p-value (.35947) is not less than 0.05, we fail to reject the null hypothesis. This means we do not have sufficient evidence to say that the true distribution of customers is different from the distribution that the shop owner claimed."
   ]
  },
  {
   "cell_type": "code",
   "execution_count": null,
   "id": "5a0bc1fa",
   "metadata": {
    "id": "5a0bc1fa"
   },
   "outputs": [],
   "source": []
  },
  {
   "cell_type": "markdown",
   "id": "73236c75",
   "metadata": {
    "id": "73236c75"
   },
   "source": [
    "### Chi-Square Test of Independence in Python\n",
    "\n",
    "Suppose we want to know whether or not gender is associated with political party preference. We take a simple random sample of 500 voters and survey them on their political party preference. The following table shows the results of the survey:\n",
    "\n",
    "        Republican    Democrat    Independent    Total\n",
    "Male      120           90           40           250\n",
    "Female    110           95           45           250\n",
    "Total     230           185          85           500"
   ]
  },
  {
   "cell_type": "code",
   "execution_count": 31,
   "id": "862988d7",
   "metadata": {
    "colab": {
     "base_uri": "https://localhost:8080/"
    },
    "executionInfo": {
     "elapsed": 380,
     "status": "ok",
     "timestamp": 1701524204588,
     "user": {
      "displayName": "Jagruti Pawashe",
      "userId": "13553701529318428856"
     },
     "user_tz": -330
    },
    "id": "862988d7",
    "outputId": "8e352ab4-de7c-4b62-e1b1-db63911f0104"
   },
   "outputs": [
    {
     "name": "stdout",
     "output_type": "stream",
     "text": [
      "0.6491978887380976\n",
      "2\n",
      "[[115.   92.5  42.5]\n",
      " [115.   92.5  42.5]]\n"
     ]
    }
   ],
   "source": [
    "data = [[120, 90, 40],\n",
    "        [110, 95, 45]]\n",
    "\n",
    "#H0: the gender and the political preference are independent of each other\n",
    "#H1: the gender and the political preference are dependent on each other\n",
    "import scipy.stats as stats\n",
    "#perform the Chi-Square Test of Independence\n",
    "chi_stat,p_value,df,exp=stats.chi2_contingency(data)\n",
    "#print(chi_stat)\n",
    "print(p_value)\n",
    "print(df)\n",
    "print(exp)"
   ]
  },
  {
   "cell_type": "markdown",
   "id": "c6b50c87",
   "metadata": {
    "id": "c6b50c87"
   },
   "source": [
    "The way to interpret the output is as follows:\n",
    "\n",
    "Chi-Square Test Statistic: 0.864\n",
    "\n",
    "p-value: 0.649\n",
    "\n",
    "Degrees of freedom: 2 (calculated as #rows-1 * #columns-1)\n",
    "\n",
    "Array: The last array displays the expected values for each cell in the contingency table."
   ]
  },
  {
   "cell_type": "markdown",
   "id": "e993b673",
   "metadata": {
    "id": "e993b673"
   },
   "source": [
    "H0: (null hypothesis) The two variables are independent.\n",
    "\n",
    "H1: (alternative hypothesis) The two variables are not independent.\n",
    "\n",
    "Since the p-value (.649) of the test is not less than 0.05, we fail to reject the null hypothesis. This means we do not have sufficient evidence to say that there is an association between gender and political party preference.\n",
    "\n",
    "In other words, gender and political party preference are independent."
   ]
  },
  {
   "cell_type": "code",
   "execution_count": null,
   "id": "1e506806",
   "metadata": {
    "id": "1e506806"
   },
   "outputs": [],
   "source": []
  },
  {
   "cell_type": "code",
   "execution_count": null,
   "id": "a3ee7f70",
   "metadata": {
    "id": "a3ee7f70"
   },
   "outputs": [],
   "source": []
  },
  {
   "cell_type": "markdown",
   "id": "6c724a50",
   "metadata": {
    "id": "6c724a50"
   },
   "source": [
    "**Consider the below image for the below questions **\n",
    "<img src=\"Chi-square_toi.png\">"
   ]
  },
  {
   "cell_type": "code",
   "execution_count": 32,
   "id": "bf233a7c",
   "metadata": {
    "colab": {
     "base_uri": "https://localhost:8080/"
    },
    "executionInfo": {
     "elapsed": 384,
     "status": "ok",
     "timestamp": 1701524588102,
     "user": {
      "displayName": "Jagruti Pawashe",
      "userId": "13553701529318428856"
     },
     "user_tz": -330
    },
    "id": "bf233a7c",
    "outputId": "8aeabb6b-5688-4d61-ce3b-0cf50468d5a4"
   },
   "outputs": [
    {
     "name": "stdout",
     "output_type": "stream",
     "text": [
      "0.9180008113875626\n",
      "[[ 6.07608696  6.92391304]\n",
      " [13.55434783 15.44565217]\n",
      " [14.48913043 16.51086957]\n",
      " [ 8.88043478 10.11956522]]\n"
     ]
    }
   ],
   "source": [
    "data = [[6,7],\n",
    "        [13,16],\n",
    "       [16,15],\n",
    "       [8,11]]\n",
    "#H0: the gender and the level of education are independent of each other\n",
    "#H1: the gender and the level of education are dependent on each other\n",
    "import scipy.stats as stats\n",
    "\n",
    "#perform the Chi-Square Test of Independence\n",
    "chi_stat,p_value,df,exp=stats.chi2_contingency(data)\n",
    "print(p_value)\n",
    "print(exp)"
   ]
  },
  {
   "cell_type": "code",
   "execution_count": null,
   "id": "868a8c0d",
   "metadata": {
    "id": "868a8c0d"
   },
   "outputs": [],
   "source": []
  }
 ],
 "metadata": {
  "colab": {
   "provenance": []
  },
  "kernelspec": {
   "display_name": "Python 3 (ipykernel)",
   "language": "python",
   "name": "python3"
  },
  "language_info": {
   "codemirror_mode": {
    "name": "ipython",
    "version": 3
   },
   "file_extension": ".py",
   "mimetype": "text/x-python",
   "name": "python",
   "nbconvert_exporter": "python",
   "pygments_lexer": "ipython3",
   "version": "3.11.3"
  }
 },
 "nbformat": 4,
 "nbformat_minor": 5
}
