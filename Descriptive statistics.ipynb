{
 "cells": [
  {
   "cell_type": "markdown",
   "id": "a821efe3",
   "metadata": {},
   "source": [
    "### Kurtosis\n",
    "Kurtosis is also one of the measure of the shape of a frequency curve.Its a Greek word, which means bulginess.\n",
    "\n",
    "It also helps to denote the heaviness of the distribution towards the tail.\n",
    "While skewness signifies extent of asymmetry, kurtosis measure the degree of peakness or tailedness of a frequency distribution."
   ]
  },
  {
   "cell_type": "code",
   "execution_count": 1,
   "id": "a6ace8e2",
   "metadata": {},
   "outputs": [],
   "source": [
    "import pandas as pd\n",
    "import matplotlib.pyplot as plt\n",
    "import seaborn as sns"
   ]
  },
  {
   "cell_type": "code",
   "execution_count": 2,
   "id": "0fe6f3f4",
   "metadata": {},
   "outputs": [
    {
     "data": {
      "text/html": [
       "<div>\n",
       "<style scoped>\n",
       "    .dataframe tbody tr th:only-of-type {\n",
       "        vertical-align: middle;\n",
       "    }\n",
       "\n",
       "    .dataframe tbody tr th {\n",
       "        vertical-align: top;\n",
       "    }\n",
       "\n",
       "    .dataframe thead th {\n",
       "        text-align: right;\n",
       "    }\n",
       "</style>\n",
       "<table border=\"1\" class=\"dataframe\">\n",
       "  <thead>\n",
       "    <tr style=\"text-align: right;\">\n",
       "      <th></th>\n",
       "      <th>Name</th>\n",
       "      <th>Type 1</th>\n",
       "      <th>Type 2</th>\n",
       "      <th>Total</th>\n",
       "      <th>HP</th>\n",
       "      <th>Attack</th>\n",
       "      <th>Defense</th>\n",
       "      <th>Sp. Atk</th>\n",
       "      <th>Sp. Def</th>\n",
       "      <th>Speed</th>\n",
       "      <th>Stage</th>\n",
       "      <th>Legendary</th>\n",
       "    </tr>\n",
       "    <tr>\n",
       "      <th>#</th>\n",
       "      <th></th>\n",
       "      <th></th>\n",
       "      <th></th>\n",
       "      <th></th>\n",
       "      <th></th>\n",
       "      <th></th>\n",
       "      <th></th>\n",
       "      <th></th>\n",
       "      <th></th>\n",
       "      <th></th>\n",
       "      <th></th>\n",
       "      <th></th>\n",
       "    </tr>\n",
       "  </thead>\n",
       "  <tbody>\n",
       "    <tr>\n",
       "      <th>1</th>\n",
       "      <td>Bulbasaur</td>\n",
       "      <td>Grass</td>\n",
       "      <td>Poison</td>\n",
       "      <td>318</td>\n",
       "      <td>45</td>\n",
       "      <td>49</td>\n",
       "      <td>49</td>\n",
       "      <td>65</td>\n",
       "      <td>65</td>\n",
       "      <td>45</td>\n",
       "      <td>1</td>\n",
       "      <td>False</td>\n",
       "    </tr>\n",
       "    <tr>\n",
       "      <th>2</th>\n",
       "      <td>Ivysaur</td>\n",
       "      <td>Grass</td>\n",
       "      <td>Poison</td>\n",
       "      <td>405</td>\n",
       "      <td>60</td>\n",
       "      <td>62</td>\n",
       "      <td>63</td>\n",
       "      <td>80</td>\n",
       "      <td>80</td>\n",
       "      <td>60</td>\n",
       "      <td>2</td>\n",
       "      <td>False</td>\n",
       "    </tr>\n",
       "    <tr>\n",
       "      <th>3</th>\n",
       "      <td>Venusaur</td>\n",
       "      <td>Grass</td>\n",
       "      <td>Poison</td>\n",
       "      <td>525</td>\n",
       "      <td>80</td>\n",
       "      <td>82</td>\n",
       "      <td>83</td>\n",
       "      <td>100</td>\n",
       "      <td>100</td>\n",
       "      <td>80</td>\n",
       "      <td>3</td>\n",
       "      <td>False</td>\n",
       "    </tr>\n",
       "    <tr>\n",
       "      <th>4</th>\n",
       "      <td>Charmander</td>\n",
       "      <td>Fire</td>\n",
       "      <td>NaN</td>\n",
       "      <td>309</td>\n",
       "      <td>39</td>\n",
       "      <td>52</td>\n",
       "      <td>43</td>\n",
       "      <td>60</td>\n",
       "      <td>50</td>\n",
       "      <td>65</td>\n",
       "      <td>1</td>\n",
       "      <td>False</td>\n",
       "    </tr>\n",
       "    <tr>\n",
       "      <th>5</th>\n",
       "      <td>Charmeleon</td>\n",
       "      <td>Fire</td>\n",
       "      <td>NaN</td>\n",
       "      <td>405</td>\n",
       "      <td>58</td>\n",
       "      <td>64</td>\n",
       "      <td>58</td>\n",
       "      <td>80</td>\n",
       "      <td>65</td>\n",
       "      <td>80</td>\n",
       "      <td>2</td>\n",
       "      <td>False</td>\n",
       "    </tr>\n",
       "  </tbody>\n",
       "</table>\n",
       "</div>"
      ],
      "text/plain": [
       "         Name Type 1  Type 2  Total  HP  Attack  Defense  Sp. Atk  Sp. Def  \\\n",
       "#                                                                            \n",
       "1   Bulbasaur  Grass  Poison    318  45      49       49       65       65   \n",
       "2     Ivysaur  Grass  Poison    405  60      62       63       80       80   \n",
       "3    Venusaur  Grass  Poison    525  80      82       83      100      100   \n",
       "4  Charmander   Fire     NaN    309  39      52       43       60       50   \n",
       "5  Charmeleon   Fire     NaN    405  58      64       58       80       65   \n",
       "\n",
       "   Speed  Stage  Legendary  \n",
       "#                           \n",
       "1     45      1      False  \n",
       "2     60      2      False  \n",
       "3     80      3      False  \n",
       "4     65      1      False  \n",
       "5     80      2      False  "
      ]
     },
     "execution_count": 2,
     "metadata": {},
     "output_type": "execute_result"
    }
   ],
   "source": [
    "df=pd.read_csv(r'C:\\Users\\Admin\\Downloads\\Pokemon1.csv',header=0, \n",
    "               index_col=0)\n",
    "df.head()"
   ]
  },
  {
   "cell_type": "code",
   "execution_count": 7,
   "id": "8c402b3f",
   "metadata": {},
   "outputs": [],
   "source": [
    "?sns.distplot"
   ]
  },
  {
   "cell_type": "code",
   "execution_count": 8,
   "id": "b94c5d31",
   "metadata": {},
   "outputs": [
    {
     "name": "stderr",
     "output_type": "stream",
     "text": [
      "C:\\Users\\Admin\\AppData\\Local\\Temp\\ipykernel_10308\\4105556219.py:1: UserWarning: \n",
      "\n",
      "`distplot` is a deprecated function and will be removed in seaborn v0.14.0.\n",
      "\n",
      "Please adapt your code to use either `displot` (a figure-level function with\n",
      "similar flexibility) or `histplot` (an axes-level function for histograms).\n",
      "\n",
      "For a guide to updating your code to use the new functions, please see\n",
      "https://gist.github.com/mwaskom/de44147ed2974457ad6372750bbe5751\n",
      "\n",
      "  sns.distplot(df.Defense)\n"
     ]
    },
    {
     "data": {
      "text/plain": [
       "<Axes: xlabel='Defense', ylabel='Density'>"
      ]
     },
     "execution_count": 8,
     "metadata": {},
     "output_type": "execute_result"
    },
    {
     "data": {
      "image/png": "[encoded data removed]",
      "text/plain": [
       "<Figure size 640x480 with 1 Axes>"
      ]
     },
     "metadata": {},
     "output_type": "display_data"
    }
   ],
   "source": [
    "sns.distplot(df.Defense)"
   ]
  },
  {
   "cell_type": "code",
   "execution_count": 10,
   "id": "81fafa9f",
   "metadata": {},
   "outputs": [
    {
     "data": {
      "text/plain": [
       "4.661203142349927"
      ]
     },
     "execution_count": 10,
     "metadata": {},
     "output_type": "execute_result"
    }
   ],
   "source": [
    "from scipy.stats import kurtosis\n",
    "# bydefault it is fisher = True\n",
    "kurt_coeff_def=kurtosis(df.Defense,fisher=False)\n",
    "kurt_coeff_def"
   ]
  },
  {
   "cell_type": "code",
   "execution_count": 11,
   "id": "4110574b",
   "metadata": {},
   "outputs": [
    {
     "data": {
      "text/plain": [
       "-0.3571247790751304"
      ]
     },
     "execution_count": 11,
     "metadata": {},
     "output_type": "execute_result"
    }
   ],
   "source": [
    "kurt_coeff_att=kurtosis(df.Attack,fisher=True)\n",
    "kurt_coeff_att"
   ]
  },
  {
   "cell_type": "code",
   "execution_count": 12,
   "id": "aa123c3d",
   "metadata": {
    "collapsed": true
   },
   "outputs": [
    {
     "name": "stderr",
     "output_type": "stream",
     "text": [
      "C:\\Users\\Admin\\AppData\\Local\\Temp\\ipykernel_10308\\2498996650.py:1: UserWarning: \n",
      "\n",
      "`distplot` is a deprecated function and will be removed in seaborn v0.14.0.\n",
      "\n",
      "Please adapt your code to use either `displot` (a figure-level function with\n",
      "similar flexibility) or `histplot` (an axes-level function for histograms).\n",
      "\n",
      "For a guide to updating your code to use the new functions, please see\n",
      "https://gist.github.com/mwaskom/de44147ed2974457ad6372750bbe5751\n",
      "\n",
      "  sns.distplot(df.Attack)\n"
     ]
    },
    {
     "data": {
      "text/plain": [
       "<Axes: xlabel='Attack', ylabel='Density'>"
      ]
     },
     "execution_count": 12,
     "metadata": {},
     "output_type": "execute_result"
    },
    {
     "data": {
      "image/png": "[encoded data removed]",
      "text/plain": [
       "<Figure size 640x480 with 1 Axes>"
      ]
     },
     "metadata": {},
     "output_type": "display_data"
    }
   ],
   "source": [
    "sns.distplot(df.Attack)"
   ]
  },
  {
   "cell_type": "markdown",
   "id": "056646b8",
   "metadata": {},
   "source": [
    "### Covariance\n",
    "\n",
    "Covariance (CoVary) defines how two variables are varying together.  \n",
    "It is a Bivariate Relationship between the variables.  \n",
    "It is a descriptive measure of linear association between two variables.\n",
    "1. A positive value indicates a direct or a increasing linear relationship.\n",
    "2. A negative value indicates a decreasing relationship.\n",
    "It only considers 'Direction' into consideration i.e. the change between the variables is positive or negative.  \n",
    "It never considers 'Strength'(magnitude)"
   ]
  },
  {
   "cell_type": "code",
   "execution_count": 13,
   "id": "9342af1b",
   "metadata": {},
   "outputs": [],
   "source": [
    "X=df[[\"HP\",\"Attack\",\"Defense\",\"Sp. Atk\",\"Sp. Def\",\"Speed\"]]"
   ]
  },
  {
   "cell_type": "code",
   "execution_count": 14,
   "id": "6a1e404d",
   "metadata": {},
   "outputs": [
    {
     "data": {
      "text/html": [
       "<div>\n",
       "<style scoped>\n",
       "    .dataframe tbody tr th:only-of-type {\n",
       "        vertical-align: middle;\n",
       "    }\n",
       "\n",
       "    .dataframe tbody tr th {\n",
       "        vertical-align: top;\n",
       "    }\n",
       "\n",
       "    .dataframe thead th {\n",
       "        text-align: right;\n",
       "    }\n",
       "</style>\n",
       "<table border=\"1\" class=\"dataframe\">\n",
       "  <thead>\n",
       "    <tr style=\"text-align: right;\">\n",
       "      <th></th>\n",
       "      <th>HP</th>\n",
       "      <th>Attack</th>\n",
       "      <th>Defense</th>\n",
       "      <th>Sp. Atk</th>\n",
       "      <th>Sp. Def</th>\n",
       "      <th>Speed</th>\n",
       "    </tr>\n",
       "  </thead>\n",
       "  <tbody>\n",
       "    <tr>\n",
       "      <th>HP</th>\n",
       "      <td>817.394790</td>\n",
       "      <td>233.262737</td>\n",
       "      <td>92.178631</td>\n",
       "      <td>193.056998</td>\n",
       "      <td>339.669095</td>\n",
       "      <td>-31.305872</td>\n",
       "    </tr>\n",
       "    <tr>\n",
       "      <th>Attack</th>\n",
       "      <td>233.262737</td>\n",
       "      <td>707.355850</td>\n",
       "      <td>352.188742</td>\n",
       "      <td>111.036380</td>\n",
       "      <td>237.522340</td>\n",
       "      <td>138.503311</td>\n",
       "    </tr>\n",
       "    <tr>\n",
       "      <th>Defense</th>\n",
       "      <td>92.178631</td>\n",
       "      <td>352.188742</td>\n",
       "      <td>724.508962</td>\n",
       "      <td>144.061810</td>\n",
       "      <td>91.128830</td>\n",
       "      <td>-38.338322</td>\n",
       "    </tr>\n",
       "    <tr>\n",
       "      <th>Sp. Atk</th>\n",
       "      <td>193.056998</td>\n",
       "      <td>111.036380</td>\n",
       "      <td>144.061810</td>\n",
       "      <td>814.200530</td>\n",
       "      <td>361.050552</td>\n",
       "      <td>314.069272</td>\n",
       "    </tr>\n",
       "    <tr>\n",
       "      <th>Sp. Def</th>\n",
       "      <td>339.669095</td>\n",
       "      <td>237.522340</td>\n",
       "      <td>91.128830</td>\n",
       "      <td>361.050552</td>\n",
       "      <td>585.539603</td>\n",
       "      <td>254.134658</td>\n",
       "    </tr>\n",
       "    <tr>\n",
       "      <th>Speed</th>\n",
       "      <td>-31.305872</td>\n",
       "      <td>138.503311</td>\n",
       "      <td>-38.338322</td>\n",
       "      <td>314.069272</td>\n",
       "      <td>254.134658</td>\n",
       "      <td>715.395585</td>\n",
       "    </tr>\n",
       "  </tbody>\n",
       "</table>\n",
       "</div>"
      ],
      "text/plain": [
       "                 HP      Attack     Defense     Sp. Atk     Sp. Def  \\\n",
       "HP       817.394790  233.262737   92.178631  193.056998  339.669095   \n",
       "Attack   233.262737  707.355850  352.188742  111.036380  237.522340   \n",
       "Defense   92.178631  352.188742  724.508962  144.061810   91.128830   \n",
       "Sp. Atk  193.056998  111.036380  144.061810  814.200530  361.050552   \n",
       "Sp. Def  339.669095  237.522340   91.128830  361.050552  585.539603   \n",
       "Speed    -31.305872  138.503311  -38.338322  314.069272  254.134658   \n",
       "\n",
       "              Speed  \n",
       "HP       -31.305872  \n",
       "Attack   138.503311  \n",
       "Defense  -38.338322  \n",
       "Sp. Atk  314.069272  \n",
       "Sp. Def  254.134658  \n",
       "Speed    715.395585  "
      ]
     },
     "execution_count": 14,
     "metadata": {},
     "output_type": "execute_result"
    }
   ],
   "source": [
    "cov_df=X.cov()\n",
    "cov_df"
   ]
  },
  {
   "cell_type": "code",
   "execution_count": null,
   "id": "2b38bfab",
   "metadata": {},
   "outputs": [],
   "source": []
  },
  {
   "cell_type": "markdown",
   "id": "3dc2f648",
   "metadata": {},
   "source": [
    "### Correlation \n",
    "Correlation measures the strength of relationships between two variables.  \n",
    "It is a Bivariate Relationship between variables.  \n",
    "It is a Linear association between two variables  \n",
    "It has a range scale between +1 to -1 which helps to measure the strength of relation.  \n",
    "1. 0 -------> no correlation\n",
    "2. close to +1 ---------> high positive correlation.\n",
    "3. close to -1 ---------> high negative correlation.\n",
    "4. close to 0 ---------> very low correlation.\n",
    "5. values btw -0.4 to +0.4 ------> low correlation.\n",
    "6. values btw  -0.75 to -0.4 or +0.4 to +0.75 ------> moderate correlation.\n",
    "7. values <-0.75 or > 0.75 ------> high correlation."
   ]
  },
  {
   "cell_type": "code",
   "execution_count": 21,
   "id": "d9586832",
   "metadata": {},
   "outputs": [
    {
     "name": "stdout",
     "output_type": "stream",
     "text": [
      "               HP    Attack   Defense   Sp. Atk   Sp. Def     Speed\n",
      "HP       1.000000  0.306768  0.119782  0.236649  0.490978 -0.040939\n",
      "Attack   0.306768  1.000000  0.491965  0.146312  0.369069  0.194701\n",
      "Defense  0.119782  0.491965  1.000000  0.187569  0.139912 -0.053252\n",
      "Sp. Atk  0.236649  0.146312  0.187569  1.000000  0.522907  0.411516\n",
      "Sp. Def  0.490978  0.369069  0.139912  0.522907  1.000000  0.392656\n",
      "Speed   -0.040939  0.194701 -0.053252  0.411516  0.392656  1.000000\n"
     ]
    },
    {
     "data": {
      "text/plain": [
       "<Axes: >"
      ]
     },
     "execution_count": 21,
     "metadata": {},
     "output_type": "execute_result"
    },
    {
     "data": {
      "image/png": "[encoded data removed]",
      "text/plain": [
       "<Figure size 640x480 with 2 Axes>"
      ]
     },
     "metadata": {},
     "output_type": "display_data"
    }
   ],
   "source": [
    "#Heatmaps are useful to visualize the magnitude of relationship \n",
    "#between multiple variables using the correlation matrix.\n",
    "#Pairs which show high correlation,<-0.75  or >0.75, should be considered \n",
    "#and we can eliminate one variable out of the pair leading to feature selection.\n",
    "corr_df=X.corr(method=\"pearson\") #\"spearman\",\"kendall\"\n",
    "print(corr_df)\n",
    "\n",
    "sns.heatmap(corr_df,vmax=1.0,vmin=-1.0,annot=True)"
   ]
  },
  {
   "cell_type": "code",
   "execution_count": null,
   "id": "1a3560e6",
   "metadata": {},
   "outputs": [],
   "source": []
  },
  {
   "cell_type": "markdown",
   "id": "ee90cbb6",
   "metadata": {},
   "source": [
    "### Coefficient of Variation\n",
    "\n",
    "Coefficient of variation of data defines a parameter to measure the consistency in the data.   \n",
    "The coefficient of variation is a relative measure of dispersion. It is based on the mean & standard deviation of a frequency distribution.  \n",
    "It is also known as relative std deviation.  \n",
    "More the value of C.V. = Less is the consistency.   \n",
    "Less the value of C.V. = More is the consistency.   \n",
    "\n",
    "\n",
    "The coefficient of variation is a dimensionless relative measure of dispersion defined as the standard deviation to mean ratio. If two data sets have different units, the coefficient of variation is the best way to compare them.  \n",
    "\n"
   ]
  },
  {
   "cell_type": "markdown",
   "id": "30de7778",
   "metadata": {},
   "source": [
    "Find the coefficient of variation of the following sample set of numbers.\n",
    "\n",
    "\n",
    "{1, 5, 6, 8, 10, 40, 65, 88}"
   ]
  },
  {
   "cell_type": "code",
   "execution_count": 18,
   "id": "92f9101d",
   "metadata": {},
   "outputs": [
    {
     "name": "stdout",
     "output_type": "stream",
     "text": [
      "118.04252100400296\n"
     ]
    }
   ],
   "source": [
    "import pandas as pd\n",
    "\n",
    "data = pd.Series([1, 5, 6, 8, 10, 40, 65, 88])\n",
    "\n",
    "mean_data=data.mean()\n",
    "\n",
    "std_dev = data.std()\n",
    "\n",
    "CV = (std_dev/mean_data)*100\n",
    "print(CV)\n"
   ]
  },
  {
   "cell_type": "markdown",
   "id": "68420b03",
   "metadata": {},
   "source": [
    "A study reports the monthly count of new subscribers of bloggers; Sheldon, Ross and Joey for a year. Find out who has more consistency in the number of new subscribers?  \n",
    "\n",
    "\n",
    "sheldon_sub = [3, 5.1, 2.9, 3.7, 4.2, 4.2, 4.3, 5.2, 3.7, 4.4, 5.2, 3.4]  \n",
    "ross_sub = [4, 4.6, 3.1, 4.2, 5.4, 3.4, 5, 6.2, 4.2, 3.5, 4.1, 5.5]  \n",
    "joey_sub = [4.3, 4, 4.5, 5.1, 6, 5, 4.8, 5.4, 5.1, 6.4, 4.2, 3.4]"
   ]
  },
  {
   "cell_type": "code",
   "execution_count": 2,
   "id": "24ef6f34",
   "metadata": {},
   "outputs": [
    {
     "name": "stdout",
     "output_type": "stream",
     "text": [
      "C.V. for Sheldon: 19.45762838254265\n",
      "C.V. for Ross: 21.145192478821624\n",
      "C.V. for Joey: 17.417938275352736\n"
     ]
    }
   ],
   "source": [
    "import pandas as pd\n",
    "# given series of data\n",
    "sheldon_sub = pd.Series([3,5.1, 2.9,3.7, 4.2, 4.2, 4.3, 5.2, 3.7,4.4,5.2,3.4])\n",
    "ross_sub = pd.Series([4, 4.6, 3.1, 4.2, 5.4, 3.4, 5, 6.2, 4.2, 3.5, 4.1, 5.5])\n",
    "joey_sub = pd.Series([4.3, 4, 4.5, 5.1, 6, 5, 4.8, 5.4, 5.1, 6.4, 4.2, 3.4])\n",
    "\n",
    "# average new subscribers for sheldon\n",
    "sheldon_avg = sheldon_sub.mean()\n",
    "\n",
    "# standard deviation for sheldon\n",
    "sheldon_sd = sheldon_sub.std()\n",
    "\n",
    "# calculate c.v. of sheldon\n",
    "sheldon_cv = (sheldon_sd/sheldon_avg)*100\n",
    "\n",
    "# average new subscribers for ross\n",
    "ross_avg = ross_sub.mean()\n",
    "\n",
    "# standard deviation for ross\n",
    "ross_sd = ross_sub.std()\n",
    "\n",
    "# calculate c.v. of ross\n",
    "ross_cv = (ross_sd/ross_avg)*100\n",
    "\n",
    "# average new subscribers for joey\n",
    "joey_avg = joey_sub.mean()\n",
    "\n",
    "# standard deviation for joey\n",
    "joey_sd = joey_sub.std()\n",
    "\n",
    "# calculate c.v. of joey\n",
    "joey_cv = (joey_sd/joey_avg)*100\n",
    "\n",
    "# print the cv for each blogger\n",
    "print('C.V. for Sheldon:', sheldon_cv)\n",
    "print('C.V. for Ross:', ross_cv)\n",
    "print('C.V. for Joey:', joey_cv)"
   ]
  },
  {
   "cell_type": "code",
   "execution_count": 3,
   "id": "e6695f59",
   "metadata": {},
   "outputs": [],
   "source": [
    "def CV(s):\n",
    "    mu=s.mean()\n",
    "    sd=s.std()\n",
    "    return(sd/mu)*100"
   ]
  },
  {
   "cell_type": "code",
   "execution_count": 4,
   "id": "751c5987",
   "metadata": {},
   "outputs": [
    {
     "name": "stdout",
     "output_type": "stream",
     "text": [
      "CV for sheldon is 19.45762838254265\n",
      "CV for ross is 21.145192478821624\n",
      "CV for joey is 17.417938275352736\n"
     ]
    }
   ],
   "source": [
    "# given series of data\n",
    "sheldon_sub = pd.Series([3, 5.1, 2.9, 3.7, 4.2, 4.2, 4.3, 5.2, 3.7, 4.4, 5.2, 3.4])\n",
    "ross_sub = pd.Series([4, 4.6, 3.1, 4.2, 5.4, 3.4, 5, 6.2, 4.2, 3.5, 4.1, 5.5])\n",
    "joey_sub = pd.Series([4.3, 4, 4.5, 5.1, 6, 5, 4.8, 5.4, 5.1, 6.4, 4.2, 3.4])\n",
    "\n",
    "print(\"CV for sheldon is\",CV(sheldon_sub))\n",
    "print(\"CV for ross is\",CV(ross_sub))\n",
    "print(\"CV for joey is\",CV(joey_sub))"
   ]
  },
  {
   "cell_type": "markdown",
   "id": "ae4d3bc8",
   "metadata": {},
   "source": [
    "The coefficient of variation formula is especially useful when comparing results from two different surveys with different values. The Coefficient of variation formula (CV), also known as relative standard deviation (RSD) in statistics, is a standardised measure of the dispersion of a probability or frequency distribution. If the coefficient of variation is lower, it indicates that the data has less variability and is more stable."
   ]
  },
  {
   "cell_type": "markdown",
   "id": "5670ba52",
   "metadata": {},
   "source": [
    "A record has been calculated for different divisions in a school where weekly test will conducted for 10 weeks for students. Find which division has shown consistent results in the tests?  \n",
    "\n",
    "Div_A = [35,27,33,39,25,30,35,37,33,35]  \n",
    "Div_B = [34,36,37,33,30,35,29,30,33,34]  \n",
    "Div_C = [37,34,33,34,29,27,30,28,30,31]  \n",
    "Div_D = [29,29,30,33,39,37,35,29,33,30]"
   ]
  },
  {
   "cell_type": "code",
   "execution_count": 5,
   "id": "acd85e0d",
   "metadata": {},
   "outputs": [],
   "source": [
    "def CV(s):\n",
    "    mu=s.mean()\n",
    "    sd=s.std()\n",
    "    return(sd/mu)*100"
   ]
  },
  {
   "cell_type": "code",
   "execution_count": 6,
   "id": "aff445b8",
   "metadata": {},
   "outputs": [],
   "source": [
    "import pandas as pd\n",
    "\n",
    "Div_A = pd.Series([35,27,33,39,25,30,35,37,33,35])\n",
    "Div_B = pd.Series([34,36,37,33,30,35,29,30,33,34])\n",
    "Div_C = pd.Series([37,34,33,34,29,27,30,28,30,31])\n",
    "Div_D = pd.Series([29,29,30,33,39,37,35,29,33,30])"
   ]
  },
  {
   "cell_type": "code",
   "execution_count": 7,
   "id": "8c0f4e4e",
   "metadata": {},
   "outputs": [
    {
     "name": "stdout",
     "output_type": "stream",
     "text": [
      "CV for Div A 13.322334811409513\n",
      "CV for Div B 8.112843529153205\n",
      "CV for Div C 9.99591056890932\n",
      "CV for Div D 11.194625933115592\n"
     ]
    }
   ],
   "source": [
    "print(\"CV for Div A\",CV(Div_A))\n",
    "print(\"CV for Div B\",CV(Div_B))\n",
    "print(\"CV for Div C\",CV(Div_C))\n",
    "print(\"CV for Div D\",CV(Div_D))"
   ]
  },
  {
   "cell_type": "code",
   "execution_count": null,
   "id": "cdbe1068",
   "metadata": {},
   "outputs": [],
   "source": []
  },
  {
   "cell_type": "markdown",
   "id": "f6e869d6",
   "metadata": {},
   "source": [
    "When comparing two data sets with similar values, the standard deviation can be used. If two data sets with different units must be compared, the coefficient of variation must be used.   \n",
    "\n",
    "1. The coefficient of variation (CV) is a statistical measure of how far apart data points in a series are from the mean. \n",
    "2. The coefficient of variation is the ratio of the standard deviation to the mean, and it is a useful statistic for comparing the degree of variation between data series, even if the means are vastly different.\n"
   ]
  },
  {
   "cell_type": "markdown",
   "id": "d27ea616",
   "metadata": {},
   "source": [
    "data=[152, 154,20,55,150, 151, 155, 156,157,158,159, 250, 158, 22,33,159,160, 161, 162, 163, 164, 165, 169, 170, 171, 172, 355, 174, 175,177,178, 300 ]\n",
    "\n",
    "a. Calculate the mean and standard deviation of these observations  \n",
    "b. Identify the outliers from the data  \n",
    "c. Find the total no. of outliers in the data.  \n",
    "d. Draw the graphical representation of Outliers.  \n",
    "e. Find the skewness of data.  \n",
    "f. Calculate the range of the data  \n",
    "g. write insights for all the outputs.\n"
   ]
  },
  {
   "cell_type": "code",
   "execution_count": null,
   "id": "0f7c36c3",
   "metadata": {},
   "outputs": [],
   "source": []
  },
  {
   "cell_type": "code",
   "execution_count": null,
   "id": "0e14d674",
   "metadata": {},
   "outputs": [],
   "source": []
  }
 ],
 "metadata": {
  "kernelspec": {
   "display_name": "Python 3 (ipykernel)",
   "language": "python",
   "name": "python3"
  },
  "language_info": {
   "codemirror_mode": {
    "name": "ipython",
    "version": 3
   },
   "file_extension": ".py",
   "mimetype": "text/x-python",
   "name": "python",
   "nbconvert_exporter": "python",
   "pygments_lexer": "ipython3",
   "version": "3.11.3"
  }
 },
 "nbformat": 4,
 "nbformat_minor": 5
}
