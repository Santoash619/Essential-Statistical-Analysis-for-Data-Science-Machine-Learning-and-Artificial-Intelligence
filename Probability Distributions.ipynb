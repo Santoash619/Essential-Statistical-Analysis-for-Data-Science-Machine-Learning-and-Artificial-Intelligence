{
 "cells": [
  {
   "cell_type": "markdown",
   "id": "4b6512ea",
   "metadata": {
    "id": "4b6512ea"
   },
   "source": [
    "#### Permutations and Combinations\n",
    "The number of ways in which we can arrange a set of elements."
   ]
  },
  {
   "cell_type": "code",
   "execution_count": null,
   "id": "8d4397a4",
   "metadata": {
    "id": "8d4397a4"
   },
   "outputs": [],
   "source": [
    "from itertools import permutations\n",
    "\n",
    "seq = permutations(['Alex','Bhavesh','Chandrika',\"Rohan\"])\n",
    "\n",
    "for p in list(seq):\n",
    "    print(p)"
   ]
  },
  {
   "cell_type": "code",
   "execution_count": null,
   "id": "94dc9078",
   "metadata": {
    "id": "94dc9078"
   },
   "outputs": [],
   "source": [
    "from itertools import combinations\n",
    "\n",
    "#Getting all combination of a particular length.\n",
    "combi = combinations(['p', 'y', 't', 'h', 'o', 'n'], 2)\n",
    "\n",
    "#Print the list of combinations\n",
    "\n",
    "for c in list(combi):\n",
    "    print(c)"
   ]
  },
  {
   "cell_type": "code",
   "execution_count": null,
   "id": "a78c0c21",
   "metadata": {
    "id": "a78c0c21"
   },
   "outputs": [],
   "source": [
    "seq = permutations(['p', 'y', 't', 'h', 'o', 'n'], 3)\n",
    "\n",
    "for p in list(seq):\n",
    "    print(p)"
   ]
  },
  {
   "cell_type": "code",
   "execution_count": null,
   "id": "7e956683",
   "metadata": {
    "id": "7e956683"
   },
   "outputs": [],
   "source": [
    "combi = combinations(['prachi', 'yogesh', 'tina', 'hetal',\n",
    "                      'ovi', 'riya'], 2)\n",
    "\n",
    "#Print the list of combinations\n",
    "\n",
    "for c in list(combi):\n",
    "    print(c)"
   ]
  },
  {
   "cell_type": "code",
   "execution_count": null,
   "id": "0bf9f060",
   "metadata": {
    "id": "0bf9f060"
   },
   "outputs": [],
   "source": [
    "from itertools import combinations_with_replacement\n",
    "\n",
    "# Get all combinations of [1, 2, 3, 4, 5, 6] and length 3\n",
    "comb = combinations_with_replacement([1, 2, 3, 4, 5, 6], 3)\n",
    "\n",
    "# Print the obtained combinations\n",
    "for i in list(comb):\n",
    "    print(i)"
   ]
  },
  {
   "cell_type": "markdown",
   "id": "1b3c3a89",
   "metadata": {
    "id": "1b3c3a89"
   },
   "source": [
    "### Bernoulli's Distribution\n",
    "Consider titanic survival where surviving is the success and it's probability is 0.7. Generate it's PMF"
   ]
  },
  {
   "cell_type": "code",
   "execution_count": null,
   "id": "4400a711",
   "metadata": {
    "id": "4400a711"
   },
   "outputs": [],
   "source": [
    "from scipy import stats\n",
    "x=[0,1]\n",
    "p=0.8\n",
    "stats.bernoulli.pmf(x,p)"
   ]
  },
  {
   "cell_type": "code",
   "execution_count": null,
   "id": "2a222329",
   "metadata": {
    "id": "2a222329"
   },
   "outputs": [],
   "source": [
    "?stats.bernoulli.pmf"
   ]
  },
  {
   "cell_type": "code",
   "execution_count": null,
   "id": "508bb313",
   "metadata": {
    "id": "508bb313"
   },
   "outputs": [],
   "source": [
    "x=[0,1]\n",
    "p=0.7\n",
    "\n",
    "stats.bernoulli.cdf(x,p)"
   ]
  },
  {
   "cell_type": "markdown",
   "id": "a5852033",
   "metadata": {
    "id": "a5852033"
   },
   "source": [
    "Generate a random space having 100 values in a bernoulli distribution with p=0.75"
   ]
  },
  {
   "cell_type": "code",
   "execution_count": null,
   "id": "f0f9d352",
   "metadata": {
    "id": "f0f9d352"
   },
   "outputs": [],
   "source": [
    "p=0.70\n",
    "rs=stats.bernoulli.rvs(p, size=50)\n",
    "rs"
   ]
  },
  {
   "cell_type": "code",
   "execution_count": null,
   "id": "03c559b0",
   "metadata": {
    "id": "03c559b0"
   },
   "outputs": [],
   "source": []
  },
  {
   "cell_type": "markdown",
   "id": "0dd7d78e",
   "metadata": {
    "id": "0dd7d78e"
   },
   "source": [
    "#### Binomial Distribution\n",
    "Huge Fruit Basket (HFB) is a grocery shop that sells fruits. It is observed that 20% of their customers complain about the fruits purchased by them for many reasons (bad quality, foul smell and less quantity). On Friday, 30 customers purchased fruits from HFB.\n",
    "\n",
    "Calculate the probability that exactly 10 customers will complain about the purchased products."
   ]
  },
  {
   "cell_type": "code",
   "execution_count": null,
   "id": "c8cb8c2b",
   "metadata": {
    "id": "c8cb8c2b"
   },
   "outputs": [],
   "source": [
    "prob = stats.binom.pmf(10, 30, 0.2)\n",
    "prob*100"
   ]
  },
  {
   "cell_type": "code",
   "execution_count": null,
   "id": "adc6607b",
   "metadata": {
    "id": "adc6607b"
   },
   "outputs": [],
   "source": [
    "prob = stats.binom.cdf(10, 30, 0.2)\n",
    "prob*100"
   ]
  },
  {
   "cell_type": "markdown",
   "id": "48255690",
   "metadata": {
    "id": "48255690"
   },
   "source": [
    "Calculate the probability that maximum of 8 customers will complain about the fruits purchased by them."
   ]
  },
  {
   "cell_type": "code",
   "execution_count": null,
   "id": "af917a82",
   "metadata": {
    "id": "af917a82"
   },
   "outputs": [],
   "source": [
    "#P(X<=8)\n",
    "prob = stats.binom.cdf(8, 30, 0.2)\n",
    "prob*100"
   ]
  },
  {
   "cell_type": "markdown",
   "id": "45f0c5b6",
   "metadata": {
    "id": "45f0c5b6"
   },
   "source": [
    "Calculate the probability that more than 10 customers will complain about the fruits purchased by them."
   ]
  },
  {
   "cell_type": "code",
   "execution_count": null,
   "id": "aaa4132c",
   "metadata": {
    "id": "aaa4132c"
   },
   "outputs": [],
   "source": [
    "#P(X>10)\n",
    "prob = 1 - stats.binom.cdf(10, 30, 0.2)\n",
    "prob"
   ]
  },
  {
   "cell_type": "markdown",
   "id": "f1cdb2a6",
   "metadata": {
    "id": "f1cdb2a6"
   },
   "source": [
    "Find the average number of customers who are likely to complain about the fruits. Also find the variance of the number of complaints."
   ]
  },
  {
   "cell_type": "code",
   "execution_count": null,
   "id": "a3a59b38",
   "metadata": {
    "id": "a3a59b38"
   },
   "outputs": [],
   "source": [
    "average,varian,skewness,kurtosis=stats.binom.stats(30,0.2,moments=\"mvsk\")\n",
    "print(average)\n",
    "print(varian)\n",
    "print(skewness)\n",
    "print(kurtosis)"
   ]
  },
  {
   "cell_type": "code",
   "execution_count": null,
   "id": "33b0f74b",
   "metadata": {
    "id": "33b0f74b"
   },
   "outputs": [],
   "source": [
    "?stats.binom.stats"
   ]
  },
  {
   "cell_type": "markdown",
   "id": "2a528895",
   "metadata": {
    "id": "2a528895"
   },
   "source": [
    "From the experience, it is seen that 3% of the tyres produced by the machine are defective. Out of the 15 tyres produced, find the probability that at most 2 are defective."
   ]
  },
  {
   "cell_type": "code",
   "execution_count": null,
   "id": "0a4d3df8",
   "metadata": {
    "id": "0a4d3df8"
   },
   "outputs": [],
   "source": [
    "stats.binom.cdf(2, 15, 0.03)"
   ]
  },
  {
   "cell_type": "markdown",
   "id": "1139d8b8",
   "metadata": {
    "id": "1139d8b8"
   },
   "source": [
    "Big Basket is a grocery shopping app that sells groceries & food materials. It is observed that 40% of their customers complain about the vegetables purchased by them for many reasons (bad quality, foul smell, and less quantity). On Sunday, 90 customers purchased vegetables from Big Basket.\n",
    "\n",
    "(i). Calculate the probability that more than 25 customers will complain about the vegetables purchased by them.\n",
    "(ii). Find the average number of customers who are likely to complain about the vegetables. Also, find the variance of the number of complaints."
   ]
  },
  {
   "cell_type": "code",
   "execution_count": null,
   "id": "78e263e8",
   "metadata": {
    "id": "78e263e8"
   },
   "outputs": [],
   "source": [
    "1-stats.binom.cdf(25,90,0.4)"
   ]
  },
  {
   "cell_type": "code",
   "execution_count": null,
   "id": "6f5bae1d",
   "metadata": {
    "id": "6f5bae1d"
   },
   "outputs": [],
   "source": [
    "mean,var = stats.binom.stats(90,0.4)\n",
    "print(mean)\n",
    "\n",
    "print(var)"
   ]
  },
  {
   "cell_type": "markdown",
   "id": "ae44ee4f",
   "metadata": {
    "id": "ae44ee4f"
   },
   "source": [
    "#### Poisson Distribution\n",
    "The number of customer returns in a retail chain per day follows a poisson distribution at a rate of 25 returns per day.\n",
    "\n",
    "Calculate the probability that the number of returns exceeds 30 in a day."
   ]
  },
  {
   "cell_type": "code",
   "execution_count": null,
   "id": "c90124ea",
   "metadata": {
    "id": "c90124ea"
   },
   "outputs": [],
   "source": [
    "from scipy import stats\n",
    "prob = 1 - stats.poisson.cdf(30, 25)\n",
    "prob"
   ]
  },
  {
   "cell_type": "markdown",
   "id": "5daf892d",
   "metadata": {
    "id": "5daf892d"
   },
   "source": [
    "The number of road accidents on the day follow Poisson distribution with mean equals to 3. What is the probability that on a day exactly 1 accident will happen?"
   ]
  },
  {
   "cell_type": "code",
   "execution_count": null,
   "id": "5814429d",
   "metadata": {
    "id": "5814429d"
   },
   "outputs": [],
   "source": [
    "?stats.poisson.pmf"
   ]
  },
  {
   "cell_type": "code",
   "execution_count": null,
   "id": "7a95870f",
   "metadata": {
    "id": "7a95870f"
   },
   "outputs": [],
   "source": [
    "stats.poisson.pmf(1, 3)"
   ]
  },
  {
   "cell_type": "markdown",
   "id": "dc15d2c1",
   "metadata": {
    "id": "dc15d2c1"
   },
   "source": [
    "The number of trucks crossing a bridge during the day follow a Poisson distribution with mean 22. What is the probability that on a randomly selected day 14 trucks would have crossed the bridge?"
   ]
  },
  {
   "cell_type": "code",
   "execution_count": null,
   "id": "fd7433cc",
   "metadata": {
    "id": "fd7433cc"
   },
   "outputs": [],
   "source": [
    "stats.poisson.pmf(14, 22)*100"
   ]
  },
  {
   "cell_type": "code",
   "execution_count": null,
   "id": "65220d8c",
   "metadata": {
    "id": "65220d8c"
   },
   "outputs": [],
   "source": []
  },
  {
   "cell_type": "markdown",
   "id": "272738d4",
   "metadata": {
    "id": "272738d4"
   },
   "source": [
    "#### Normal Distribution\n",
    "Assume a normal distribution where the mean clotting time of blood is 7.35 seconds, with a standard deviation of 0.35 seconds. What is the probability that blood clotting time will be less than 7 seconds"
   ]
  },
  {
   "cell_type": "code",
   "execution_count": null,
   "id": "fba23d45",
   "metadata": {
    "id": "fba23d45"
   },
   "outputs": [],
   "source": [
    "from scipy import stats\n",
    "mu=7.35\n",
    "sd=0.35\n",
    "\n",
    "# to find P(X<7)\n",
    "stats.norm.cdf(7, mu, sd)"
   ]
  },
  {
   "cell_type": "code",
   "execution_count": null,
   "id": "700d5e69",
   "metadata": {
    "id": "700d5e69"
   },
   "outputs": [],
   "source": [
    "n=stats.norm.rvs(7.35,0.35,10)\n",
    "#import numpy as np\n",
    "#np.mean(n)"
   ]
  },
  {
   "cell_type": "markdown",
   "id": "689450ec",
   "metadata": {
    "id": "689450ec"
   },
   "source": [
    "Assume a normal distribution where the average size of the bass in a lake is 11.4 inches, with a standard deviation of 3.2 inches. Find the probability of catching a bass longer than 17 inches."
   ]
  },
  {
   "cell_type": "code",
   "execution_count": null,
   "id": "5d80bda7",
   "metadata": {
    "id": "5d80bda7"
   },
   "outputs": [],
   "source": [
    "mu=11.4\n",
    "sd=3.2\n",
    "\n",
    "# to find P(X>17)\n",
    "1-stats.norm.cdf(17,mu,sd)"
   ]
  },
  {
   "cell_type": "markdown",
   "id": "aac19bed",
   "metadata": {
    "id": "aac19bed"
   },
   "source": [
    "The IQ of students follows normal distribution with mean 95 and variance 10. What is the probability that the any student selected at random will have IQ more than 102?"
   ]
  },
  {
   "cell_type": "code",
   "execution_count": null,
   "id": "f8ac79e3",
   "metadata": {
    "id": "f8ac79e3"
   },
   "outputs": [],
   "source": [
    "# import the required library\n",
    "from scipy.stats import norm\n",
    "import numpy as np\n",
    "# mean of the distribution is\n",
    "mu = 95\n",
    "# variance of the distribution is\n",
    "var = 10\n",
    "# standard deviation of the distribution is\n",
    "sd = np.sqrt(var)\n",
    "# P(X>102)\n",
    "1 - norm.cdf(102, mu, sd)"
   ]
  },
  {
   "cell_type": "code",
   "execution_count": null,
   "id": "c57b1d71",
   "metadata": {
    "id": "c57b1d71"
   },
   "outputs": [],
   "source": []
  },
  {
   "cell_type": "markdown",
   "id": "103c5021",
   "metadata": {
    "id": "103c5021"
   },
   "source": [
    "A survey of daily travel time had these results (in minutes):  \n",
    "\n",
    "26, 33, 65, 28, 34, 55, 25, 44, 50, 36, 26, 37, 43, 62, 35, 38, 45, 32, 28, 34"
   ]
  },
  {
   "cell_type": "code",
   "execution_count": null,
   "id": "30be2720",
   "metadata": {
    "id": "30be2720"
   },
   "outputs": [],
   "source": [
    "import pandas as pd\n",
    "data=pd.Series([26, 33, 65, 28, 34, 55, 25, 44, 50,\n",
    "                36, 26, 37, 43, 62, 35, 38, 45, 32, 28, 34])\n",
    "data_mean=data.mean()\n",
    "data_std=data.std()\n",
    "print(data_mean)\n",
    "print(data_std)"
   ]
  },
  {
   "cell_type": "code",
   "execution_count": null,
   "id": "d0854534",
   "metadata": {
    "id": "d0854534"
   },
   "outputs": [],
   "source": [
    "sd_1=data_mean+data_std\n",
    "sd_minus1=data_mean-data_std\n",
    "print(\"68% of data will lie from \",sd_minus1, \" to \", sd_1)"
   ]
  },
  {
   "cell_type": "code",
   "execution_count": null,
   "id": "dfddfa41",
   "metadata": {
    "id": "dfddfa41"
   },
   "outputs": [],
   "source": [
    "SD_1=[]\n",
    "for i in data:\n",
    "    if ((i>=sd_minus1) & (i<=sd_1)):\n",
    "        SD_1.append(i)\n",
    "\n",
    "print(SD_1)"
   ]
  },
  {
   "cell_type": "code",
   "execution_count": null,
   "id": "a2342c5f",
   "metadata": {
    "id": "a2342c5f"
   },
   "outputs": [],
   "source": [
    "sd_2=data_mean+(2*data_std)\n",
    "sd_minus2=data_mean-(2*data_std)\n",
    "\n",
    "print(\"95% of data will lie from \",sd_minus2, \" to \", sd_2)"
   ]
  },
  {
   "cell_type": "code",
   "execution_count": null,
   "id": "274a6a48",
   "metadata": {
    "id": "274a6a48"
   },
   "outputs": [],
   "source": [
    "SD_2=[]\n",
    "for i in data:\n",
    "    if ((i>=sd_minus2) & (i<=sd_2)):\n",
    "        SD_2.append(i)\n",
    "\n",
    "print(SD_2)"
   ]
  },
  {
   "cell_type": "code",
   "execution_count": null,
   "id": "4a11ff65",
   "metadata": {
    "id": "4a11ff65"
   },
   "outputs": [],
   "source": [
    "sd_3=data_mean+(3*data_std)\n",
    "sd_minus3=data_mean-(3*data_std)\n",
    "\n",
    "print(\"99.7% of data will lie from \",sd_minus3, \" to \", sd_3)"
   ]
  },
  {
   "cell_type": "code",
   "execution_count": null,
   "id": "030c13da",
   "metadata": {
    "id": "030c13da"
   },
   "outputs": [],
   "source": [
    "SD_3=[]\n",
    "for i in data:\n",
    "    if ((i>=sd_minus3) & (i<=sd_3)):\n",
    "        SD_3.append(i)\n",
    "\n",
    "print(SD_3)"
   ]
  },
  {
   "cell_type": "code",
   "execution_count": null,
   "id": "fe8cdbfa",
   "metadata": {
    "id": "fe8cdbfa"
   },
   "outputs": [],
   "source": [
    "outliers=[]\n",
    "for i in data:\n",
    "    if ((i<sd_minus3) | (i>sd_3)):\n",
    "        outliers.append(i)\n",
    "print(outliers)"
   ]
  },
  {
   "cell_type": "code",
   "execution_count": null,
   "id": "717d734f",
   "metadata": {
    "id": "717d734f"
   },
   "outputs": [],
   "source": [
    "import warnings\n",
    "warnings.filterwarnings(\"ignore\")"
   ]
  },
  {
   "cell_type": "code",
   "execution_count": null,
   "id": "72bb7e28",
   "metadata": {
    "id": "72bb7e28"
   },
   "outputs": [],
   "source": [
    "import seaborn as sns\n",
    "sns.distplot(data);"
   ]
  },
  {
   "cell_type": "markdown",
   "id": "5943cc8d",
   "metadata": {
    "id": "5943cc8d"
   },
   "source": [
    "A company makes parts for a machine. The lengths of the parts must be within certain limits or they will be rejected.\n",
    "\n",
    "A large number of parts were measured and the mean and standard deviation were calculated as 3.1 m and 0.005 m respectively.\n",
    "\n",
    "Assuming this data is normally distributed and 99.7% of the parts were accepted, what are the limits?\n",
    "\n",
    "mu=3.1"
   ]
  },
  {
   "cell_type": "code",
   "execution_count": null,
   "id": "02b4e356",
   "metadata": {
    "id": "02b4e356"
   },
   "outputs": [],
   "source": [
    "mu=3.1\n",
    "std=0.005\n",
    "\n",
    "std_3=mu+(3*std)\n",
    "std_minus3=mu-(3*std)\n",
    "\n",
    "print(\"The acceptable range is:\",std_minus3, \" to \", std_3)"
   ]
  },
  {
   "cell_type": "markdown",
   "id": "cc2795b0",
   "metadata": {
    "id": "cc2795b0"
   },
   "source": [
    "#### Z-score\n",
    "A z-score measures exactly how many standard deviations above or below the mean a data point is.\n",
    "\n",
    "Some important facts about z-scores:\n",
    "\n",
    "positive z-score says the data point is above average.  \n",
    "negative z-score says the data point is below average.  \n",
    "z-score close to 0, says the data point is close to average.  \n",
    "A data point can be considered unusual if its z-score is above 3 or below −3"
   ]
  },
  {
   "cell_type": "code",
   "execution_count": 1,
   "id": "d736d783",
   "metadata": {
    "executionInfo": {
     "elapsed": 9,
     "status": "ok",
     "timestamp": 1700913773733,
     "user": {
      "displayName": "Jagruti Pawashe",
      "userId": "13553701529318428856"
     },
     "user_tz": -330
    },
    "id": "d736d783"
   },
   "outputs": [],
   "source": [
    "import numpy as np\n",
    "tt=np.array([26, 33, 65, 28, 34, 55, 25, 44, 50, 36, 26, 37, 43,\n",
    "             62, 35, 38, 45, 32, 28, 34])\n",
    "#Normalization\n",
    "def normalize(data):\n",
    "    xmin=min(data)\n",
    "    xmax=max(data)\n",
    "    norm_data=[]\n",
    "    for i in data:\n",
    "        new_i=(i-xmin)/(xmax-xmin)\n",
    "        norm_data.append(new_i)\n",
    "    return norm_data"
   ]
  },
  {
   "cell_type": "code",
   "execution_count": 4,
   "id": "98951c6a",
   "metadata": {
    "executionInfo": {
     "elapsed": 6,
     "status": "ok",
     "timestamp": 1700913943771,
     "user": {
      "displayName": "Jagruti Pawashe",
      "userId": "13553701529318428856"
     },
     "user_tz": -330
    },
    "id": "98951c6a"
   },
   "outputs": [],
   "source": [
    "new = normalize(tt)"
   ]
  },
  {
   "cell_type": "code",
   "execution_count": 6,
   "id": "HR04iERJXmwr",
   "metadata": {
    "colab": {
     "base_uri": "https://localhost:8080/",
     "height": 649
    },
    "executionInfo": {
     "elapsed": 1049,
     "status": "ok",
     "timestamp": 1700913964605,
     "user": {
      "displayName": "Jagruti Pawashe",
      "userId": "13553701529318428856"
     },
     "user_tz": -330
    },
    "id": "HR04iERJXmwr",
    "outputId": "db1f3b3d-2bce-49d7-c7e4-19c8ed945ef2"
   },
   "outputs": [
    {
     "name": "stderr",
     "output_type": "stream",
     "text": [
      "<ipython-input-6-5d0dbc212dfc>:2: UserWarning: \n",
      "\n",
      "`distplot` is a deprecated function and will be removed in seaborn v0.14.0.\n",
      "\n",
      "Please adapt your code to use either `displot` (a figure-level function with\n",
      "similar flexibility) or `histplot` (an axes-level function for histograms).\n",
      "\n",
      "For a guide to updating your code to use the new functions, please see\n",
      "https://gist.github.com/mwaskom/de44147ed2974457ad6372750bbe5751\n",
      "\n",
      "  sns.distplot(new)\n"
     ]
    },
    {
     "data": {
      "text/plain": [
       "<Axes: ylabel='Density'>"
      ]
     },
     "execution_count": 6,
     "metadata": {},
     "output_type": "execute_result"
    },
    {
     "data": {
      "image/png": "[encoded data removed]",
      "text/plain": [
       "<Figure size 640x480 with 1 Axes>"
      ]
     },
     "metadata": {},
     "output_type": "display_data"
    }
   ],
   "source": [
    "import seaborn as sns\n",
    "sns.distplot(new)"
   ]
  },
  {
   "cell_type": "code",
   "execution_count": 7,
   "id": "N8LRQvPIX8Z1",
   "metadata": {
    "colab": {
     "base_uri": "https://localhost:8080/",
     "height": 649
    },
    "executionInfo": {
     "elapsed": 804,
     "status": "ok",
     "timestamp": 1700913998759,
     "user": {
      "displayName": "Jagruti Pawashe",
      "userId": "13553701529318428856"
     },
     "user_tz": -330
    },
    "id": "N8LRQvPIX8Z1",
    "outputId": "be0330bc-2d13-4bc5-d0c1-50bc210443f7"
   },
   "outputs": [
    {
     "name": "stderr",
     "output_type": "stream",
     "text": [
      "<ipython-input-7-df8fc33eae95>:1: UserWarning: \n",
      "\n",
      "`distplot` is a deprecated function and will be removed in seaborn v0.14.0.\n",
      "\n",
      "Please adapt your code to use either `displot` (a figure-level function with\n",
      "similar flexibility) or `histplot` (an axes-level function for histograms).\n",
      "\n",
      "For a guide to updating your code to use the new functions, please see\n",
      "https://gist.github.com/mwaskom/de44147ed2974457ad6372750bbe5751\n",
      "\n",
      "  sns.distplot(tt)\n"
     ]
    },
    {
     "data": {
      "text/plain": [
       "<Axes: ylabel='Density'>"
      ]
     },
     "execution_count": 7,
     "metadata": {},
     "output_type": "execute_result"
    },
    {
     "data": {
      "image/png": "[encoded data removed]",
      "text/plain": [
       "<Figure size 640x480 with 1 Axes>"
      ]
     },
     "metadata": {},
     "output_type": "display_data"
    }
   ],
   "source": [
    "sns.distplot(tt)"
   ]
  },
  {
   "cell_type": "code",
   "execution_count": 8,
   "id": "c13d4ec9",
   "metadata": {
    "executionInfo": {
     "elapsed": 391,
     "status": "ok",
     "timestamp": 1700914443152,
     "user": {
      "displayName": "Jagruti Pawashe",
      "userId": "13553701529318428856"
     },
     "user_tz": -330
    },
    "id": "c13d4ec9"
   },
   "outputs": [],
   "source": [
    "tt=[26, 33, 65, 28, 34, 55, 25, 44, 50, 36, 26, 37, 43, 62, 35,\n",
    "    38, 45, 32, 28, 34]\n",
    "def z_score(data):\n",
    "    data_mean=np.mean(data)\n",
    "    data_std=np.std(data)\n",
    "    std_data=[]\n",
    "    for i in data:\n",
    "        new_i=(i-data_mean)/data_std\n",
    "        std_data.append(new_i)\n",
    "    print(\"Mean is:\", data_mean)\n",
    "    print(\"Std is: \",data_std)\n",
    "    return std_data"
   ]
  },
  {
   "cell_type": "code",
   "execution_count": 9,
   "id": "443ba307",
   "metadata": {
    "colab": {
     "base_uri": "https://localhost:8080/"
    },
    "executionInfo": {
     "elapsed": 411,
     "status": "ok",
     "timestamp": 1700914447699,
     "user": {
      "displayName": "Jagruti Pawashe",
      "userId": "13553701529318428856"
     },
     "user_tz": -330
    },
    "id": "443ba307",
    "outputId": "7692f7fb-1f36-4375-9e92-aa963aa3321b"
   },
   "outputs": [
    {
     "name": "stdout",
     "output_type": "stream",
     "text": [
      "Mean is: 38.8\n",
      "Std is:  11.399999999999999\n",
      "[-1.1228070175438596, -0.5087719298245612, 2.298245614035088, -0.9473684210526314, -0.4210526315789472, 1.4210526315789478, -1.2105263157894737, 0.4561403508771933, 0.9824561403508776, -0.2456140350877191, -1.1228070175438596, -0.15789473684210503, 0.36842105263157926, 2.035087719298246, -0.33333333333333315, -0.07017543859649099, 0.5438596491228074, -0.5964912280701753, -0.9473684210526314, -0.4210526315789472]\n"
     ]
    }
   ],
   "source": [
    "print(z_score(tt))"
   ]
  },
  {
   "cell_type": "code",
   "execution_count": 10,
   "id": "abf7ae53",
   "metadata": {
    "colab": {
     "base_uri": "https://localhost:8080/"
    },
    "executionInfo": {
     "elapsed": 412,
     "status": "ok",
     "timestamp": 1700914588337,
     "user": {
      "displayName": "Jagruti Pawashe",
      "userId": "13553701529318428856"
     },
     "user_tz": -330
    },
    "id": "abf7ae53",
    "outputId": "69b3a00a-a2d6-4717-9634-e582bf0ae5b3"
   },
   "outputs": [
    {
     "name": "stdout",
     "output_type": "stream",
     "text": [
      "Mean is: 38.8\n",
      "Std is:  11.399999999999999\n",
      "2.636779683484747e-16\n",
      "1.0000000000000002\n"
     ]
    }
   ],
   "source": [
    "a=z_score(tt)\n",
    "print(np.mean(a))\n",
    "print(np.std(a))"
   ]
  },
  {
   "cell_type": "code",
   "execution_count": 11,
   "id": "cdf2ad76",
   "metadata": {
    "colab": {
     "base_uri": "https://localhost:8080/",
     "height": 649
    },
    "executionInfo": {
     "elapsed": 846,
     "status": "ok",
     "timestamp": 1700914594030,
     "user": {
      "displayName": "Jagruti Pawashe",
      "userId": "13553701529318428856"
     },
     "user_tz": -330
    },
    "id": "cdf2ad76",
    "outputId": "a5afc3a9-6ce9-4e9e-dc38-a4f58d474d23"
   },
   "outputs": [
    {
     "name": "stderr",
     "output_type": "stream",
     "text": [
      "<ipython-input-11-f134c0697e25>:1: UserWarning: \n",
      "\n",
      "`distplot` is a deprecated function and will be removed in seaborn v0.14.0.\n",
      "\n",
      "Please adapt your code to use either `displot` (a figure-level function with\n",
      "similar flexibility) or `histplot` (an axes-level function for histograms).\n",
      "\n",
      "For a guide to updating your code to use the new functions, please see\n",
      "https://gist.github.com/mwaskom/de44147ed2974457ad6372750bbe5751\n",
      "\n",
      "  sns.distplot(a)\n"
     ]
    },
    {
     "data": {
      "text/plain": [
       "<Axes: ylabel='Density'>"
      ]
     },
     "execution_count": 11,
     "metadata": {},
     "output_type": "execute_result"
    },
    {
     "data": {
      "image/png": "[encoded data removed]",
      "text/plain": [
       "<Figure size 640x480 with 1 Axes>"
      ]
     },
     "metadata": {},
     "output_type": "display_data"
    }
   ],
   "source": [
    "sns.distplot(a)"
   ]
  },
  {
   "cell_type": "markdown",
   "id": "47ea7827",
   "metadata": {
    "id": "47ea7827"
   },
   "source": [
    "Calculate the mean and standard deviation and z-scores of these observations."
   ]
  },
  {
   "cell_type": "code",
   "execution_count": 14,
   "id": "3fce49c1",
   "metadata": {
    "colab": {
     "base_uri": "https://localhost:8080/"
    },
    "executionInfo": {
     "elapsed": 394,
     "status": "ok",
     "timestamp": 1700914971717,
     "user": {
      "displayName": "Jagruti Pawashe",
      "userId": "13553701529318428856"
     },
     "user_tz": -330
    },
    "id": "3fce49c1",
    "outputId": "9b499892-c21a-456e-fa4b-1501807a8ec3"
   },
   "outputs": [
    {
     "name": "stdout",
     "output_type": "stream",
     "text": [
      "Sample Mean:  27.05\n",
      "Sample Standard Deviation:  6.1682655584856265\n",
      "[[-1.79142741]\n",
      " [-1.79142741]\n",
      " [ 0.47825438]\n",
      " [ 1.61309527]\n",
      " [-0.33234626]\n",
      " [-0.81870664]\n",
      " [-1.30506703]\n",
      " [ 1.28885502]\n",
      " [-0.00810601]\n",
      " [ 0.80249463]\n",
      " [ 1.12673489]\n",
      " [ 0.15401412]\n",
      " [-0.49446639]\n",
      " [ 1.28885502]\n",
      " [-0.49446639]\n",
      " [-0.98082677]\n",
      " [ 0.80249463]\n",
      " [ 0.31613425]\n",
      " [-0.49446639]\n",
      " [ 1.28885502]\n",
      " [ 0.15401412]\n",
      " [ 0.31613425]\n",
      " [-1.46718716]\n",
      " [ 0.6403745 ]\n",
      " [ 0.15401412]\n",
      " [ 0.96461476]\n",
      " [ 0.80249463]\n",
      " [-0.49446639]\n",
      " [-0.33234626]\n",
      " [-0.81870664]\n",
      " [-0.98082677]\n",
      " [-0.00810601]\n",
      " [ 2.26157578]\n",
      " [-0.65658652]\n",
      " [-0.65658652]\n",
      " [-1.79142741]\n",
      " [-0.49446639]\n",
      " [ 1.7752154 ]\n",
      " [-0.17022613]\n",
      " [ 0.15401412]]\n"
     ]
    }
   ],
   "source": [
    "data = [16.0, 16.0, 30.0, 37.0, 25.0, 22.0, 19.0, 35.0, 27.0, 32.0,\n",
    "34.0, 28.0, 24.0, 35.0, 24.0, 21.0, 32.0, 29.0, 24.0, 35.0,\n",
    "28.0, 29.0, 18.0, 31.0, 28.0, 33.0, 32.0, 24.0, 25.0, 22.0,\n",
    "21.0, 27.0, 41.0, 23.0, 23.0, 16.0, 24.0, 38.0, 26.0, 28.0]\n",
    "# find the mean\n",
    "print(\"Sample Mean: \", np.mean(data))\n",
    "\n",
    "# find the mean\n",
    "print(\"Sample Standard Deviation: \", np.std(data))\n",
    "\n",
    "data=np.array(data)\n",
    "data=data.reshape((len(data),1))\n",
    "from sklearn.preprocessing import StandardScaler\n",
    "scaler=StandardScaler()\n",
    "std_data=scaler.fit_transform(data)\n",
    "print(std_data)"
   ]
  },
  {
   "cell_type": "code",
   "execution_count": null,
   "id": "70e99f28",
   "metadata": {
    "id": "70e99f28"
   },
   "outputs": [],
   "source": [
    "data"
   ]
  },
  {
   "cell_type": "code",
   "execution_count": null,
   "id": "EtGET2UDbWW0",
   "metadata": {
    "id": "EtGET2UDbWW0"
   },
   "outputs": [],
   "source": []
  }
 ],
 "metadata": {
  "colab": {
   "provenance": []
  },
  "kernelspec": {
   "display_name": "Python 3 (ipykernel)",
   "language": "python",
   "name": "python3"
  },
  "language_info": {
   "codemirror_mode": {
    "name": "ipython",
    "version": 3
   },
   "file_extension": ".py",
   "mimetype": "text/x-python",
   "name": "python",
   "nbconvert_exporter": "python",
   "pygments_lexer": "ipython3",
   "version": "3.11.3"
  }
 },
 "nbformat": 4,
 "nbformat_minor": 5
}
