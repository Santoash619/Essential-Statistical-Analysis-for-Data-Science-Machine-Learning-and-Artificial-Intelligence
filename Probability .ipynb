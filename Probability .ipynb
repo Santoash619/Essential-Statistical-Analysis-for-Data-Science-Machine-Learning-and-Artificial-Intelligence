{
 "cells": [
  {
   "cell_type": "markdown",
   "id": "33b97c86",
   "metadata": {},
   "source": [
    "### What is Probability?\n",
    "Probability means possibility. It is a branch of mathematics that deals with the occurrence of a random event. The value is expressed from zero to one. Probability has been introduced in Maths to predict how likely events are to happen. The meaning of probability is basically the extent to which something is likely to happen."
   ]
  },
  {
   "cell_type": "markdown",
   "id": "55378b0b",
   "metadata": {},
   "source": [
    "#### Questions\n",
    "\n",
    "1. What is the probability of selecting a jack out of a deck of cards\n",
    "\n",
    "2. What is the probability of selecting a spade out of a deck of cards\n",
    "\n",
    "3. what would be the probability of selecting a heart or a club card from deck of cards\n",
    "\n",
    "4. What is the probability of drawing an ace or a king or a queen"
   ]
  },
  {
   "cell_type": "code",
   "execution_count": 1,
   "id": "b984b008",
   "metadata": {},
   "outputs": [],
   "source": [
    "Total = 52\n",
    "Face = 12\n",
    "jack = 4\n",
    "king = 4\n",
    "queen = 4\n",
    "ace = 4\n",
    "spade = 13\n",
    "heart = 13\n",
    "club = 13"
   ]
  },
  {
   "cell_type": "code",
   "execution_count": 2,
   "id": "6eef126c",
   "metadata": {},
   "outputs": [
    {
     "data": {
      "text/plain": [
       "7.6923076923076925"
      ]
     },
     "execution_count": 2,
     "metadata": {},
     "output_type": "execute_result"
    }
   ],
   "source": [
    "P_jack = (jack/Total)*100\n",
    "P_jack"
   ]
  },
  {
   "cell_type": "code",
   "execution_count": 3,
   "id": "20637ebf",
   "metadata": {},
   "outputs": [
    {
     "data": {
      "text/plain": [
       "0.25"
      ]
     },
     "execution_count": 3,
     "metadata": {},
     "output_type": "execute_result"
    }
   ],
   "source": [
    "P_spade = spade/Total\n",
    "P_spade"
   ]
  },
  {
   "cell_type": "code",
   "execution_count": 4,
   "id": "06aafb05",
   "metadata": {},
   "outputs": [
    {
     "data": {
      "text/plain": [
       "0.5"
      ]
     },
     "execution_count": 4,
     "metadata": {},
     "output_type": "execute_result"
    }
   ],
   "source": [
    "P_Heart_or_club = (heart/Total)+(club/Total)\n",
    "P_Heart_or_club"
   ]
  },
  {
   "cell_type": "code",
   "execution_count": 5,
   "id": "6695539e",
   "metadata": {},
   "outputs": [
    {
     "data": {
      "text/plain": [
       "0.23076923076923078"
      ]
     },
     "execution_count": 5,
     "metadata": {},
     "output_type": "execute_result"
    }
   ],
   "source": [
    "P_A_K_Q = (ace/Total)+(king/Total)+(queen/Total)\n",
    "P_A_K_Q"
   ]
  },
  {
   "cell_type": "markdown",
   "id": "1bef50e6",
   "metadata": {},
   "source": [
    "During the survey it was observed that out of 100 audience, 40 amongst them like horror movie, 15 of them like action movies & rest of them loved the comedy movie. So find the probability of the audience liking horror or action."
   ]
  },
  {
   "cell_type": "code",
   "execution_count": 7,
   "id": "b12b48bc",
   "metadata": {},
   "outputs": [
    {
     "data": {
      "text/plain": [
       "0.55"
      ]
     },
     "execution_count": 7,
     "metadata": {},
     "output_type": "execute_result"
    }
   ],
   "source": [
    "horror = 40\n",
    "action = 15\n",
    "Total = 100\n",
    "\n",
    "P_HoA = (horror/Total)+(action/Total)\n",
    "P_HoA"
   ]
  },
  {
   "cell_type": "markdown",
   "id": "1fd52dae",
   "metadata": {},
   "source": [
    "There is container with 4 blue triangles, 5 green squares, and 7 red circles. A single object is drawn at random from the container.  \n",
    "(i) The object is not a circle  \n",
    "(ii) The object is a triangle  \n",
    "(iii) The object is not a square  "
   ]
  },
  {
   "cell_type": "code",
   "execution_count": 1,
   "id": "77bd16cd",
   "metadata": {},
   "outputs": [
    {
     "data": {
      "text/plain": [
       "0.5625"
      ]
     },
     "execution_count": 1,
     "metadata": {},
     "output_type": "execute_result"
    }
   ],
   "source": [
    "blu_tri = 4\n",
    "gr_sq = 5\n",
    "rd_ci = 7\n",
    "total = 16\n",
    "\n",
    "# the object is not a circle\n",
    "P_notCi = (blu_tri/total)+(gr_sq/total)\n",
    "P_notCi"
   ]
  },
  {
   "cell_type": "code",
   "execution_count": 2,
   "id": "c4495e34",
   "metadata": {},
   "outputs": [
    {
     "data": {
      "text/plain": [
       "0.5625"
      ]
     },
     "execution_count": 2,
     "metadata": {},
     "output_type": "execute_result"
    }
   ],
   "source": [
    "P_not_ci = 1-(rd_ci/total)\n",
    "P_not_ci"
   ]
  },
  {
   "cell_type": "code",
   "execution_count": 9,
   "id": "2da98034",
   "metadata": {},
   "outputs": [
    {
     "data": {
      "text/plain": [
       "0.25"
      ]
     },
     "execution_count": 9,
     "metadata": {},
     "output_type": "execute_result"
    }
   ],
   "source": [
    "#2\n",
    "P_tri = blu_tri/total\n",
    "P_tri"
   ]
  },
  {
   "cell_type": "code",
   "execution_count": 10,
   "id": "93880194",
   "metadata": {},
   "outputs": [
    {
     "data": {
      "text/plain": [
       "0.6875"
      ]
     },
     "execution_count": 10,
     "metadata": {},
     "output_type": "execute_result"
    }
   ],
   "source": [
    "#3\n",
    "P_notSq = 1-(gr_sq/total)\n",
    "P_notSq"
   ]
  },
  {
   "cell_type": "markdown",
   "id": "a4a0d19c",
   "metadata": {},
   "source": [
    "### Conditional Probability\n",
    "Conditional probability is defined as the likelihood of an event or outcome occurring, based on the occurrence of a previous event or outcome."
   ]
  },
  {
   "cell_type": "markdown",
   "id": "6593cd06",
   "metadata": {},
   "source": [
    "60 of your friends like only Chocolates, and 30 like Chocolate AND like Icecream.10 friends like only IceCream.\n",
    "\n",
    "What percent of those who like Chocolate also like Ice cream?"
   ]
  },
  {
   "cell_type": "code",
   "execution_count": 11,
   "id": "b1a89699",
   "metadata": {},
   "outputs": [],
   "source": [
    "CI = 30\n",
    "C = 60\n",
    "I = 10\n",
    "\n",
    "total = 100"
   ]
  },
  {
   "cell_type": "code",
   "execution_count": 12,
   "id": "a766181b",
   "metadata": {},
   "outputs": [
    {
     "data": {
      "text/plain": [
       "0.3"
      ]
     },
     "execution_count": 12,
     "metadata": {},
     "output_type": "execute_result"
    }
   ],
   "source": [
    "P_CI = CI/total\n",
    "P_CI"
   ]
  },
  {
   "cell_type": "markdown",
   "id": "e2ffbe93",
   "metadata": {},
   "source": [
    "There are 200 birds in a zoo. 70 birds are male with brown eyes and 100 birds are female with brown eyes. 20 birds are male with blue eyes and 10 birds are female with blue eyes. Contruct a Contiguency table. If a bird is select at random, what is the probability that a bird is -\n",
    "1. A female?\n",
    "2. A male with brown eyes?\n",
    "3. A female given that it has brown eyes?\n",
    "4. A male given that it has blue eyes?\n",
    "5. A creature with blue eyes given that it's a female?"
   ]
  },
  {
   "cell_type": "code",
   "execution_count": 13,
   "id": "345f8cf8",
   "metadata": {},
   "outputs": [
    {
     "data": {
      "text/plain": [
       "0.55"
      ]
     },
     "execution_count": 13,
     "metadata": {},
     "output_type": "execute_result"
    }
   ],
   "source": [
    "#1.\n",
    "F = 110\n",
    "Total = 200\n",
    "\n",
    "P_F = F/Total\n",
    "P_F"
   ]
  },
  {
   "cell_type": "code",
   "execution_count": 15,
   "id": "7c4d2baa",
   "metadata": {},
   "outputs": [
    {
     "data": {
      "text/plain": [
       "0.35"
      ]
     },
     "execution_count": 15,
     "metadata": {},
     "output_type": "execute_result"
    }
   ],
   "source": [
    "#2. \n",
    "Total = 200\n",
    "\n",
    "M_br = 70\n",
    "\n",
    "P_MBr = M_br/Total\n",
    "P_MBr"
   ]
  },
  {
   "cell_type": "code",
   "execution_count": 16,
   "id": "5efa73c4",
   "metadata": {},
   "outputs": [
    {
     "data": {
      "text/plain": [
       "0.5882352941176471"
      ]
     },
     "execution_count": 16,
     "metadata": {},
     "output_type": "execute_result"
    }
   ],
   "source": [
    "brown = 170\n",
    "\n",
    "f_br = 100\n",
    "\n",
    "P_F_Br = f_br/brown\n",
    "P_F_Br"
   ]
  },
  {
   "cell_type": "code",
   "execution_count": 17,
   "id": "76e82967",
   "metadata": {},
   "outputs": [
    {
     "data": {
      "text/plain": [
       "0.6666666666666666"
      ]
     },
     "execution_count": 17,
     "metadata": {},
     "output_type": "execute_result"
    }
   ],
   "source": [
    "Blue = 30\n",
    "\n",
    "M_bl = 20\n",
    "\n",
    "P_M_Bl = M_bl/Blue\n",
    "P_M_Bl"
   ]
  },
  {
   "cell_type": "code",
   "execution_count": 18,
   "id": "1aba01e8",
   "metadata": {},
   "outputs": [
    {
     "data": {
      "text/plain": [
       "0.09090909090909091"
      ]
     },
     "execution_count": 18,
     "metadata": {},
     "output_type": "execute_result"
    }
   ],
   "source": [
    "Female = 110\n",
    "C_Bl_F = 10\n",
    "\n",
    "P_C_Bl_F = C_Bl_F/Female\n",
    "P_C_Bl_F"
   ]
  },
  {
   "cell_type": "markdown",
   "id": "d9023a7f",
   "metadata": {},
   "source": [
    "**Consider the below image for the below questions **\n",
    "<img src=\"image.png\">"
   ]
  },
  {
   "cell_type": "markdown",
   "id": "88b9ab0d",
   "metadata": {},
   "source": [
    "1. What is the probability that a boy likes both the dishes?"
   ]
  },
  {
   "cell_type": "code",
   "execution_count": 19,
   "id": "31e5cc23",
   "metadata": {},
   "outputs": [
    {
     "data": {
      "text/plain": [
       "45.16129032258064"
      ]
     },
     "execution_count": 19,
     "metadata": {},
     "output_type": "execute_result"
    }
   ],
   "source": [
    "B_PS = 70\n",
    "total = 155\n",
    "\n",
    "P_PS = B_PS/total\n",
    "P_PS*100"
   ]
  },
  {
   "cell_type": "markdown",
   "id": "fdaee7eb",
   "metadata": {},
   "source": [
    "2. What is the probability that the favourite dish for both boys and girls is sizzlers?"
   ]
  },
  {
   "cell_type": "code",
   "execution_count": 20,
   "id": "5c803b20",
   "metadata": {},
   "outputs": [
    {
     "data": {
      "text/plain": [
       "41.935483870967744"
      ]
     },
     "execution_count": 20,
     "metadata": {},
     "output_type": "execute_result"
    }
   ],
   "source": [
    "Sizzlers = 65\n",
    "P_sizzlers = Sizzlers/total\n",
    "P_sizzlers*100"
   ]
  },
  {
   "cell_type": "markdown",
   "id": "fae579e3",
   "metadata": {},
   "source": [
    "3. What is the probability that a girl is chosen given that the person likes Pizza?"
   ]
  },
  {
   "cell_type": "code",
   "execution_count": 21,
   "id": "faba148a",
   "metadata": {},
   "outputs": [
    {
     "data": {
      "text/plain": [
       "66.66666666666666"
      ]
     },
     "execution_count": 21,
     "metadata": {},
     "output_type": "execute_result"
    }
   ],
   "source": [
    "Pizza = 90\n",
    "Pi_g = 60\n",
    "\n",
    "P_G = Pi_g/Pizza\n",
    "P_G*100"
   ]
  },
  {
   "cell_type": "markdown",
   "id": "51802906",
   "metadata": {},
   "source": [
    "4. What is the probability that the favourite food is Pizza given that he is a boy?"
   ]
  },
  {
   "cell_type": "code",
   "execution_count": 22,
   "id": "c9f3778f",
   "metadata": {},
   "outputs": [
    {
     "data": {
      "text/plain": [
       "0.42857142857142855"
      ]
     },
     "execution_count": 22,
     "metadata": {},
     "output_type": "execute_result"
    }
   ],
   "source": [
    "boys = 70\n",
    "Pi_b = 30\n",
    "\n",
    "P_B = Pi_b/boys\n",
    "P_B"
   ]
  },
  {
   "cell_type": "code",
   "execution_count": null,
   "id": "ee54b958",
   "metadata": {},
   "outputs": [],
   "source": []
  },
  {
   "cell_type": "code",
   "execution_count": null,
   "id": "002aa860",
   "metadata": {},
   "outputs": [],
   "source": []
  },
  {
   "cell_type": "code",
   "execution_count": null,
   "id": "51f1e83d",
   "metadata": {},
   "outputs": [],
   "source": []
  },
  {
   "cell_type": "code",
   "execution_count": null,
   "id": "376104d1",
   "metadata": {},
   "outputs": [],
   "source": []
  }
 ],
 "metadata": {
  "kernelspec": {
   "display_name": "Python 3 (ipykernel)",
   "language": "python",
   "name": "python3"
  },
  "language_info": {
   "codemirror_mode": {
    "name": "ipython",
    "version": 3
   },
   "file_extension": ".py",
   "mimetype": "text/x-python",
   "name": "python",
   "nbconvert_exporter": "python",
   "pygments_lexer": "ipython3",
   "version": "3.11.3"
  }
 },
 "nbformat": 4,
 "nbformat_minor": 5
}
